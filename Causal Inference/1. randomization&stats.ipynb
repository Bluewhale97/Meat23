{
 "cells": [
  {
   "cell_type": "code",
   "execution_count": 9,
   "id": "cd8a6e77",
   "metadata": {},
   "outputs": [],
   "source": [
    "# install your library\n",
    "\n",
    "import warnings\n",
    "warnings.filterwarnings('ignore')\n",
    "\n",
    "import pandas as pd\n",
    "import numpy as np\n",
    "from scipy import stats\n",
    "import seaborn as sns\n",
    "from matplotlib import pyplot as plt\n",
    "from matplotlib import style\n",
    "import random"
   ]
  },
  {
   "cell_type": "code",
   "execution_count": null,
   "id": "170786b3",
   "metadata": {},
   "outputs": [],
   "source": [
    "path = \"C:/Users/zjy97/Downloads/python-causality-handbook-v1.0/matheusfacure-python-causality-handbook-f666303/causal-inference-for-the-brave-and-true/data/\""
   ]
  },
  {
   "cell_type": "code",
   "execution_count": null,
   "id": "927eaf3d",
   "metadata": {},
   "outputs": [],
   "source": [
    "# randomization helps to get rid of the impact of dependency, making sure each group is independent, no dependency"
   ]
  },
  {
   "cell_type": "code",
   "execution_count": null,
   "id": "b1c4bd01",
   "metadata": {},
   "outputs": [],
   "source": [
    "#1. How to randomize your data\n",
    "\n",
    "# np.random.normal(mean,std,# of data points) "
   ]
  },
  {
   "cell_type": "code",
   "execution_count": 38,
   "id": "5d6de5bf",
   "metadata": {},
   "outputs": [],
   "source": [
    "# case \n",
    "# load your data\n",
    "df = pd.read_csv(path+\"enem_scores.csv\")\n",
    "\n",
    "# now you could randomize\n",
    "randomized_df = df.sample(frac=1).reset_index(drop=True)"
   ]
  },
  {
   "cell_type": "code",
   "execution_count": 50,
   "id": "f444bdc3",
   "metadata": {},
   "outputs": [],
   "source": [
    "# 2. some statistics\n",
    "# 2.1 how to compute standard error\n",
    "data = pd.read_csv(path+'online_classroom.csv')\n",
    "online = data.query('format_ol==1')['falsexam']\n",
    "face_to_face = data.query('format_ol==0 & format_blended==0')['falsexam']\n",
    "\n",
    "def se(y:pd.Series):\n",
    "    return round(y.std()/np.sqrt(len(y)),2)\n",
    "\n",
    "print('SE for online', se(online))\n",
    "print('SE for face to face', se(face_to_face))"
   ]
  },
  {
   "cell_type": "code",
   "execution_count": 60,
   "id": "259b2e92",
   "metadata": {},
   "outputs": [],
   "source": [
    "# 2.2 how to compute confidence intervals\n",
    "se_online = online.sem()\n",
    "mu_online = online.mean()\n",
    "# ci = (mu_online - 2* se_online, mu_online + 2*se_online)\n",
    "ci = (mu_online - 2* se_online, mu_online + 2*se_online)"
   ]
  },
  {
   "cell_type": "code",
   "execution_count": 65,
   "id": "292279ac",
   "metadata": {},
   "outputs": [],
   "source": [
    "# 2.3 use confidence intervals to do hypothesis testing\n",
    "# let's play a random experiment\n",
    "diff_mu = online.mean() - face_to_face.mean()\n",
    "diff_se = np.sqrt(face_to_face.var()/len(face_to_face) + online.var()/len(online))\n",
    "ci = (diff_mu - 1.96*diff_se, diff_mu+1.96*diff_se) # building the 95% CI \n",
    "ci #(-8.376410208363385, -1.4480327880905248), contains 0 so at 95% confidence we think there is a difference"
   ]
  },
  {
   "cell_type": "code",
   "execution_count": 68,
   "id": "7b24f205",
   "metadata": {},
   "outputs": [
    {
     "data": {
      "text/plain": [
       "-2.7792810791031224"
      ]
     },
     "execution_count": 68,
     "metadata": {},
     "output_type": "execute_result"
    }
   ],
   "source": [
    "# 2.4 use Z statistic as a point estimate for testing\n",
    "Z = diff_mu/diff_se #\n",
    "Z # falls below mu-2*se, then reject the null hypothesis with 95% confidence, because z test is based on confidence interval, \n",
    "# if z is not in the range of CI, we should then reject it"
   ]
  },
  {
   "cell_type": "code",
   "execution_count": 72,
   "id": "eeb9c7b0",
   "metadata": {},
   "outputs": [
    {
     "data": {
      "text/plain": [
       "0.0027239680835563383"
      ]
     },
     "execution_count": 72,
     "metadata": {},
     "output_type": "execute_result"
    }
   ],
   "source": [
    "# 2.5 use P value for testing \n",
    "stats.norm.cdf(Z) # far less than 0.5%, we could reject\n",
    "# the mechanism is that when H0 is True, p value describes how likely you are seeing a measurement if the H0 is True\n",
    "# it is a possibility or an area of the tail\n",
    "# if not likely(means p value or the possibility is very low), \n",
    "# you should reject it because you cant see the extreme case that should be there"
   ]
  },
  {
   "cell_type": "code",
   "execution_count": null,
   "id": "57e67808",
   "metadata": {},
   "outputs": [],
   "source": []
  }
 ],
 "metadata": {
  "kernelspec": {
   "display_name": "Python 3 (ipykernel)",
   "language": "python",
   "name": "python3"
  },
  "language_info": {
   "codemirror_mode": {
    "name": "ipython",
    "version": 3
   },
   "file_extension": ".py",
   "mimetype": "text/x-python",
   "name": "python",
   "nbconvert_exporter": "python",
   "pygments_lexer": "ipython3",
   "version": "3.11.3"
  }
 },
 "nbformat": 4,
 "nbformat_minor": 5
}
