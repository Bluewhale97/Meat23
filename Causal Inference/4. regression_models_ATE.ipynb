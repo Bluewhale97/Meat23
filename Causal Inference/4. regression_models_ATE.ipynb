{
 "cells": [
  {
   "cell_type": "code",
   "execution_count": 78,
   "id": "2864caf5",
   "metadata": {},
   "outputs": [],
   "source": [
    "# install your library\n",
    "\n",
    "import warnings\n",
    "warnings.filterwarnings('ignore')\n",
    "\n",
    "import pandas as pd\n",
    "import numpy as np\n",
    "import statsmodels.formula.api as smf\n",
    "import graphviz as gr\n",
    "import random"
   ]
  },
  {
   "cell_type": "code",
   "execution_count": 79,
   "id": "88c34a1e",
   "metadata": {},
   "outputs": [],
   "source": [
    "path = \"C:/Users/zjy97/Downloads/python-causality-handbook-v1.0/matheusfacure-python-causality-handbook-f666303/causal-inference-for-the-brave-and-true/data/\""
   ]
  },
  {
   "cell_type": "code",
   "execution_count": 80,
   "id": "f9c1d0fd",
   "metadata": {},
   "outputs": [],
   "source": [
    "# 1. Use linear regression to get rid of confouding concerns\n",
    "# try to include more features that are not correlated to your treatment\n",
    "\n",
    "wage = pd.read_csv(path+'wage.csv').dropna()"
   ]
  },
  {
   "cell_type": "code",
   "execution_count": 81,
   "id": "0ef44247",
   "metadata": {},
   "outputs": [
    {
     "data": {
      "text/html": [
       "<table class=\"simpletable\">\n",
       "<tr>\n",
       "      <td></td>         <th>coef</th>     <th>std err</th>      <th>t</th>      <th>P>|t|</th>  <th>[0.025</th>    <th>0.975]</th>  \n",
       "</tr>\n",
       "<tr>\n",
       "  <th>Intercept</th> <td>   77.8555</td> <td>    0.762</td> <td>  102.235</td> <td> 0.000</td> <td>   76.357</td> <td>   79.354</td>\n",
       "</tr>\n",
       "<tr>\n",
       "  <th>format_ol</th> <td>   -4.2203</td> <td>    1.412</td> <td>   -2.990</td> <td> 0.003</td> <td>   -6.998</td> <td>   -1.443</td>\n",
       "</tr>\n",
       "</table>"
      ],
      "text/plain": [
       "<class 'statsmodels.iolib.table.SimpleTable'>"
      ]
     },
     "execution_count": 81,
     "metadata": {},
     "output_type": "execute_result"
    }
   ],
   "source": [
    "result = smf.ols('falsexam ~ format_ol', data=data).fit()\n",
    "result.summary().tables[1]# the coef -4.2203 is the ate"
   ]
  },
  {
   "cell_type": "code",
   "execution_count": null,
   "id": "3ca3fec7",
   "metadata": {},
   "outputs": [],
   "source": [
    "# 2. Use the grouped and dummy regression for causal inference"
   ]
  },
  {
   "cell_type": "code",
   "execution_count": 84,
   "id": "e7c25f38",
   "metadata": {},
   "outputs": [
    {
     "data": {
      "text/html": [
       "<table class=\"simpletable\">\n",
       "<tr>\n",
       "      <td></td>         <th>coef</th>     <th>std err</th>      <th>t</th>      <th>P>|t|</th>  <th>[0.025</th>    <th>0.975]</th>  \n",
       "</tr>\n",
       "<tr>\n",
       "  <th>Intercept</th> <td>    2.3071</td> <td>    0.104</td> <td>   22.089</td> <td> 0.000</td> <td>    2.102</td> <td>    2.512</td>\n",
       "</tr>\n",
       "<tr>\n",
       "  <th>educ</th>      <td>    0.0536</td> <td>    0.008</td> <td>    7.114</td> <td> 0.000</td> <td>    0.039</td> <td>    0.068</td>\n",
       "</tr>\n",
       "</table>"
      ],
      "text/plain": [
       "<class 'statsmodels.iolib.table.SimpleTable'>"
      ]
     },
     "execution_count": 84,
     "metadata": {},
     "output_type": "execute_result"
    }
   ],
   "source": [
    "# let's still use the wage data\n",
    "# 2.1 run a regression model to figure out how education is associated with log hourly wages\n",
    "model_1 = smf.ols('lhwage ~ educ', data=wage).fit()\n",
    "model_1.summary().tables[1]"
   ]
  },
  {
   "cell_type": "code",
   "execution_count": 94,
   "id": "f9bed0a4",
   "metadata": {},
   "outputs": [
    {
     "data": {
      "text/html": [
       "<table class=\"simpletable\">\n",
       "<tr>\n",
       "      <td></td>         <th>coef</th>     <th>std err</th>      <th>t</th>      <th>P>|t|</th>  <th>[0.025</th>    <th>0.975]</th>  \n",
       "</tr>\n",
       "<tr>\n",
       "  <th>Intercept</th> <td>    2.3071</td> <td>    0.108</td> <td>   21.321</td> <td> 0.000</td> <td>    2.058</td> <td>    2.557</td>\n",
       "</tr>\n",
       "<tr>\n",
       "  <th>educ</th>      <td>    0.0536</td> <td>    0.008</td> <td>    6.867</td> <td> 0.000</td> <td>    0.036</td> <td>    0.072</td>\n",
       "</tr>\n",
       "</table>"
      ],
      "text/plain": [
       "<class 'statsmodels.iolib.table.SimpleTable'>"
      ]
     },
     "execution_count": 94,
     "metadata": {},
     "output_type": "execute_result"
    }
   ],
   "source": [
    "# 2.2 we still need to solve confouding issue, one method is to use grouped regression, let's try\n",
    "group_wage = (wage.\n",
    "              assign(count=1).\n",
    "              groupby('educ').\n",
    "              agg({'lhwage':'mean','count':'count'}).\n",
    "              reset_index())\n",
    "model_2 = smf.wls('lhwage ~ educ', data=group_wage, weights=group_wage['count']).fit()\n",
    "model_2.summary().tables[1]\n",
    "\n",
    "# actually you can use more columns to do grouping, that is equal to do dummy regression"
   ]
  },
  {
   "cell_type": "code",
   "execution_count": 95,
   "id": "e853605e",
   "metadata": {},
   "outputs": [],
   "source": [
    "# 2.3 dummy regression\n",
    "# by this, you can contain more columns into your regression and consider the impact of confoudings\n",
    "\n",
    "# for example, consider the impact from graduating 12th grade on hourlywage\n",
    "new_wage = (wage\n",
    "           .assign(hwage=lambda d:d['wage'] / d['hours'])\n",
    "           .assign(T=lambda d: (d['educ']>12).astype(int))\n",
    "           )"
   ]
  },
  {
   "cell_type": "code",
   "execution_count": 98,
   "id": "37bda33d",
   "metadata": {},
   "outputs": [
    {
     "data": {
      "text/html": [
       "<table class=\"simpletable\">\n",
       "<tr>\n",
       "      <td></td>         <th>coef</th>     <th>std err</th>      <th>t</th>      <th>P>|t|</th>  <th>[0.025</th>    <th>0.975]</th>  \n",
       "</tr>\n",
       "<tr>\n",
       "  <th>Intercept</th> <td>    7.9891</td> <td>    3.986</td> <td>    2.004</td> <td> 0.045</td> <td>    0.162</td> <td>   15.816</td>\n",
       "</tr>\n",
       "<tr>\n",
       "  <th>T</th>         <td>    3.9215</td> <td>    6.027</td> <td>    0.651</td> <td> 0.515</td> <td>   -7.913</td> <td>   15.756</td>\n",
       "</tr>\n",
       "<tr>\n",
       "  <th>IQ</th>        <td>    0.1302</td> <td>    0.042</td> <td>    3.135</td> <td> 0.002</td> <td>    0.049</td> <td>    0.212</td>\n",
       "</tr>\n",
       "<tr>\n",
       "  <th>T:IQ</th>      <td>   -0.0065</td> <td>    0.058</td> <td>   -0.112</td> <td> 0.911</td> <td>   -0.121</td> <td>    0.108</td>\n",
       "</tr>\n",
       "</table>"
      ],
      "text/plain": [
       "<class 'statsmodels.iolib.table.SimpleTable'>"
      ]
     },
     "execution_count": 98,
     "metadata": {},
     "output_type": "execute_result"
    }
   ],
   "source": [
    "smf.ols('hwage ~ T*IQ', data=new_wage).fit().summary().tables[1]# T*IQ considers the interactions between, but T+IQ doesnt\n",
    "\n",
    "# you can make more dummy variables into it to get it work"
   ]
  }
 ],
 "metadata": {
  "kernelspec": {
   "display_name": "Python 3 (ipykernel)",
   "language": "python",
   "name": "python3"
  },
  "language_info": {
   "codemirror_mode": {
    "name": "ipython",
    "version": 3
   },
   "file_extension": ".py",
   "mimetype": "text/x-python",
   "name": "python",
   "nbconvert_exporter": "python",
   "pygments_lexer": "ipython3",
   "version": "3.11.3"
  }
 },
 "nbformat": 4,
 "nbformat_minor": 5
}
