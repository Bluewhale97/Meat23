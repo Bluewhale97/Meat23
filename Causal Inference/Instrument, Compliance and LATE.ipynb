{
 "cells": [
  {
   "cell_type": "code",
   "execution_count": 127,
   "id": "c559c9fd",
   "metadata": {},
   "outputs": [],
   "source": [
    "# install your library\n",
    "\n",
    "import warnings\n",
    "warnings.filterwarnings('ignore')\n",
    "\n",
    "import pandas as pd\n",
    "import numpy as np\n",
    "import statsmodels.formula.api as smf\n",
    "import graphviz as gr\n",
    "import random"
   ]
  },
  {
   "cell_type": "code",
   "execution_count": 128,
   "id": "f574ed0c",
   "metadata": {},
   "outputs": [],
   "source": [
    "path = \"C:/Users/zjy97/Downloads/python-causality-handbook-v1.0/matheusfacure-python-causality-handbook-f666303/causal-inference-for-the-brave-and-true/data/\""
   ]
  },
  {
   "cell_type": "code",
   "execution_count": null,
   "id": "ac98f786",
   "metadata": {},
   "outputs": [],
   "source": [
    "# 1. non compliance\n",
    "# what is non compliance, that means the actual treatment the candidates received is not the same as the assigned treatment\n",
    "\n",
    "# we cannot directly use treatment assigned nor treatment received to estimate ATE, because there are might be confounders that\n",
    "# have impact on treatment received, but we can use treatment assigned as an instrument to do 2SLS\n"
   ]
  },
  {
   "cell_type": "code",
   "execution_count": 134,
   "id": "cfc15f70",
   "metadata": {},
   "outputs": [
    {
     "data": {
      "text/html": [
       "<div>\n",
       "<style scoped>\n",
       "    .dataframe tbody tr th:only-of-type {\n",
       "        vertical-align: middle;\n",
       "    }\n",
       "\n",
       "    .dataframe tbody tr th {\n",
       "        vertical-align: top;\n",
       "    }\n",
       "\n",
       "    .dataframe thead th {\n",
       "        text-align: right;\n",
       "    }\n",
       "</style>\n",
       "<table border=\"1\" class=\"dataframe\">\n",
       "  <thead>\n",
       "    <tr style=\"text-align: right;\">\n",
       "      <th></th>\n",
       "      <th>in_app_purchase</th>\n",
       "      <th>push_assigned</th>\n",
       "      <th>push_delivered</th>\n",
       "    </tr>\n",
       "  </thead>\n",
       "  <tbody>\n",
       "    <tr>\n",
       "      <th>0</th>\n",
       "      <td>47</td>\n",
       "      <td>1</td>\n",
       "      <td>1</td>\n",
       "    </tr>\n",
       "    <tr>\n",
       "      <th>1</th>\n",
       "      <td>43</td>\n",
       "      <td>1</td>\n",
       "      <td>0</td>\n",
       "    </tr>\n",
       "    <tr>\n",
       "      <th>2</th>\n",
       "      <td>51</td>\n",
       "      <td>1</td>\n",
       "      <td>1</td>\n",
       "    </tr>\n",
       "    <tr>\n",
       "      <th>3</th>\n",
       "      <td>49</td>\n",
       "      <td>0</td>\n",
       "      <td>0</td>\n",
       "    </tr>\n",
       "    <tr>\n",
       "      <th>4</th>\n",
       "      <td>79</td>\n",
       "      <td>0</td>\n",
       "      <td>0</td>\n",
       "    </tr>\n",
       "  </tbody>\n",
       "</table>\n",
       "</div>"
      ],
      "text/plain": [
       "   in_app_purchase  push_assigned  push_delivered\n",
       "0               47              1               1\n",
       "1               43              1               0\n",
       "2               51              1               1\n",
       "3               49              0               0\n",
       "4               79              0               0"
      ]
     },
     "execution_count": 134,
     "metadata": {},
     "output_type": "execute_result"
    }
   ],
   "source": [
    "# 2. IV as a causal chain\n",
    "\n",
    "data = pd.read_csv(path+'app_engagement_push.csv')\n",
    "\n",
    "data.head()"
   ]
  },
  {
   "cell_type": "code",
   "execution_count": 137,
   "id": "4d129338",
   "metadata": {},
   "outputs": [
    {
     "data": {
      "text/html": [
       "<table class=\"simpletable\">\n",
       "<caption>Parameter Estimates</caption>\n",
       "<tr>\n",
       "         <td></td>        <th>Parameter</th> <th>Std. Err.</th> <th>T-stat</th>  <th>P-value</th> <th>Lower CI</th> <th>Upper CI</th>\n",
       "</tr>\n",
       "<tr>\n",
       "  <th>Intercept</th>       <td>69.292</td>    <td>0.3624</td>   <td>191.22</td>  <td>0.0000</td>   <td>68.581</td>   <td>70.002</td> \n",
       "</tr>\n",
       "<tr>\n",
       "  <th>push_assigned</th>   <td>-17.441</td>   <td>0.5702</td>   <td>-30.590</td> <td>0.0000</td>   <td>-18.559</td>  <td>-16.324</td>\n",
       "</tr>\n",
       "<tr>\n",
       "  <th>push_delivered</th>  <td>27.600</td>    <td>0.6124</td>   <td>45.069</td>  <td>0.0000</td>   <td>26.399</td>   <td>28.800</td> \n",
       "</tr>\n",
       "</table>"
      ],
      "text/plain": [
       "<class 'statsmodels.iolib.table.SimpleTable'>"
      ]
     },
     "execution_count": 137,
     "metadata": {},
     "output_type": "execute_result"
    }
   ],
   "source": [
    "ols = IV2SLS.from_formula('in_app_purchase ~ 1 + push_assigned + push_delivered', data).fit()\n",
    "ols.summary.tables[1] # this is just a simple OLS, saying that the ATE is BRL 27.60, but for sure it is biased"
   ]
  },
  {
   "cell_type": "code",
   "execution_count": 138,
   "id": "08aa11a1",
   "metadata": {},
   "outputs": [
    {
     "data": {
      "text/html": [
       "<table class=\"simpletable\">\n",
       "<caption>Parameter Estimates</caption>\n",
       "<tr>\n",
       "        <td></td>        <th>Parameter</th> <th>Std. Err.</th>  <th>T-stat</th>   <th>P-value</th> <th>Lower CI</th> <th>Upper CI</th>\n",
       "</tr>\n",
       "<tr>\n",
       "  <th>Intercept</th>     <td>-1.11e-16</td> <td>        </td>  <td>        </td> <td>        </td> <td>        </td> <td>        </td>\n",
       "</tr>\n",
       "<tr>\n",
       "  <th>push_assigned</th>  <td>0.7176</td>    <td>0.0064</td>    <td>112.07</td>   <td>0.0000</td>   <td>0.7050</td>   <td>0.7301</td> \n",
       "</tr>\n",
       "</table>"
      ],
      "text/plain": [
       "<class 'statsmodels.iolib.table.SimpleTable'>"
      ]
     },
     "execution_count": 138,
     "metadata": {},
     "output_type": "execute_result"
    }
   ],
   "source": [
    "# let's try to estimate this effect with instrumental variables\n",
    "first_stage = IV2SLS.from_formula('push_delivered ~ 1 + push_assigned', data).fit()\n",
    "first_stage.summary.tables[1]"
   ]
  },
  {
   "cell_type": "code",
   "execution_count": 139,
   "id": "36393b70",
   "metadata": {},
   "outputs": [
    {
     "data": {
      "text/html": [
       "<table class=\"simpletable\">\n",
       "<caption>Parameter Estimates</caption>\n",
       "<tr>\n",
       "        <td></td>        <th>Parameter</th> <th>Std. Err.</th> <th>T-stat</th> <th>P-value</th> <th>Lower CI</th> <th>Upper CI</th>\n",
       "</tr>\n",
       "<tr>\n",
       "  <th>Intercept</th>      <td>69.292</td>    <td>0.3624</td>   <td>191.22</td> <td>0.0000</td>   <td>68.581</td>   <td>70.002</td> \n",
       "</tr>\n",
       "<tr>\n",
       "  <th>push_assigned</th>  <td>2.3636</td>    <td>0.5209</td>   <td>4.5376</td> <td>0.0000</td>   <td>1.3427</td>   <td>3.3845</td> \n",
       "</tr>\n",
       "</table>"
      ],
      "text/plain": [
       "<class 'statsmodels.iolib.table.SimpleTable'>"
      ]
     },
     "execution_count": 139,
     "metadata": {},
     "output_type": "execute_result"
    }
   ],
   "source": [
    "# reduced form\n",
    "reduced_form = IV2SLS.from_formula('in_app_purchase ~ 1 + push_assigned',data).fit()\n",
    "reduced_form.summary.tables[1] # 2.3636, then reduced_form/first_stage = 2.3636/0.7136 = 3.29"
   ]
  },
  {
   "cell_type": "code",
   "execution_count": 140,
   "id": "4d737bb5",
   "metadata": {},
   "outputs": [
    {
     "data": {
      "text/html": [
       "<table class=\"simpletable\">\n",
       "<caption>Parameter Estimates</caption>\n",
       "<tr>\n",
       "         <td></td>        <th>Parameter</th> <th>Std. Err.</th> <th>T-stat</th> <th>P-value</th> <th>Lower CI</th> <th>Upper CI</th>\n",
       "</tr>\n",
       "<tr>\n",
       "  <th>Intercept</th>       <td>69.292</td>    <td>0.3624</td>   <td>191.22</td> <td>0.0000</td>   <td>68.581</td>   <td>70.002</td> \n",
       "</tr>\n",
       "<tr>\n",
       "  <th>push_delivered</th>  <td>3.2938</td>    <td>0.7165</td>   <td>4.5974</td> <td>0.0000</td>   <td>1.8896</td>   <td>4.6981</td> \n",
       "</tr>\n",
       "</table>"
      ],
      "text/plain": [
       "<class 'statsmodels.iolib.table.SimpleTable'>"
      ]
     },
     "execution_count": 140,
     "metadata": {},
     "output_type": "execute_result"
    }
   ],
   "source": [
    "# let directly do 2SLS\n",
    "iv = IV2SLS.from_formula(\"in_app_purchase ~ 1 + [push_delivered ~ push_assigned]\", data).fit()\n",
    "iv.summary.tables[1] # 3.2938, similar to above"
   ]
  },
  {
   "cell_type": "code",
   "execution_count": null,
   "id": "e8aa38d5",
   "metadata": {},
   "outputs": [],
   "source": [
    "# 3. what is causal chain and instrument\n",
    "\n",
    "# instrument causes treatment and treatment causes the outcome, we say this is a chain, called causal chain\n",
    "\n",
    "\n",
    "\n",
    "# 4. compliers, never takers, always takers, defiers\n",
    "# compliers: stick to what was assigned to them\n",
    "# never takers: never taken anything\n",
    "# always takers: always take the new durg when they were assigned to the placebo\n",
    "# defiers, you want him to take one, he alwasy takes another one"
   ]
  },
  {
   "cell_type": "code",
   "execution_count": null,
   "id": "d3212d30",
   "metadata": {},
   "outputs": [],
   "source": [
    "# 5. ATE and LATE\n",
    "\n",
    "# now you know what is compliers\n",
    "# so like a causal chain, you have that instrument, but that instrument only consider the case of compliers\n",
    "# the ATE made by this causal chain thru 2SLS is actually LATE local average treatment effect, not ATE\n",
    "# because ATE considers both compliers and non-compliers"
   ]
  }
 ],
 "metadata": {
  "kernelspec": {
   "display_name": "Python 3 (ipykernel)",
   "language": "python",
   "name": "python3"
  },
  "language_info": {
   "codemirror_mode": {
    "name": "ipython",
    "version": 3
   },
   "file_extension": ".py",
   "mimetype": "text/x-python",
   "name": "python",
   "nbconvert_exporter": "python",
   "pygments_lexer": "ipython3",
   "version": "3.11.3"
  }
 },
 "nbformat": 4,
 "nbformat_minor": 5
}
