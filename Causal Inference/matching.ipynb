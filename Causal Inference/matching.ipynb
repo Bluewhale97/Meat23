{
 "cells": [
  {
   "cell_type": "code",
   "execution_count": 127,
   "id": "821e43b8",
   "metadata": {},
   "outputs": [],
   "source": [
    "# install your library\n",
    "\n",
    "import warnings\n",
    "warnings.filterwarnings('ignore')\n",
    "\n",
    "import pandas as pd\n",
    "import numpy as np\n",
    "import statsmodels.formula.api as smf\n",
    "import graphviz as gr\n",
    "import random"
   ]
  },
  {
   "cell_type": "code",
   "execution_count": 128,
   "id": "8f4b8897",
   "metadata": {},
   "outputs": [],
   "source": [
    "path = \"C:/Users/zjy97/Downloads/python-causality-handbook-v1.0/matheusfacure-python-causality-handbook-f666303/causal-inference-for-the-brave-and-true/data/\""
   ]
  },
  {
   "cell_type": "code",
   "execution_count": 145,
   "id": "0287a07b",
   "metadata": {},
   "outputs": [
    {
     "data": {
      "text/plain": [
       "2457.8947368421054"
      ]
     },
     "execution_count": 145,
     "metadata": {},
     "output_type": "execute_result"
    }
   ],
   "source": [
    "# 1. what is matching estimator\n",
    "\n",
    "# some confounders make the treated and untreated are not initially comparable, they have bias, so we can make them by matching\n",
    "# each treated unit with a similar untreated unit\n",
    "\n",
    "# case:\n",
    "trainee = pd.read_csv(path+'trainees.csv')\n",
    "\n",
    "# if we assume there is no bias, the mean difference between y0 and y1 and ATE\n",
    "trainee.query('trainees==1')['earnings'].mean() - trainee.query('trainees==0')['earnings'].mean()# -4297.493734\n",
    "\n",
    "# see how matched datasets looks like for the first 7 units\n",
    "unique_on_age = (trainee\n",
    "                .query('trainees==0')\n",
    "                .drop_duplicates('age'))\n",
    "matches = (trainee\n",
    "          .query('trainees==1')\n",
    "          .merge(unique_on_age, on='age', how='left', suffixes=('_t_1', '_t_0'))\n",
    "          .assign(t1_minuts_t0 = lambda d: d[\"earnings_t_1\"] - d[\"earnings_t_0\"]))\n",
    "\n",
    "# now we can get ATET estimate while controlling for age\n",
    "matches['t1_minuts_t0'].mean()\n",
    "\n",
    "\n",
    "# 2. how to run a matching"
   ]
  },
  {
   "cell_type": "code",
   "execution_count": 146,
   "id": "56592b6c",
   "metadata": {},
   "outputs": [
    {
     "data": {
      "text/plain": [
       "16.895799546498726"
      ]
     },
     "execution_count": 146,
     "metadata": {},
     "output_type": "execute_result"
    }
   ],
   "source": [
    "med = pd.read_csv(path+'medicine_impact_recovery.csv')\n",
    "\n",
    "# let's try to compute the mean difference between the treatment\n",
    "med.query('medication==1')['recovery'].mean() - med.query('medication==0')['recovery'].mean()# 16.89"
   ]
  },
  {
   "cell_type": "code",
   "execution_count": 148,
   "id": "138a6d7d",
   "metadata": {},
   "outputs": [
    {
     "data": {
      "text/html": [
       "<div>\n",
       "<style scoped>\n",
       "    .dataframe tbody tr th:only-of-type {\n",
       "        vertical-align: middle;\n",
       "    }\n",
       "\n",
       "    .dataframe tbody tr th {\n",
       "        vertical-align: top;\n",
       "    }\n",
       "\n",
       "    .dataframe thead th {\n",
       "        text-align: right;\n",
       "    }\n",
       "</style>\n",
       "<table border=\"1\" class=\"dataframe\">\n",
       "  <thead>\n",
       "    <tr style=\"text-align: right;\">\n",
       "      <th></th>\n",
       "      <th>sex</th>\n",
       "      <th>age</th>\n",
       "      <th>severity</th>\n",
       "      <th>medication</th>\n",
       "      <th>recovery</th>\n",
       "      <th>match</th>\n",
       "    </tr>\n",
       "  </thead>\n",
       "  <tbody>\n",
       "    <tr>\n",
       "      <th>0</th>\n",
       "      <td>0</td>\n",
       "      <td>35.049134</td>\n",
       "      <td>0.887658</td>\n",
       "      <td>1</td>\n",
       "      <td>31</td>\n",
       "      <td>38.0</td>\n",
       "    </tr>\n",
       "    <tr>\n",
       "      <th>1</th>\n",
       "      <td>1</td>\n",
       "      <td>41.580323</td>\n",
       "      <td>0.899784</td>\n",
       "      <td>1</td>\n",
       "      <td>49</td>\n",
       "      <td>49.0</td>\n",
       "    </tr>\n",
       "    <tr>\n",
       "      <th>7</th>\n",
       "      <td>0</td>\n",
       "      <td>48.616165</td>\n",
       "      <td>0.832912</td>\n",
       "      <td>1</td>\n",
       "      <td>38</td>\n",
       "      <td>45.0</td>\n",
       "    </tr>\n",
       "    <tr>\n",
       "      <th>10</th>\n",
       "      <td>1</td>\n",
       "      <td>30.721868</td>\n",
       "      <td>0.626067</td>\n",
       "      <td>1</td>\n",
       "      <td>34</td>\n",
       "      <td>42.0</td>\n",
       "    </tr>\n",
       "    <tr>\n",
       "      <th>16</th>\n",
       "      <td>0</td>\n",
       "      <td>32.392880</td>\n",
       "      <td>0.878765</td>\n",
       "      <td>1</td>\n",
       "      <td>30</td>\n",
       "      <td>36.0</td>\n",
       "    </tr>\n",
       "  </tbody>\n",
       "</table>\n",
       "</div>"
      ],
      "text/plain": [
       "    sex        age  severity  medication  recovery  match\n",
       "0     0  35.049134  0.887658           1        31   38.0\n",
       "1     1  41.580323  0.899784           1        49   49.0\n",
       "7     0  48.616165  0.832912           1        38   45.0\n",
       "10    1  30.721868  0.626067           1        34   42.0\n",
       "16    0  32.392880  0.878765           1        30   36.0"
      ]
     },
     "execution_count": 148,
     "metadata": {},
     "output_type": "execute_result"
    }
   ],
   "source": [
    "# the first step is to respectively run two models for treatment\n",
    "\n",
    "from sklearn.neighbors import KNeighborsRegressor\n",
    "\n",
    "treated = med.query('medication==1')\n",
    "untreated = med.query('medication==0')\n",
    "\n",
    "X = ['severity','age','sex']\n",
    "y = 'recovery'\n",
    "\n",
    "mt0 = KNeighborsRegressor(n_neighbors=1).fit(untreated[X], untreated[y])\n",
    "\n",
    "mt1 = KNeighborsRegressor(n_neighbors=1).fit(treated[X], treated[y])\n",
    "\n",
    "predicted = pd.concat([\n",
    "    # find matches for the treated looking at the untreated knn model\n",
    "    treated.assign(match=mt0.predict(treated[X])),\n",
    "    \n",
    "    # find matches for the untreated looking at the treated knn model\n",
    "    untreated.assign(match=mt1.predict(untreated[X]))\n",
    "])\n",
    "\n",
    "predicted.head()"
   ]
  },
  {
   "cell_type": "code",
   "execution_count": 152,
   "id": "335c7c24",
   "metadata": {},
   "outputs": [
    {
     "data": {
      "text/html": [
       "<div>\n",
       "<style scoped>\n",
       "    .dataframe tbody tr th:only-of-type {\n",
       "        vertical-align: middle;\n",
       "    }\n",
       "\n",
       "    .dataframe tbody tr th {\n",
       "        vertical-align: top;\n",
       "    }\n",
       "\n",
       "    .dataframe thead th {\n",
       "        text-align: right;\n",
       "    }\n",
       "</style>\n",
       "<table border=\"1\" class=\"dataframe\">\n",
       "  <thead>\n",
       "    <tr style=\"text-align: right;\">\n",
       "      <th></th>\n",
       "      <th>sex</th>\n",
       "      <th>age</th>\n",
       "      <th>severity</th>\n",
       "      <th>medication</th>\n",
       "      <th>recovery</th>\n",
       "      <th>match</th>\n",
       "      <th>bias_correct</th>\n",
       "    </tr>\n",
       "  </thead>\n",
       "  <tbody>\n",
       "    <tr>\n",
       "      <th>0</th>\n",
       "      <td>0</td>\n",
       "      <td>35.049134</td>\n",
       "      <td>0.887658</td>\n",
       "      <td>1</td>\n",
       "      <td>31</td>\n",
       "      <td>38.0</td>\n",
       "      <td>8.212670</td>\n",
       "    </tr>\n",
       "    <tr>\n",
       "      <th>1</th>\n",
       "      <td>1</td>\n",
       "      <td>41.580323</td>\n",
       "      <td>0.899784</td>\n",
       "      <td>1</td>\n",
       "      <td>49</td>\n",
       "      <td>49.0</td>\n",
       "      <td>19.169009</td>\n",
       "    </tr>\n",
       "    <tr>\n",
       "      <th>7</th>\n",
       "      <td>0</td>\n",
       "      <td>48.616165</td>\n",
       "      <td>0.832912</td>\n",
       "      <td>1</td>\n",
       "      <td>38</td>\n",
       "      <td>45.0</td>\n",
       "      <td>8.170534</td>\n",
       "    </tr>\n",
       "    <tr>\n",
       "      <th>10</th>\n",
       "      <td>1</td>\n",
       "      <td>30.721868</td>\n",
       "      <td>0.626067</td>\n",
       "      <td>1</td>\n",
       "      <td>34</td>\n",
       "      <td>42.0</td>\n",
       "      <td>3.768854</td>\n",
       "    </tr>\n",
       "    <tr>\n",
       "      <th>16</th>\n",
       "      <td>0</td>\n",
       "      <td>32.392880</td>\n",
       "      <td>0.878765</td>\n",
       "      <td>1</td>\n",
       "      <td>30</td>\n",
       "      <td>36.0</td>\n",
       "      <td>9.317305</td>\n",
       "    </tr>\n",
       "  </tbody>\n",
       "</table>\n",
       "</div>"
      ],
      "text/plain": [
       "    sex        age  severity  medication  recovery  match  bias_correct\n",
       "0     0  35.049134  0.887658           1        31   38.0      8.212670\n",
       "1     1  41.580323  0.899784           1        49   49.0     19.169009\n",
       "7     0  48.616165  0.832912           1        38   45.0      8.170534\n",
       "10    1  30.721868  0.626067           1        34   42.0      3.768854\n",
       "16    0  32.392880  0.878765           1        30   36.0      9.317305"
      ]
     },
     "execution_count": 152,
     "metadata": {},
     "output_type": "execute_result"
    }
   ],
   "source": [
    "# the second step is to use matching estimator formula to compute ATE\n",
    "# the mean of [(2T-1)*(predicted - actual)]\n",
    "np.mean((2*predicted[\"medication\"] - 1)*(predicted[\"recovery\"] - predicted[\"match\"]))#1.0707, but it still has matching bias\n",
    "\n",
    "# matching bias are from the mean difference of y0 when taking or not taking the treatment\n",
    "# so we need to get rid of it by minusing treated and untreated with their mean(made by ols)\n",
    "\n",
    "# for example\n",
    "from sklearn.linear_model import LinearRegression\n",
    "\n",
    "# fit the linear regression model to estimate mu_0(x)\n",
    "ols0 = LinearRegression().fit(untreated[X], untreated[y])\n",
    "ols1 = LinearRegression().fit(treated[X], treated[y])\n",
    "\n",
    "# find the units that match to the treated\n",
    "treated_match_index = mt0.kneighbors(treated[X], n_neighbors=1)[1].ravel()\n",
    "\n",
    "# find the units that match to the untreatd\n",
    "untreated_match_index = mt1.kneighbors(untreated[X], n_neighbors=1)[1].ravel()\n",
    "\n",
    "predicted = pd.concat([\n",
    "    (treated\n",
    "     # find the Y match on the other group\n",
    "     .assign(match=mt0.predict(treated[X])) \n",
    "     \n",
    "     # build the bias correction term\n",
    "     .assign(bias_correct=ols0.predict(treated[X]) - ols0.predict(untreated.iloc[treated_match_index][X]))),\n",
    "    (untreated\n",
    "     .assign(match=mt1.predict(untreated[X]))\n",
    "     .assign(bias_correct=ols1.predict(untreated[X]) - ols1.predict(treated.iloc[untreated_match_index][X])))\n",
    "])\n",
    "\n",
    "predicted.head()"
   ]
  },
  {
   "cell_type": "code",
   "execution_count": 153,
   "id": "039aacc7",
   "metadata": {},
   "outputs": [
    {
     "data": {
      "text/plain": [
       "-7.871934286144325"
      ]
     },
     "execution_count": 153,
     "metadata": {},
     "output_type": "execute_result"
    }
   ],
   "source": [
    "# 3. why we can use ols for bias of matching\n",
    "\n",
    "# it doesnt extrapolate on the treatment to get ATE but it is just to correct bias\n",
    "# it doesnt assume linearity or parametric tests, it is actually a non parametric estimater, so it actually is more\n",
    "# flexible than linear regression and can work in situations where linear regression will not\n",
    "\n",
    "# now, with the bias correct, we can get the ATE estimation\n",
    "np.mean((2*predicted[\"medication\"] - 1)*((predicted[\"recovery\"] - predicted[\"match\"])-predicted[\"bias_correct\"]))# -7.8719"
   ]
  },
  {
   "cell_type": "code",
   "execution_count": 158,
   "id": "8eddf1d7",
   "metadata": {},
   "outputs": [
    {
     "name": "stdout",
     "output_type": "stream",
     "text": [
      "Collecting causalinference\n",
      "  Downloading CausalInference-0.1.3-py3-none-any.whl (51 kB)\n",
      "     ---------------------------------------- 0.0/51.1 kB ? eta -:--:--\n",
      "     ---------------------------------------- 51.1/51.1 kB 2.6 MB/s eta 0:00:00\n",
      "Installing collected packages: causalinference\n",
      "Successfully installed causalinference-0.1.3\n",
      "Note: you may need to restart the kernel to use updated packages.\n"
     ]
    },
    {
     "name": "stderr",
     "output_type": "stream",
     "text": [
      "\n",
      "[notice] A new release of pip is available: 23.2 -> 23.2.1\n",
      "[notice] To update, run: python.exe -m pip install --upgrade pip\n"
     ]
    }
   ],
   "source": [
    "# pip install causalinference"
   ]
  },
  {
   "cell_type": "code",
   "execution_count": 159,
   "id": "9e6b32ba",
   "metadata": {},
   "outputs": [
    {
     "name": "stdout",
     "output_type": "stream",
     "text": [
      "\n",
      "Treatment Effect Estimates: Matching\n",
      "\n",
      "                     Est.       S.e.          z      P>|z|      [95% Conf. int.]\n",
      "--------------------------------------------------------------------------------\n",
      "           ATE     -7.709      0.609    -12.649      0.000     -8.903     -6.514\n",
      "           ATC     -6.665      0.246    -27.047      0.000     -7.148     -6.182\n",
      "           ATT     -9.679      1.693     -5.717      0.000    -12.997     -6.361\n",
      "\n"
     ]
    }
   ],
   "source": [
    "# 4. wrap up in a built in causal model for matching\n",
    "\n",
    "from causalinference import CausalModel\n",
    "\n",
    "cm = CausalModel(\n",
    "    Y=med[\"recovery\"].values, \n",
    "    D=med[\"medication\"].values, \n",
    "    X=med[[\"severity\", \"age\", \"sex\"]].values\n",
    ")\n",
    "\n",
    "cm.est_via_matching(matches=1, bias_adj=True)\n",
    "\n",
    "print(cm.estimates)"
   ]
  },
  {
   "cell_type": "code",
   "execution_count": null,
   "id": "4f96c922",
   "metadata": {},
   "outputs": [],
   "source": [
    "# you can see above the 95% CI is -8.903, -6.514 and we can pick -7.709 for this right now"
   ]
  },
  {
   "cell_type": "code",
   "execution_count": null,
   "id": "960d8640",
   "metadata": {},
   "outputs": [],
   "source": [
    "# 5. why we have matching bias?\n",
    "# the curse of dimensionality\n",
    "# we need more data or do PCA, but if we have enough data, there is not much matching bias"
   ]
  }
 ],
 "metadata": {
  "kernelspec": {
   "display_name": "Python 3 (ipykernel)",
   "language": "python",
   "name": "python3"
  },
  "language_info": {
   "codemirror_mode": {
    "name": "ipython",
    "version": 3
   },
   "file_extension": ".py",
   "mimetype": "text/x-python",
   "name": "python",
   "nbconvert_exporter": "python",
   "pygments_lexer": "ipython3",
   "version": "3.11.3"
  }
 },
 "nbformat": 4,
 "nbformat_minor": 5
}
