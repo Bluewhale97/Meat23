{
 "cells": [
  {
   "cell_type": "code",
   "execution_count": 0,
   "metadata": {
    "application/vnd.databricks.v1+cell": {
     "cellMetadata": {},
     "inputWidgets": {},
     "nuid": "a6b78f67-a61c-4de9-a4c4-6694293c2655",
     "showTitle": false,
     "title": ""
    }
   },
   "outputs": [],
   "source": [
    "#sklearn has two types of graph-based semi supervised learning models\n",
    "# 1. label propagation: standard iterative label propagation\n",
    "# 2. label spreading: similar to label propagation, but based on distance matrix of normalized graph laplacian and soft clamping\n"
   ]
  },
  {
   "cell_type": "code",
   "execution_count": 0,
   "metadata": {
    "application/vnd.databricks.v1+cell": {
     "cellMetadata": {
      "byteLimit": 2048000,
      "rowLimit": 10000
     },
     "inputWidgets": {},
     "nuid": "79485e26-a346-489a-aa56-d990aa731709",
     "showTitle": false,
     "title": ""
    }
   },
   "outputs": [],
   "source": [
    "# lib prep\n",
    "import numpy as np\n",
    "import matplotlib.pyplot as plt\n",
    "from sklearn import metrics\n",
    "from sklearn import datasets\n",
    "from sklearn.semi_supervised import LabelPropagation"
   ]
  },
  {
   "cell_type": "markdown",
   "metadata": {
    "application/vnd.databricks.v1+cell": {
     "cellMetadata": {},
     "inputWidgets": {},
     "nuid": "3e70fe67-821e-40a0-a8b1-97bec69c0056",
     "showTitle": false,
     "title": ""
    }
   },
   "source": [
    "# Load Data"
   ]
  },
  {
   "cell_type": "code",
   "execution_count": 0,
   "metadata": {
    "application/vnd.databricks.v1+cell": {
     "cellMetadata": {
      "byteLimit": 2048000,
      "rowLimit": 10000
     },
     "inputWidgets": {},
     "nuid": "4f44ea4d-828c-4a69-9b31-60e19239b246",
     "showTitle": false,
     "title": ""
    }
   },
   "outputs": [],
   "source": [
    "def load_data():\n",
    "  digits = datasets.load_digits()\n",
    "  rng = np.random.RandomState(0)\n",
    "  indices = np.arange(len(digits.data))\n",
    "  # shuffling the data\n",
    "  rng.shuffle(indices)\n",
    "  X = digits.data[indices]\n",
    "  y = digits.target[indices]\n",
    "  # produce unlabled data\n",
    "  n_labled_points = int(len(y)/10)\n",
    "  unlabled_indices = np.arange(len(y))[n_labled_points:]\n",
    "  return X,y,unlabled_indices"
   ]
  },
  {
   "cell_type": "code",
   "execution_count": 0,
   "metadata": {
    "application/vnd.databricks.v1+cell": {
     "cellMetadata": {},
     "inputWidgets": {},
     "nuid": "34c68cb2-d9bc-47c9-9080-45d0d71276d1",
     "showTitle": false,
     "title": ""
    }
   },
   "outputs": [],
   "source": [
    "# class sklearn.semi_supervised.LabelPropation()\n",
    "\n",
    "## Params\n",
    "# kernel: a string, 'rbf' or' knn' as the distance kernel. rbf needs heavy computation and the distance matrix is symmetric but knn uses less computation and sparse matrix where the distance matrix is non symmetric\n",
    "# gamma: float, the parameter of rbf\n",
    "# n_neighbors: integer of knn\n",
    "# alpha: the trade off\n",
    "# max_iter\n",
    "# tol: float of convergence threshold\n",
    "# \n",
    "## Attributes\n",
    "# X_ : input array\n",
    "# classes_: label array\n",
    "# label_distribution_ : label distribution array\n",
    "# transduction_: the predicted label of every sample\n",
    "# n_iter_: the actuall iteration\n",
    "# \n",
    "# # Methods\n",
    "# fit(X,y)\n",
    "# predict(X)\n",
    "# predict_proba(X)\n",
    "# score(X,y[,sample_weight])  "
   ]
  },
  {
   "cell_type": "markdown",
   "metadata": {
    "application/vnd.databricks.v1+cell": {
     "cellMetadata": {},
     "inputWidgets": {},
     "nuid": "228568eb-8f02-421a-a64d-43143f4907eb",
     "showTitle": false,
     "title": ""
    }
   },
   "source": [
    "# Test label propagation"
   ]
  },
  {
   "cell_type": "code",
   "execution_count": 0,
   "metadata": {
    "application/vnd.databricks.v1+cell": {
     "cellMetadata": {
      "byteLimit": 2048000,
      "rowLimit": 10000
     },
     "inputWidgets": {},
     "nuid": "6190645a-07b6-4c7e-b056-186dd27d3dce",
     "showTitle": false,
     "title": ""
    }
   },
   "outputs": [
    {
     "output_type": "stream",
     "name": "stdout",
     "output_type": "stream",
     "text": [
      "Accuracy:0.948084\n"
     ]
    }
   ],
   "source": [
    "def test_labelPropagation(*data):\n",
    "  X,y, unlabled_indices = data\n",
    "  y_train = np.copy(y)\n",
    "  y_train[unlabled_indices]=-1\n",
    "  clf = LabelPropagation(max_iter=100,kernel='rbf',gamma=.1)\n",
    "  clf.fit(X,y_train)\n",
    "  true_labels = y[unlabled_indices]\n",
    "  print(\"Accuracy:%f\"%clf.score(X[unlabled_indices],true_labels))\n",
    "\n",
    "data=load_data()\n",
    "test_labelPropagation(*data)"
   ]
  },
  {
   "cell_type": "markdown",
   "metadata": {
    "application/vnd.databricks.v1+cell": {
     "cellMetadata": {},
     "inputWidgets": {},
     "nuid": "82587b01-49c0-4ad5-9807-0e0319bb9a7b",
     "showTitle": false,
     "title": ""
    }
   },
   "source": [
    "# Test based on alpha and gamma and kernel rbf"
   ]
  },
  {
   "cell_type": "code",
   "execution_count": 0,
   "metadata": {
    "application/vnd.databricks.v1+cell": {
     "cellMetadata": {
      "byteLimit": 2048000,
      "rowLimit": 10000
     },
     "inputWidgets": {},
     "nuid": "a49d7c1f-1040-4c0a-b862-a4d528bcf1c2",
     "showTitle": false,
     "title": ""
    }
   },
   "outputs": [
    {
     "output_type": "stream",
     "name": "stderr",
     "output_type": "stream",
     "text": [
      "/local_disk0/.ephemeral_nfs/cluster_libraries/python/lib/python3.9/site-packages/sklearn/semi_supervised/_label_propagation.py:318: ConvergenceWarning: max_iter=100 was reached without convergence.\n  warnings.warn(\n/local_disk0/.ephemeral_nfs/cluster_libraries/python/lib/python3.9/site-packages/sklearn/semi_supervised/_label_propagation.py:318: ConvergenceWarning: max_iter=100 was reached without convergence.\n  warnings.warn(\n/local_disk0/.ephemeral_nfs/cluster_libraries/python/lib/python3.9/site-packages/sklearn/semi_supervised/_label_propagation.py:318: ConvergenceWarning: max_iter=100 was reached without convergence.\n  warnings.warn(\n/local_disk0/.ephemeral_nfs/cluster_libraries/python/lib/python3.9/site-packages/sklearn/semi_supervised/_label_propagation.py:318: ConvergenceWarning: max_iter=100 was reached without convergence.\n  warnings.warn(\n/local_disk0/.ephemeral_nfs/cluster_libraries/python/lib/python3.9/site-packages/sklearn/semi_supervised/_label_propagation.py:318: ConvergenceWarning: max_iter=100 was reached without convergence.\n  warnings.warn(\n/local_disk0/.ephemeral_nfs/cluster_libraries/python/lib/python3.9/site-packages/sklearn/semi_supervised/_label_propagation.py:318: ConvergenceWarning: max_iter=100 was reached without convergence.\n  warnings.warn(\n/local_disk0/.ephemeral_nfs/cluster_libraries/python/lib/python3.9/site-packages/sklearn/semi_supervised/_label_propagation.py:318: ConvergenceWarning: max_iter=100 was reached without convergence.\n  warnings.warn(\n/local_disk0/.ephemeral_nfs/cluster_libraries/python/lib/python3.9/site-packages/sklearn/semi_supervised/_label_propagation.py:318: ConvergenceWarning: max_iter=100 was reached without convergence.\n  warnings.warn(\n/local_disk0/.ephemeral_nfs/cluster_libraries/python/lib/python3.9/site-packages/sklearn/semi_supervised/_label_propagation.py:318: ConvergenceWarning: max_iter=100 was reached without convergence.\n  warnings.warn(\n/local_disk0/.ephemeral_nfs/cluster_libraries/python/lib/python3.9/site-packages/sklearn/semi_supervised/_label_propagation.py:318: ConvergenceWarning: max_iter=100 was reached without convergence.\n  warnings.warn(\n/local_disk0/.ephemeral_nfs/cluster_libraries/python/lib/python3.9/site-packages/sklearn/semi_supervised/_label_propagation.py:231: RuntimeWarning: invalid value encountered in true_divide\n  probabilities /= normalizer\n/local_disk0/.ephemeral_nfs/cluster_libraries/python/lib/python3.9/site-packages/sklearn/semi_supervised/_label_propagation.py:231: RuntimeWarning: invalid value encountered in true_divide\n  probabilities /= normalizer\n/local_disk0/.ephemeral_nfs/cluster_libraries/python/lib/python3.9/site-packages/sklearn/semi_supervised/_label_propagation.py:231: RuntimeWarning: invalid value encountered in true_divide\n  probabilities /= normalizer\n/local_disk0/.ephemeral_nfs/cluster_libraries/python/lib/python3.9/site-packages/sklearn/semi_supervised/_label_propagation.py:231: RuntimeWarning: invalid value encountered in true_divide\n  probabilities /= normalizer\n/local_disk0/.ephemeral_nfs/cluster_libraries/python/lib/python3.9/site-packages/sklearn/semi_supervised/_label_propagation.py:231: RuntimeWarning: invalid value encountered in true_divide\n  probabilities /= normalizer\n/local_disk0/.ephemeral_nfs/cluster_libraries/python/lib/python3.9/site-packages/sklearn/semi_supervised/_label_propagation.py:231: RuntimeWarning: invalid value encountered in true_divide\n  probabilities /= normalizer\n/local_disk0/.ephemeral_nfs/cluster_libraries/python/lib/python3.9/site-packages/sklearn/semi_supervised/_label_propagation.py:231: RuntimeWarning: invalid value encountered in true_divide\n  probabilities /= normalizer\n/local_disk0/.ephemeral_nfs/cluster_libraries/python/lib/python3.9/site-packages/sklearn/semi_supervised/_label_propagation.py:231: RuntimeWarning: invalid value encountered in true_divide\n  probabilities /= normalizer\n/local_disk0/.ephemeral_nfs/cluster_libraries/python/lib/python3.9/site-packages/sklearn/semi_supervised/_label_propagation.py:231: RuntimeWarning: invalid value encountered in true_divide\n  probabilities /= normalizer\n/local_disk0/.ephemeral_nfs/cluster_libraries/python/lib/python3.9/site-packages/sklearn/semi_supervised/_label_propagation.py:231: RuntimeWarning: invalid value encountered in true_divide\n  probabilities /= normalizer\n/local_disk0/.ephemeral_nfs/cluster_libraries/python/lib/python3.9/site-packages/sklearn/semi_supervised/_label_propagation.py:231: RuntimeWarning: invalid value encountered in true_divide\n  probabilities /= normalizer\n/local_disk0/.ephemeral_nfs/cluster_libraries/python/lib/python3.9/site-packages/sklearn/semi_supervised/_label_propagation.py:231: RuntimeWarning: invalid value encountered in true_divide\n  probabilities /= normalizer\n/local_disk0/.ephemeral_nfs/cluster_libraries/python/lib/python3.9/site-packages/sklearn/semi_supervised/_label_propagation.py:231: RuntimeWarning: invalid value encountered in true_divide\n  probabilities /= normalizer\n/local_disk0/.ephemeral_nfs/cluster_libraries/python/lib/python3.9/site-packages/sklearn/semi_supervised/_label_propagation.py:231: RuntimeWarning: invalid value encountered in true_divide\n  probabilities /= normalizer\n/local_disk0/.ephemeral_nfs/cluster_libraries/python/lib/python3.9/site-packages/sklearn/semi_supervised/_label_propagation.py:231: RuntimeWarning: invalid value encountered in true_divide\n  probabilities /= normalizer\n/local_disk0/.ephemeral_nfs/cluster_libraries/python/lib/python3.9/site-packages/sklearn/semi_supervised/_label_propagation.py:231: RuntimeWarning: invalid value encountered in true_divide\n  probabilities /= normalizer\n/local_disk0/.ephemeral_nfs/cluster_libraries/python/lib/python3.9/site-packages/sklearn/semi_supervised/_label_propagation.py:231: RuntimeWarning: invalid value encountered in true_divide\n  probabilities /= normalizer\n/local_disk0/.ephemeral_nfs/cluster_libraries/python/lib/python3.9/site-packages/sklearn/semi_supervised/_label_propagation.py:231: RuntimeWarning: invalid value encountered in true_divide\n  probabilities /= normalizer\n/local_disk0/.ephemeral_nfs/cluster_libraries/python/lib/python3.9/site-packages/sklearn/semi_supervised/_label_propagation.py:231: RuntimeWarning: invalid value encountered in true_divide\n  probabilities /= normalizer\n/local_disk0/.ephemeral_nfs/cluster_libraries/python/lib/python3.9/site-packages/sklearn/semi_supervised/_label_propagation.py:231: RuntimeWarning: invalid value encountered in true_divide\n  probabilities /= normalizer\n/local_disk0/.ephemeral_nfs/cluster_libraries/python/lib/python3.9/site-packages/sklearn/semi_supervised/_label_propagation.py:231: RuntimeWarning: invalid value encountered in true_divide\n  probabilities /= normalizer\n/local_disk0/.ephemeral_nfs/cluster_libraries/python/lib/python3.9/site-packages/sklearn/semi_supervised/_label_propagation.py:231: RuntimeWarning: invalid value encountered in true_divide\n  probabilities /= normalizer\n/local_disk0/.ephemeral_nfs/cluster_libraries/python/lib/python3.9/site-packages/sklearn/semi_supervised/_label_propagation.py:231: RuntimeWarning: invalid value encountered in true_divide\n  probabilities /= normalizer\n/local_disk0/.ephemeral_nfs/cluster_libraries/python/lib/python3.9/site-packages/sklearn/semi_supervised/_label_propagation.py:231: RuntimeWarning: invalid value encountered in true_divide\n  probabilities /= normalizer\n/local_disk0/.ephemeral_nfs/cluster_libraries/python/lib/python3.9/site-packages/sklearn/semi_supervised/_label_propagation.py:231: RuntimeWarning: invalid value encountered in true_divide\n  probabilities /= normalizer\n/local_disk0/.ephemeral_nfs/cluster_libraries/python/lib/python3.9/site-packages/sklearn/semi_supervised/_label_propagation.py:231: RuntimeWarning: invalid value encountered in true_divide\n  probabilities /= normalizer\n/local_disk0/.ephemeral_nfs/cluster_libraries/python/lib/python3.9/site-packages/sklearn/semi_supervised/_label_propagation.py:231: RuntimeWarning: invalid value encountered in true_divide\n  probabilities /= normalizer\n"
     ]
    },
    {
     "output_type": "display_data",
     "data": {
      "image/png": "[encoded data removed]"
     },
     "metadata": {
      "application/vnd.databricks.v1+output": {
       "addedWidgets": {},
       "arguments": {},
       "data": "data:image/png;base64,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\n",
       "datasetInfos": [],
       "metadata": {},
       "removedWidgets": [],
       "type": "image"
      }
     },
     "output_type": "display_data"
    }
   ],
   "source": [
    "def test_labelPropagation_rbf(*data):\n",
    "  X,y, unlabled_indices = data\n",
    "  y_train = np.copy(y)\n",
    "  y_train[unlabled_indices]=-1\n",
    "\n",
    "  fig = plt.figure()\n",
    "  ax = fig.add_subplot(1,1,1)\n",
    "  gammas = np.logspace(-2,2,num=50)\n",
    "  colors = ((1,0,0),(0,1,0), (0,0,1), (.5,.5,0),(0,.5,.5),(.5,0,.5),(.4,.6,0),(.6,.4,0),(0,.6,.4),(.5,.3,.2),)\n",
    "\n",
    "  scores = []\n",
    "  for gamma in gammas:\n",
    "    clf = LabelPropagation(max_iter=100,gamma=gamma,kernel='rbf')\n",
    "    clf.fit(X,y_train)\n",
    "    scores.append(clf.score(X[unlabled_indices],y[unlabled_indices]))\n",
    "  ax.plot(gammas,scores)\n",
    "\n",
    "  ax.set_xlabel(r\"$\\gamma$\")\n",
    "  ax.set_ylabel(\"score\")\n",
    "  ax.set_xscale('log')\n",
    "  ax.set_title('label propagation rbf kernel')\n",
    "  plt.show()\n",
    "\n",
    "data=load_data()\n",
    "test_labelPropagation_rbf(*data)\n",
    "# when gamma is getting bigger, the distance is gonna be zero\n",
    "# when gamma is big enough, all of elements are zero in distance matrix, so the accuracy will be down"
   ]
  },
  {
   "cell_type": "code",
   "execution_count": 0,
   "metadata": {
    "application/vnd.databricks.v1+cell": {
     "cellMetadata": {
      "byteLimit": 2048000,
      "rowLimit": 10000
     },
     "inputWidgets": {},
     "nuid": "08eb60d4-4971-4055-90b4-837854c085bb",
     "showTitle": false,
     "title": ""
    }
   },
   "outputs": [
    {
     "output_type": "stream",
     "name": "stderr",
     "output_type": "stream",
     "text": [
      "/local_disk0/.ephemeral_nfs/cluster_libraries/python/lib/python3.9/site-packages/sklearn/semi_supervised/_label_propagation.py:231: RuntimeWarning: invalid value encountered in true_divide\n  probabilities /= normalizer\n/local_disk0/.ephemeral_nfs/cluster_libraries/python/lib/python3.9/site-packages/sklearn/semi_supervised/_label_propagation.py:231: RuntimeWarning: invalid value encountered in true_divide\n  probabilities /= normalizer\n/local_disk0/.ephemeral_nfs/cluster_libraries/python/lib/python3.9/site-packages/sklearn/semi_supervised/_label_propagation.py:231: RuntimeWarning: invalid value encountered in true_divide\n  probabilities /= normalizer\n/local_disk0/.ephemeral_nfs/cluster_libraries/python/lib/python3.9/site-packages/sklearn/semi_supervised/_label_propagation.py:318: ConvergenceWarning: max_iter=100 was reached without convergence.\n  warnings.warn(\n/local_disk0/.ephemeral_nfs/cluster_libraries/python/lib/python3.9/site-packages/sklearn/semi_supervised/_label_propagation.py:231: RuntimeWarning: invalid value encountered in true_divide\n  probabilities /= normalizer\n/local_disk0/.ephemeral_nfs/cluster_libraries/python/lib/python3.9/site-packages/sklearn/semi_supervised/_label_propagation.py:318: ConvergenceWarning: max_iter=100 was reached without convergence.\n  warnings.warn(\n/local_disk0/.ephemeral_nfs/cluster_libraries/python/lib/python3.9/site-packages/sklearn/semi_supervised/_label_propagation.py:231: RuntimeWarning: invalid value encountered in true_divide\n  probabilities /= normalizer\n/local_disk0/.ephemeral_nfs/cluster_libraries/python/lib/python3.9/site-packages/sklearn/semi_supervised/_label_propagation.py:318: ConvergenceWarning: max_iter=100 was reached without convergence.\n  warnings.warn(\n/local_disk0/.ephemeral_nfs/cluster_libraries/python/lib/python3.9/site-packages/sklearn/semi_supervised/_label_propagation.py:318: ConvergenceWarning: max_iter=100 was reached without convergence.\n  warnings.warn(\n/local_disk0/.ephemeral_nfs/cluster_libraries/python/lib/python3.9/site-packages/sklearn/semi_supervised/_label_propagation.py:318: ConvergenceWarning: max_iter=100 was reached without convergence.\n  warnings.warn(\n/local_disk0/.ephemeral_nfs/cluster_libraries/python/lib/python3.9/site-packages/sklearn/semi_supervised/_label_propagation.py:318: ConvergenceWarning: max_iter=100 was reached without convergence.\n  warnings.warn(\n/local_disk0/.ephemeral_nfs/cluster_libraries/python/lib/python3.9/site-packages/sklearn/semi_supervised/_label_propagation.py:318: ConvergenceWarning: max_iter=100 was reached without convergence.\n  warnings.warn(\n/local_disk0/.ephemeral_nfs/cluster_libraries/python/lib/python3.9/site-packages/sklearn/semi_supervised/_label_propagation.py:318: ConvergenceWarning: max_iter=100 was reached without convergence.\n  warnings.warn(\n/local_disk0/.ephemeral_nfs/cluster_libraries/python/lib/python3.9/site-packages/sklearn/semi_supervised/_label_propagation.py:318: ConvergenceWarning: max_iter=100 was reached without convergence.\n  warnings.warn(\n/local_disk0/.ephemeral_nfs/cluster_libraries/python/lib/python3.9/site-packages/sklearn/semi_supervised/_label_propagation.py:318: ConvergenceWarning: max_iter=100 was reached without convergence.\n  warnings.warn(\n/local_disk0/.ephemeral_nfs/cluster_libraries/python/lib/python3.9/site-packages/sklearn/semi_supervised/_label_propagation.py:318: ConvergenceWarning: max_iter=100 was reached without convergence.\n  warnings.warn(\n"
     ]
    },
    {
     "output_type": "display_data",
     "data": {
      "image/png": "[encoded data removed]"
     },
     "metadata": {
      "application/vnd.databricks.v1+output": {
       "addedWidgets": {},
       "arguments": {},
       "data": "data:image/png;base64,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\n",
       "datasetInfos": [],
       "metadata": {},
       "removedWidgets": [],
       "type": "image"
      }
     },
     "output_type": "display_data"
    }
   ],
   "source": [
    "def test_labelPropagation_knn(*data):\n",
    "  X,y, unlabled_indices = data\n",
    "  y_train = np.copy(y)\n",
    "  y_train[unlabled_indices]=-1\n",
    "\n",
    "  fig = plt.figure()\n",
    "  ax = fig.add_subplot(1,1,1)\n",
    "  Ks = [1,2,3,4,5,8,10,15,20,25,30,35,40,50]\n",
    "\n",
    "  scores = []\n",
    "  for K in Ks:\n",
    "    clf = LabelPropagation(max_iter=100, n_neighbors=K, kernel='knn')\n",
    "    clf.fit(X,y_train)\n",
    "    scores.append(clf.score(X[unlabled_indices],y[unlabled_indices]))\n",
    "  ax.plot(Ks,scores)\n",
    "\n",
    "  ax.set_xlabel(r\"$k$\")\n",
    "  ax.set_ylabel(\"score\")\n",
    "  ax.set_title('label propagation knn kernel')\n",
    "  plt.show()\n",
    "\n",
    "data=load_data()\n",
    "test_labelPropagation_knn(*data)\n",
    "# when k increases, the prediction is getting flatten and down"
   ]
  }
 ],
 "metadata": {
  "application/vnd.databricks.v1+notebook": {
   "dashboards": [],
   "language": "python",
   "notebookMetadata": {
    "pythonIndentUnit": 2
   },
   "notebookName": "Label Propagation",
   "widgets": {}
  }
 },
 "nbformat": 4,
 "nbformat_minor": 0
}
