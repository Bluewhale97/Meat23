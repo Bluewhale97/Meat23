{
 "cells": [
  {
   "cell_type": "markdown",
   "metadata": {
    "application/vnd.databricks.v1+cell": {
     "cellMetadata": {},
     "inputWidgets": {},
     "nuid": "8484055f-6896-4a89-a6f0-2aa60ac60018",
     "showTitle": false,
     "title": ""
    }
   },
   "source": [
    "# Load libraries"
   ]
  },
  {
   "cell_type": "code",
   "execution_count": 0,
   "metadata": {
    "application/vnd.databricks.v1+cell": {
     "cellMetadata": {
      "byteLimit": 2048000,
      "rowLimit": 10000
     },
     "inputWidgets": {},
     "nuid": "c307000a-63cf-4867-b095-0effa6aaa847",
     "showTitle": false,
     "title": ""
    }
   },
   "outputs": [],
   "source": [
    "import matplotlib.pyplot as plt\n",
    "import numpy as np\n",
    "from sklearn import datasets, ensemble\n",
    "from sklearn.model_selection import train_test_split"
   ]
  },
  {
   "cell_type": "markdown",
   "metadata": {
    "application/vnd.databricks.v1+cell": {
     "cellMetadata": {},
     "inputWidgets": {},
     "nuid": "dc425e0d-55d0-4a15-8a2a-6e53734b025e",
     "showTitle": false,
     "title": ""
    }
   },
   "source": [
    "# Load data"
   ]
  },
  {
   "cell_type": "code",
   "execution_count": 0,
   "metadata": {
    "application/vnd.databricks.v1+cell": {
     "cellMetadata": {
      "byteLimit": 2048000,
      "rowLimit": 10000
     },
     "inputWidgets": {},
     "nuid": "90357d42-fa38-4607-9737-09b877adeef9",
     "showTitle": false,
     "title": ""
    }
   },
   "outputs": [],
   "source": [
    "def load_data_regression():\n",
    "  diabetes = datasets.load_diabetes()\n",
    "  return train_test_split(diabetes.data, diabetes.target, test_size=.25, random_state=0)"
   ]
  },
  {
   "cell_type": "code",
   "execution_count": 0,
   "metadata": {
    "application/vnd.databricks.v1+cell": {
     "cellMetadata": {
      "byteLimit": 2048000,
      "rowLimit": 10000
     },
     "inputWidgets": {},
     "nuid": "41ad28c0-09f5-4beb-ae45-620b6a9f0d5c",
     "showTitle": false,
     "title": ""
    }
   },
   "outputs": [],
   "source": [
    "def load_data_classification():\n",
    "  digits = datasets.load_digits()\n",
    "  return train_test_split(digits.data,digits.target,test_size=.25,random_state=0)"
   ]
  },
  {
   "cell_type": "code",
   "execution_count": 0,
   "metadata": {
    "application/vnd.databricks.v1+cell": {
     "cellMetadata": {},
     "inputWidgets": {},
     "nuid": "5c4d4f99-0ce4-4192-bae0-1eb3cb46f681",
     "showTitle": false,
     "title": ""
    }
   },
   "outputs": [],
   "source": [
    "# random forest has two models\n",
    "# 1. RandomForestClassifier\n",
    "# 2. RandomForestRegressor"
   ]
  },
  {
   "cell_type": "code",
   "execution_count": 0,
   "metadata": {
    "application/vnd.databricks.v1+cell": {
     "cellMetadata": {},
     "inputWidgets": {},
     "nuid": "4a95cd65-c00c-46af-bb56-7d45f5114643",
     "showTitle": false,
     "title": ""
    }
   },
   "outputs": [],
   "source": [
    "# class sklearn.ensemble.RandomForestRegressor()\n",
    "\n",
    "## Params\n",
    "# n_estimators: an integer for the amount of base decision trees, the default amount is 100, it is better to have more base trees because GBDT is robost to overfitting\n",
    "# criterion: a string for every tree's criterion\n",
    "# max_features: a integer or float or string or None\n",
    "# max_depth: integer or None. for the depth of every tree. Tune this param could obtain optimal performance, but if the max_leaf_nodes is not None, ignore this param\n",
    "# min_samples_split: integer, the param for each tree\n",
    "# min_samples_leaf: integer, the param for each tree\n",
    "# min_weight_fraction_leaf: float, the param for each tree\n",
    "# max_leaf_nodes: oculd be integer or None\n",
    "# bootstrap: bool, if True then using bootstrap sampling to produce \n",
    "# oob_score: bool, if True then use samples outside to compute error\n",
    "# n_jobs: integer for parallization. -1 means using all available CPU\n",
    "# verbose: integer for log info, 0 input, 1 input periodically\n",
    "# warm_start: bool, True then use the result from previous run, otherwise cold start\n",
    "# random_state\n",
    "\n",
    "\n",
    "## Attributes:\n",
    "# estimators_\n",
    "# n_features_\n",
    "# n_output_\n",
    "# feature_importances_: array of importance\n",
    "# obb_score_\n",
    "# oob_prediction_\n",
    "\n",
    "## Methods\n",
    "# fit(X,y)\n",
    "# predict(X)\n",
    "# score(X,y)"
   ]
  },
  {
   "cell_type": "markdown",
   "metadata": {
    "application/vnd.databricks.v1+cell": {
     "cellMetadata": {},
     "inputWidgets": {},
     "nuid": "70cdbaa0-2c70-4f72-84c9-97bc350ae2e1",
     "showTitle": false,
     "title": ""
    }
   },
   "source": [
    "# test GBRT"
   ]
  },
  {
   "cell_type": "code",
   "execution_count": 0,
   "metadata": {
    "application/vnd.databricks.v1+cell": {
     "cellMetadata": {
      "byteLimit": 2048000,
      "rowLimit": 10000
     },
     "inputWidgets": {},
     "nuid": "b6cd2a31-5b3d-482b-9b86-b33f43487d88",
     "showTitle": false,
     "title": ""
    }
   },
   "outputs": [
    {
     "output_type": "stream",
     "name": "stdout",
     "output_type": "stream",
     "text": [
      "Training score:1.000000\nTesting score:0.984444\n"
     ]
    }
   ],
   "source": [
    "def test_RFC(*data):\n",
    "  X_train, X_test, y_train, y_test = data\n",
    "  clf = ensemble.RandomForestClassifier()\n",
    "  clf.fit(X_train, y_train)\n",
    "  print(\"Training score:%f\"%clf.score(X_train,y_train))\n",
    "  print('Testing score:%f'%clf.score(X_test,y_test))\n",
    "\n",
    "X_train, X_test, y_train, y_test = load_data_classification()\n",
    "test_RFC(X_train, X_test, y_train, y_test)"
   ]
  },
  {
   "cell_type": "markdown",
   "metadata": {
    "application/vnd.databricks.v1+cell": {
     "cellMetadata": {},
     "inputWidgets": {},
     "nuid": "995e463e-b73d-4e30-b43c-c4609e0a8896",
     "showTitle": false,
     "title": ""
    }
   },
   "source": [
    "# Consider the impact from amount of base decision trees"
   ]
  },
  {
   "cell_type": "code",
   "execution_count": 0,
   "metadata": {
    "application/vnd.databricks.v1+cell": {
     "cellMetadata": {
      "byteLimit": 2048000,
      "rowLimit": 10000
     },
     "inputWidgets": {},
     "nuid": "f6f78a16-58c4-4493-88d7-037fc2b5c106",
     "showTitle": false,
     "title": ""
    }
   },
   "outputs": [
    {
     "output_type": "display_data",
     "data": {
      "image/png": "[encoded data removed]"
     },
     "metadata": {
      "application/vnd.databricks.v1+output": {
       "addedWidgets": {},
       "arguments": {},
       "data": "data:image/png;base64,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\n",
       "datasetInfos": [],
       "metadata": {},
       "removedWidgets": [],
       "type": "image"
      }
     },
     "output_type": "display_data"
    }
   ],
   "source": [
    "def test_RFC_base(*data):\n",
    "  X_train, X_test, y_train, y_test = data\n",
    "  nums = np.arange(1,100,step=2)\n",
    "  fig = plt.figure()\n",
    "  ax = fig.add_subplot(1,1,1)\n",
    "  testing_scores=[]\n",
    "  training_scores=[]\n",
    "  for num in nums:\n",
    "    clf=ensemble.RandomForestClassifier(n_estimators=num)\n",
    "    clf.fit(X_train, y_train)\n",
    "    training_scores.append(clf.score(X_train, y_train))\n",
    "    testing_scores.append(clf.score(X_test, y_test))\n",
    "  ax.plot(nums, training_scores, label='Training Score')\n",
    "  ax.plot(nums, testing_scores, label='Testing Score')\n",
    "  ax.set_xlabel('estimator num')\n",
    "  ax.set_ylabel('score')\n",
    "  ax.legend(loc='lower right')\n",
    "  ax.set_ylim(0,1.05)\n",
    "  plt.suptitle(\"random forest classifier\")\n",
    "  plt.show()\n",
    "\n",
    "X_train, X_test, y_train, y_test = load_data_classification()\n",
    "test_RFC_base(X_train, X_test, y_train, y_test)\n",
    "# the more trees have better performance but if amount is too much it will be down"
   ]
  },
  {
   "cell_type": "markdown",
   "metadata": {
    "application/vnd.databricks.v1+cell": {
     "cellMetadata": {},
     "inputWidgets": {},
     "nuid": "321c97fa-1cde-4c97-8499-83a7e56bed9e",
     "showTitle": false,
     "title": ""
    }
   },
   "source": [
    "# Consider the impact from max depth"
   ]
  },
  {
   "cell_type": "code",
   "execution_count": 0,
   "metadata": {
    "application/vnd.databricks.v1+cell": {
     "cellMetadata": {
      "byteLimit": 2048000,
      "rowLimit": 10000
     },
     "inputWidgets": {},
     "nuid": "44c5310f-12ac-4e36-a354-4d8efcefb407",
     "showTitle": false,
     "title": ""
    }
   },
   "outputs": [
    {
     "output_type": "display_data",
     "data": {
      "image/png": "[encoded data removed]"
     },
     "metadata": {
      "application/vnd.databricks.v1+output": {
       "addedWidgets": {},
       "arguments": {},
       "data": "data:image/png;base64,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\n",
       "datasetInfos": [],
       "metadata": {},
       "removedWidgets": [],
       "type": "image"
      }
     },
     "output_type": "display_data"
    }
   ],
   "source": [
    "def test_RFC_depth(*data):\n",
    "  X_train, X_test, y_train, y_test = data\n",
    "  maxdepths = np.arange(1,20)\n",
    "  fig = plt.figure()\n",
    "  ax = fig.add_subplot(1,1,1)\n",
    "  testing_scores=[]\n",
    "  training_scores=[]\n",
    "  for maxdepth in maxdepths:\n",
    "    clf=ensemble.RandomForestClassifier(max_depth=maxdepth, )\n",
    "    clf.fit(X_train, y_train)\n",
    "    training_scores.append(clf.score(X_train, y_train))\n",
    "    testing_scores.append(clf.score(X_test, y_test))\n",
    "  ax.plot(maxdepths, training_scores, label='Training Score')\n",
    "  ax.plot(maxdepths, testing_scores, label='Testing Score')\n",
    "  ax.set_xlabel('maxdepths')\n",
    "  ax.set_ylabel('score')\n",
    "  ax.legend(loc='lower right')\n",
    "  ax.set_ylim(0,1.05)\n",
    "  plt.suptitle(\"random forest classifier\")\n",
    "  plt.show()\n",
    "\n",
    "X_train, X_test, y_train, y_test = load_data_classification()\n",
    "test_RFC_depth(X_train, X_test, y_train, y_test)\n",
    "# GBRT to testing set is going down with the increase of max depth"
   ]
  },
  {
   "cell_type": "markdown",
   "metadata": {
    "application/vnd.databricks.v1+cell": {
     "cellMetadata": {},
     "inputWidgets": {},
     "nuid": "514b87a3-fddd-4f93-b837-1c333af07191",
     "showTitle": false,
     "title": ""
    }
   },
   "source": [
    "# Consider the impact from max_features"
   ]
  },
  {
   "cell_type": "code",
   "execution_count": 0,
   "metadata": {
    "application/vnd.databricks.v1+cell": {
     "cellMetadata": {
      "byteLimit": 2048000,
      "rowLimit": 10000
     },
     "inputWidgets": {},
     "nuid": "ffb640fd-695e-4a8c-80e1-c87cc83d965f",
     "showTitle": false,
     "title": ""
    }
   },
   "outputs": [],
   "source": [
    "def test_RFC_max_features(*data):\n",
    "  X_train, X_test, y_train, y_test = data\n",
    "  fig = plt.figure()\n",
    "  ax = fig.add_subplot(1,1,1)\n",
    "  max_features = np.linspace(0.01,1)\n",
    "  testing_scores=[]\n",
    "  training_scores=[]\n",
    "  for features in max_features:\n",
    "    clf=ensemble.RandomForestClassifier(max_features=features)\n",
    "    clf.fit(X_train, y_train)\n",
    "    training_scores.append(clf.score(X_train, y_train))\n",
    "    testing_scores.append(clf.score(X_test, y_test))\n",
    "  ax.plot(max_features, training_scores, label='Training Score')\n",
    "  ax.plot(max_features, testing_scores, label='Testing Score')\n",
    "  ax.set_xlabel('max_feature')\n",
    "  ax.set_ylabel('score')\n",
    "  ax.legend(loc='lower right')\n",
    "  ax.set_ylim(0,1.05)\n",
    "  plt.suptitle(\"random forest classifier\")\n",
    "  plt.show()\n",
    "\n",
    "X_train, X_test, y_train, y_test = load_data_classification()\n",
    "test_RFC_max_features(X_train, X_test, y_train, y_test)\n",
    "# it is not sensitive to feature selection"
   ]
  }
 ],
 "metadata": {
  "application/vnd.databricks.v1+notebook": {
   "dashboards": [],
   "language": "python",
   "notebookMetadata": {
    "pythonIndentUnit": 2
   },
   "notebookName": "Random Forest Classifier",
   "widgets": {}
  }
 },
 "nbformat": 4,
 "nbformat_minor": 0
}
