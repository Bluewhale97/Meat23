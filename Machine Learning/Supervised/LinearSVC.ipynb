{
 "cells": [
  {
   "cell_type": "code",
   "execution_count": 0,
   "metadata": {
    "application/vnd.databricks.v1+cell": {
     "cellMetadata": {
      "byteLimit": 2048000,
      "rowLimit": 10000
     },
     "inputWidgets": {},
     "nuid": "3cbe9759-0025-47d4-aa7e-d66adb8516ec",
     "showTitle": false,
     "title": ""
    }
   },
   "outputs": [],
   "source": [
    "# LinearSVC\n",
    "# based on liblinear, could be used for binary and multi-class classfication"
   ]
  },
  {
   "cell_type": "code",
   "execution_count": 0,
   "metadata": {
    "application/vnd.databricks.v1+cell": {
     "cellMetadata": {
      "byteLimit": 2048000,
      "rowLimit": 10000
     },
     "inputWidgets": {},
     "nuid": "da46b296-1bc2-4590-8c77-97c74459a4b0",
     "showTitle": false,
     "title": ""
    }
   },
   "outputs": [],
   "source": [
    "# Lib preparation\n",
    "import matplotlib.pyplot as plt\n",
    "import numpy as np\n",
    "from sklearn import datasets, linear_model, model_selection, svm"
   ]
  },
  {
   "cell_type": "code",
   "execution_count": 0,
   "metadata": {
    "application/vnd.databricks.v1+cell": {
     "cellMetadata": {
      "byteLimit": 2048000,
      "rowLimit": 10000
     },
     "inputWidgets": {},
     "nuid": "4db3d05d-d83b-4cec-a6a6-d18d11614b09",
     "showTitle": false,
     "title": ""
    }
   },
   "outputs": [],
   "source": [
    "# diabetes dataset extraction, for regression problem\n",
    "# diabetes dataset, 442 samples, 10 features(all numeric floats), the label is between integer 25 ~ 346\n",
    "\n",
    "def load_data_regression():\n",
    "  diabetes = datasets.load_diabetes()\n",
    "  return model_selection.train_test_split(diabetes.data, diabetes.target, test_size=.25, random_state=0)"
   ]
  },
  {
   "cell_type": "code",
   "execution_count": 0,
   "metadata": {
    "application/vnd.databricks.v1+cell": {
     "cellMetadata": {
      "byteLimit": 2048000,
      "rowLimit": 10000
     },
     "inputWidgets": {},
     "nuid": "e8ad3286-1c26-4422-a1f7-4e1098aa4caf",
     "showTitle": false,
     "title": ""
    }
   },
   "outputs": [],
   "source": [
    "# iris dataset, for classification problem\n",
    "# 150 dps, 3 classes, 4 features\n",
    "# we use stratified sampling here, since samples ordered by y_train, the first 50 samples are of label 0 and the later 50 are of label 1\n",
    "def load_data_classification():\n",
    "  iris = datasets.load_iris()\n",
    "  return model_selection.train_test_split(iris.data, iris.target, test_size=.25, random_state=0, stratify=iris.target)"
   ]
  },
  {
   "cell_type": "code",
   "execution_count": 0,
   "metadata": {
    "application/vnd.databricks.v1+cell": {
     "cellMetadata": {},
     "inputWidgets": {},
     "nuid": "86c40389-7d23-4b36-9382-859e206a877a",
     "showTitle": false,
     "title": ""
    }
   },
   "outputs": [],
   "source": [
    "# sklearn.svm.LinearSVC()\n",
    "## Params\n",
    "# C: penalty\n",
    "# loss: a string, could be 'hinge', which means the standard SVM loss. 'squared_hinge' means the squared hinge\n",
    "# penalty: string, could use 'l1' or 'l2'. The default is 'l2'\n",
    "# dual: bolean, if True, then solve the dual problem, if False, then solve the original problem. Tend to use False(orginal problem) if n_samples > n_features\n",
    "# tol: float, threshold to quit iterations\n",
    "# multi-class: string, the strategies for multiclass classification. 'ovr' means one-vs-rest, 'crammer_single' means combined multiclass classfication, rarely use, because of high computation and low accuracy, it will ignore loss, penalty and dual as well\n",
    "# fit_intercept: boolean, True then compute intercept otherwise ignore intercept\n",
    "# intercept_scaling: float, if given, the instance x will be changed into [X, intercept_scaling], which is equal to adding a artificial feature, this one is constant to every instance\n",
    "# class_weight: a dict or a string 'balanced', for the weight of every class, if not given, the weight of the class is 1\n",
    "# verbose: integer for beginning verbose output\n",
    "# random_state: integer or RandomState instance or None\n",
    "# max_iter: a integer, the max times of iteration\n",
    "# \n",
    "## Attributes\n",
    "# coef_: array for weights of each feature\n",
    "# intercept_: array for intercept, as constant one in decision func\n",
    "# \n",
    "## Methods\n",
    "# fit(X,y)\n",
    "# predict(X)\n",
    "# score(X,y), return accuracy    "
   ]
  },
  {
   "cell_type": "code",
   "execution_count": 0,
   "metadata": {
    "application/vnd.databricks.v1+cell": {
     "cellMetadata": {
      "byteLimit": 2048000,
      "rowLimit": 10000
     },
     "inputWidgets": {},
     "nuid": "7b962899-995e-4c0a-a914-75557a6721a5",
     "showTitle": false,
     "title": ""
    }
   },
   "outputs": [],
   "source": [
    "# test LinearSVC, general test\n",
    "def test_LinearSVC(*data):\n",
    "  X_train, X_test, y_train, y_test = data\n",
    "  cls = svm.LinearSVC()\n",
    "  cls.fit(X_train, y_train)\n",
    "  print('Coef:%s, intercept %s'%(cls.coef_,cls.intercept_))\n",
    "  print('Score:%.2f'%cls.score(X_test, y_test))"
   ]
  },
  {
   "cell_type": "code",
   "execution_count": 0,
   "metadata": {
    "application/vnd.databricks.v1+cell": {
     "cellMetadata": {
      "byteLimit": 2048000,
      "rowLimit": 10000
     },
     "inputWidgets": {},
     "nuid": "e146e4d3-8ea1-4af7-bba9-d790595bdd44",
     "showTitle": false,
     "title": ""
    }
   },
   "outputs": [
    {
     "output_type": "stream",
     "name": "stdout",
     "output_type": "stream",
     "text": [
      "Coef:[[ 0.2095878   0.39923443 -0.81738893 -0.44232005]\n [-0.12500381 -0.79285798  0.52813074 -1.05545342]\n [-0.80282075 -0.87614232  1.21333484  1.80993218]], intercept [ 0.11973629  2.05573815 -1.44406793]\nScore:0.95\n"
     ]
    },
    {
     "output_type": "stream",
     "name": "stderr",
     "output_type": "stream",
     "text": [
      "/local_disk0/.ephemeral_nfs/cluster_libraries/python/lib/python3.9/site-packages/sklearn/svm/_base.py:1244: ConvergenceWarning: Liblinear failed to converge, increase the number of iterations.\n  warnings.warn(\n"
     ]
    }
   ],
   "source": [
    "X_train, X_test, y_train, y_test = load_data_classification()\n",
    "test_LinearSVC(X_train, X_test, y_train, y_test)"
   ]
  },
  {
   "cell_type": "code",
   "execution_count": 0,
   "metadata": {
    "application/vnd.databricks.v1+cell": {
     "cellMetadata": {
      "byteLimit": 2048000,
      "rowLimit": 10000
     },
     "inputWidgets": {},
     "nuid": "14368b98-203a-4362-b1c9-54e67b973627",
     "showTitle": false,
     "title": ""
    }
   },
   "outputs": [],
   "source": [
    "# now consider the impact from loss func\n",
    "def test_LinearSVC_loss(*data):\n",
    "  X_train, X_test, y_train, y_test = data\n",
    "  losses =['hinge','squared_hinge']\n",
    "  for loss in losses:\n",
    "    cls = svm.LinearSVC(loss=loss)\n",
    "    cls.fit(X_train, y_train)\n",
    "    print(\"Loss:%s\"%loss)\n",
    "    print('Coef:%s, intercept %s'%(cls.coef_,cls.intercept_))\n",
    "    print('Score:%.2f'%cls.score(X_test, y_test))"
   ]
  },
  {
   "cell_type": "code",
   "execution_count": 0,
   "metadata": {
    "application/vnd.databricks.v1+cell": {
     "cellMetadata": {
      "byteLimit": 2048000,
      "rowLimit": 10000
     },
     "inputWidgets": {},
     "nuid": "5b79d321-dc98-4a87-bad0-5387aff48b6b",
     "showTitle": false,
     "title": ""
    }
   },
   "outputs": [
    {
     "output_type": "stream",
     "name": "stdout",
     "output_type": "stream",
     "text": [
      "Loss:hinge\nCoef:[[ 0.36635532  0.32164452 -1.07533696 -0.57004658]\n [ 0.45310372 -1.52513     0.42374863 -1.41888332]\n [-1.21866693 -1.15058795  1.85442442  1.97588785]], intercept [ 0.18049754  1.34174996 -1.4313457 ]\nScore:0.97\nLoss:squared_hinge\nCoef:[[ 0.20958672  0.39923875 -0.81739151 -0.44231867]\n [-0.12423238 -0.78498742  0.52732829 -1.05991366]\n [-0.80306534 -0.87620668  1.21368899  1.81007621]], intercept [ 0.11973716  2.04042316 -1.44431781]\nScore:0.95\n"
     ]
    },
    {
     "output_type": "stream",
     "name": "stderr",
     "output_type": "stream",
     "text": [
      "/local_disk0/.ephemeral_nfs/cluster_libraries/python/lib/python3.9/site-packages/sklearn/svm/_base.py:1244: ConvergenceWarning: Liblinear failed to converge, increase the number of iterations.\n  warnings.warn(\n/local_disk0/.ephemeral_nfs/cluster_libraries/python/lib/python3.9/site-packages/sklearn/svm/_base.py:1244: ConvergenceWarning: Liblinear failed to converge, increase the number of iterations.\n  warnings.warn(\n"
     ]
    }
   ],
   "source": [
    "X_train, X_test, y_train, y_test = load_data_classification()\n",
    "test_LinearSVC_loss(X_train, X_test, y_train, y_test)# hinge, 0.97"
   ]
  },
  {
   "cell_type": "code",
   "execution_count": 0,
   "metadata": {
    "application/vnd.databricks.v1+cell": {
     "cellMetadata": {
      "byteLimit": 2048000,
      "rowLimit": 10000
     },
     "inputWidgets": {},
     "nuid": "248e9de8-cef2-48be-99af-191b897c01ae",
     "showTitle": false,
     "title": ""
    }
   },
   "outputs": [],
   "source": [
    "# now consider the penalty l1 or l2\n",
    "def test_LinearSVC_penalty(*data):\n",
    "  X_train, X_test, y_train, y_test = data\n",
    "  l12 =['l1','l2']\n",
    "  for p in l12:\n",
    "    cls = svm.LinearSVC(penalty=p, dual=False)\n",
    "    cls.fit(X_train, y_train)\n",
    "    print(\"Panalty:%s\"%p)\n",
    "    print('Coef:%s, intercept %s'%(cls.coef_,cls.intercept_))\n",
    "    print('Score:%.2f'%cls.score(X_test, y_test))"
   ]
  },
  {
   "cell_type": "code",
   "execution_count": 0,
   "metadata": {
    "application/vnd.databricks.v1+cell": {
     "cellMetadata": {
      "byteLimit": 2048000,
      "rowLimit": 10000
     },
     "inputWidgets": {},
     "nuid": "b53d08a7-cb50-4666-a57f-b80ef61350b7",
     "showTitle": false,
     "title": ""
    }
   },
   "outputs": [
    {
     "output_type": "stream",
     "name": "stdout",
     "output_type": "stream",
     "text": [
      "Panalty:l1\nCoef:[[ 0.16138915  0.52511575 -0.93182763  0.        ]\n [-0.15075299 -0.9118556   0.49198043 -0.97234526]\n [-0.57459565 -0.8485611   0.97749831  2.30037349]], intercept [ 0.          2.59999203 -2.60106809]\nScore:0.95\nPanalty:l2\nCoef:[[ 0.20966872  0.39922528 -0.81739501 -0.44237636]\n [-0.12586721 -0.79341553  0.52877475 -1.05556047]\n [-0.80310102 -0.8765723   1.2139247   1.81023784]], intercept [ 0.1194489   2.05948648 -1.44408141]\nScore:0.95\n"
     ]
    },
    {
     "output_type": "stream",
     "name": "stderr",
     "output_type": "stream",
     "text": [
      "/local_disk0/.ephemeral_nfs/cluster_libraries/python/lib/python3.9/site-packages/sklearn/svm/_base.py:1244: ConvergenceWarning: Liblinear failed to converge, increase the number of iterations.\n  warnings.warn(\n"
     ]
    }
   ],
   "source": [
    "X_train, X_test, y_train, y_test = load_data_classification()\n",
    "test_LinearSVC_penalty(X_train, X_test, y_train, y_test)# l1, l2 returns same score"
   ]
  },
  {
   "cell_type": "code",
   "execution_count": 0,
   "metadata": {
    "application/vnd.databricks.v1+cell": {
     "cellMetadata": {
      "byteLimit": 2048000,
      "rowLimit": 10000
     },
     "inputWidgets": {},
     "nuid": "65e0ef6d-fbf8-4442-9978-d387ab80129c",
     "showTitle": false,
     "title": ""
    }
   },
   "outputs": [],
   "source": [
    "# now consider the impact from penalty C, C meansures the importance of misclassfication, if it is big, then the misclassification is important\n",
    "def test_LinearSVC_C(*data):\n",
    "  X_train, X_test, y_train, y_test = data\n",
    "  Cs=np.logspace(-2,1)\n",
    "  train_scores=[]\n",
    "  test_scores=[]\n",
    "  for C in Cs:\n",
    "    cls = svm.LinearSVC(C=C)\n",
    "    cls.fit(X_train, y_train)\n",
    "    train_scores.append(cls.score(X_train, y_train))\n",
    "    test_scores.append(cls.score(X_test,y_test))\n",
    "  fig=plt.figure()\n",
    "  ax=fig.add_subplot(1,1,1)\n",
    "  ax.plot(Cs, train_scores, label='Training_score')\n",
    "  ax.plot(Cs, test_scores, label='Testing_score')\n",
    "  ax.set_xlabel(r'C')\n",
    "  ax.set_ylabel(r'score')\n",
    "  ax.set_xscale('log')\n",
    "  ax.set_title('LinearSVC')\n",
    "  ax.legend(loc='best')\n",
    "  plt.show()"
   ]
  },
  {
   "cell_type": "code",
   "execution_count": 0,
   "metadata": {
    "application/vnd.databricks.v1+cell": {
     "cellMetadata": {
      "byteLimit": 2048000,
      "rowLimit": 10000
     },
     "inputWidgets": {},
     "nuid": "e1271bde-5056-4623-bddc-428506727a70",
     "showTitle": false,
     "title": ""
    }
   },
   "outputs": [
    {
     "output_type": "stream",
     "name": "stderr",
     "output_type": "stream",
     "text": [
      "/local_disk0/.ephemeral_nfs/cluster_libraries/python/lib/python3.9/site-packages/sklearn/svm/_base.py:1244: ConvergenceWarning: Liblinear failed to converge, increase the number of iterations.\n  warnings.warn(\n/local_disk0/.ephemeral_nfs/cluster_libraries/python/lib/python3.9/site-packages/sklearn/svm/_base.py:1244: ConvergenceWarning: Liblinear failed to converge, increase the number of iterations.\n  warnings.warn(\n/local_disk0/.ephemeral_nfs/cluster_libraries/python/lib/python3.9/site-packages/sklearn/svm/_base.py:1244: ConvergenceWarning: Liblinear failed to converge, increase the number of iterations.\n  warnings.warn(\n/local_disk0/.ephemeral_nfs/cluster_libraries/python/lib/python3.9/site-packages/sklearn/svm/_base.py:1244: ConvergenceWarning: Liblinear failed to converge, increase the number of iterations.\n  warnings.warn(\n/local_disk0/.ephemeral_nfs/cluster_libraries/python/lib/python3.9/site-packages/sklearn/svm/_base.py:1244: ConvergenceWarning: Liblinear failed to converge, increase the number of iterations.\n  warnings.warn(\n/local_disk0/.ephemeral_nfs/cluster_libraries/python/lib/python3.9/site-packages/sklearn/svm/_base.py:1244: ConvergenceWarning: Liblinear failed to converge, increase the number of iterations.\n  warnings.warn(\n/local_disk0/.ephemeral_nfs/cluster_libraries/python/lib/python3.9/site-packages/sklearn/svm/_base.py:1244: ConvergenceWarning: Liblinear failed to converge, increase the number of iterations.\n  warnings.warn(\n/local_disk0/.ephemeral_nfs/cluster_libraries/python/lib/python3.9/site-packages/sklearn/svm/_base.py:1244: ConvergenceWarning: Liblinear failed to converge, increase the number of iterations.\n  warnings.warn(\n/local_disk0/.ephemeral_nfs/cluster_libraries/python/lib/python3.9/site-packages/sklearn/svm/_base.py:1244: ConvergenceWarning: Liblinear failed to converge, increase the number of iterations.\n  warnings.warn(\n/local_disk0/.ephemeral_nfs/cluster_libraries/python/lib/python3.9/site-packages/sklearn/svm/_base.py:1244: ConvergenceWarning: Liblinear failed to converge, increase the number of iterations.\n  warnings.warn(\n/local_disk0/.ephemeral_nfs/cluster_libraries/python/lib/python3.9/site-packages/sklearn/svm/_base.py:1244: ConvergenceWarning: Liblinear failed to converge, increase the number of iterations.\n  warnings.warn(\n/local_disk0/.ephemeral_nfs/cluster_libraries/python/lib/python3.9/site-packages/sklearn/svm/_base.py:1244: ConvergenceWarning: Liblinear failed to converge, increase the number of iterations.\n  warnings.warn(\n/local_disk0/.ephemeral_nfs/cluster_libraries/python/lib/python3.9/site-packages/sklearn/svm/_base.py:1244: ConvergenceWarning: Liblinear failed to converge, increase the number of iterations.\n  warnings.warn(\n/local_disk0/.ephemeral_nfs/cluster_libraries/python/lib/python3.9/site-packages/sklearn/svm/_base.py:1244: ConvergenceWarning: Liblinear failed to converge, increase the number of iterations.\n  warnings.warn(\n/local_disk0/.ephemeral_nfs/cluster_libraries/python/lib/python3.9/site-packages/sklearn/svm/_base.py:1244: ConvergenceWarning: Liblinear failed to converge, increase the number of iterations.\n  warnings.warn(\n/local_disk0/.ephemeral_nfs/cluster_libraries/python/lib/python3.9/site-packages/sklearn/svm/_base.py:1244: ConvergenceWarning: Liblinear failed to converge, increase the number of iterations.\n  warnings.warn(\n/local_disk0/.ephemeral_nfs/cluster_libraries/python/lib/python3.9/site-packages/sklearn/svm/_base.py:1244: ConvergenceWarning: Liblinear failed to converge, increase the number of iterations.\n  warnings.warn(\n/local_disk0/.ephemeral_nfs/cluster_libraries/python/lib/python3.9/site-packages/sklearn/svm/_base.py:1244: ConvergenceWarning: Liblinear failed to converge, increase the number of iterations.\n  warnings.warn(\n/local_disk0/.ephemeral_nfs/cluster_libraries/python/lib/python3.9/site-packages/sklearn/svm/_base.py:1244: ConvergenceWarning: Liblinear failed to converge, increase the number of iterations.\n  warnings.warn(\n/local_disk0/.ephemeral_nfs/cluster_libraries/python/lib/python3.9/site-packages/sklearn/svm/_base.py:1244: ConvergenceWarning: Liblinear failed to converge, increase the number of iterations.\n  warnings.warn(\n/local_disk0/.ephemeral_nfs/cluster_libraries/python/lib/python3.9/site-packages/sklearn/svm/_base.py:1244: ConvergenceWarning: Liblinear failed to converge, increase the number of iterations.\n  warnings.warn(\n/local_disk0/.ephemeral_nfs/cluster_libraries/python/lib/python3.9/site-packages/sklearn/svm/_base.py:1244: ConvergenceWarning: Liblinear failed to converge, increase the number of iterations.\n  warnings.warn(\n/local_disk0/.ephemeral_nfs/cluster_libraries/python/lib/python3.9/site-packages/sklearn/svm/_base.py:1244: ConvergenceWarning: Liblinear failed to converge, increase the number of iterations.\n  warnings.warn(\n/local_disk0/.ephemeral_nfs/cluster_libraries/python/lib/python3.9/site-packages/sklearn/svm/_base.py:1244: ConvergenceWarning: Liblinear failed to converge, increase the number of iterations.\n  warnings.warn(\n/local_disk0/.ephemeral_nfs/cluster_libraries/python/lib/python3.9/site-packages/sklearn/svm/_base.py:1244: ConvergenceWarning: Liblinear failed to converge, increase the number of iterations.\n  warnings.warn(\n"
     ]
    },
    {
     "output_type": "display_data",
     "data": {
      "image/png": "[encoded data removed]"
     },
     "metadata": {
      "application/vnd.databricks.v1+output": {
       "addedWidgets": {},
       "arguments": {},
       "data": "data:image/png;base64,iVBORw0KGgoAAAANSUhEUgAAAYgAAAEaCAYAAAAL7cBuAAAAOXRFWHRTb2Z0d2FyZQBNYXRwbG90bGliIHZlcnNpb24zLjUuMSwgaHR0cHM6Ly9tYXRwbG90bGliLm9yZy/YYfK9AAAACXBIWXMAAAsTAAALEwEAmpwYAABAMUlEQVR4nO3dd3zV9fX48dfJhpCEAEkYYYQpGySAFi3gBCeKA9SK1kW1arXWalut+tNWW221igMHrq8zuMUBCk5WUEYIO0RIGFlkk3nfvz8+N+ESbpKb5H5yb5LzfDzyyL2fdU/4cO+57y3GGJRSSqm6AnwdgFJKKf+kCUIppZRbmiCUUkq5pQlCKaWUW5oglFJKuaUJQimllFuaIFSHJyIni8g2X8ehlL/RBKE6FBFJF5HTXLcZY74zxgzzUTwhIvKYiGSISLEzvsed+z4XkQfcnHO+iBwQkSDn80kiskRE8kUkT0TWiMjVrfynqHZIE4RSPuL8gL8bSAQmARHANOAn5yGvAFeIiNQ59TfA/xljqkTkROBr4BtgMNAd+B0w0/Y/QLV7miBUhyci00Qkw+V5uojcISIbRaRARN4WkTCX/eeIyHrnN/YfRWSMy767RGSXiBSJSKqIXOCy7yoR+UFE/isiucB9wETgfWPMPmNJN8a86jzlA6wP/JNdrhENnAPUHPNv4BVjzCPGmBznNdYZYy7x9r+T6ng0QSjl3iXADCABGANcBSAi44GXgBuwPryfAz4SkVDnebuwPtCjgPuB10Wkl8t1JwNpQBzwELAKuF1EbhSR0a6lBWPMYeAd4Mo6cW01xmwQkc7AiUCSF/9upWppglDKvf85v9XnAR8D45zbrweeM8asNsZUG2NeAcqBEwCMMe86z3MYY94GdmBVH9XYZ4x50hhT5UwA/wQeAS4HkoFMEZnncvwrwEUuJZgrndsAorHew/u9+6crZdEEoZR7B1welwJdnI/7A390Vi/li0g+0BfoDSAiV7pUP+UDo4AeLtfa6/oiziSzwBgzBeiKVap4SUSGO/d/D+QAs0RkEFayecN5+iHAAbiWUJTyGk0QSjXNXuAhY0xXl5/Oxpg3RaQ/8Dzwe6C7MaYrkAK4NjLXO32yMeawMWYB1gf/CJddr2KVHK4AvjDGHHQeXwqsBGZ7789T6ghNEKojChaRsJofIKgJ5z4PzBeRyWIJF5GzRSQCCMdKANkAzq6moxq6mIj8wdlI3klEgpzVSxHAzy6HvQqcBlzHkeqlGncCV4nIn0Sku/OaY0XkrSb8TUq5pQlCdURLgMMuP/d5eqIxJhnrg/oprG/6O3E2YBtjUoHHsL7VHwRGAz80cslS5zkHsKqSbgJmG2PSXF4zHfgRKwF9VCeeH4FTnD9pIpIHLHT+jUq1iOiCQUoppdzREoRSSim3NEEopZRySxOEUkoptzRBKKWUcksThFJKKbea0v/br/Xo0cMMGDDA12EopVSbsm7duhxjTIy7fe0mQQwYMIDk5GRfh6GUUm2KiPxS3z6tYlJKKeWWJgillFJuaYJQSinlliYIpZRSbmmCUEop5ZYmCKWUUm61m26uqhWUFcAvP4KvZgCO7A29x/nmtZtq33oo3OfrKFouNAISTvZ1FK1v38/QaxyINHpos1RXQto3UF1x7L6gEEiYCoHBnl1rzypAoN9kr4YImiBUU3x5D/xUd72aVhQQBLdvgS6xvovBE8XZ8MKp4KjydSTecdUSGDDF11G0nt3fwSvnwIXPw5hLajenZRdz3avJnDY8jrtmHoc0kjwcDsPfP9rM2vQ8XpiXSHx05yM7f3oFPv1j/SfPfhFGX+RZvMv/ARUlcN1Xnh3fBJoglGeqyiH1AzjuHPj1n1r/9Yv2w5tzYPMHMPn61n/9pkj9wEoOc96AyD6+jqb5HNXwyrmw6d2OlSA2vu38/U5tgtiZVcTc51dTcLiS575N43BlNfedO5KAAPdJotph+FPSBt77KZOQoAAufW4Vb153Av26O5PExnch5ji44LmjT3RUwwunQN5uz+MtzIS4BhcubDZNEMozu762qpiOn+ejap5xEDsSUhb7f4JIWQyxI+C4s30dScsNmwmpH8JZ//a8yqMtq6qALR9BQDCkLYeSXLYVhXD5C1Y1zqc3n8S76zJY+G0aVQ7Dg+ePOiZJVFU7+OO7G/hw/T5uO20opw6P5YoXV3PpwpW8ed0JDAjKg72r4JR73L+XwmOgYK9n8RoDBRkwdEaL/3R3tJFaeWZTEnSKhoHTfBfDqAutN1a+h28eX8jfC3tWWrG2B6Nmw+E8SFvh60hax66vrC9C0+8GRxX7V73N3OdXERggvH3DCQyJi+Dumcdx47RBvLF6D3e/twmH40ibXGW1g1vfXs+H6/fxpzOHcetpQxjVJ4o3rj2B8ioHly5cSe5q53Lh9f0fiexjlQo8UZoHVWUQFd/CP9w9TRCqcRUlsG0JjDjfakDzlVGzrd+b3/NdDI3Z/L71uybWtm7wqRAWZZWKOoKUxdCpG/zqFsqjBpHx3euEBgXw9vUnMiimCwAiwp/OHMYtpw7h7eS93JG0gWqHoaLKwc1v/MynG/fzl7OO46bpg2svO6J3JG9edwLVDkPWyjcoix0H3Qa6jyEq3ioVeKKmpGFTVaZWManGbf8cKkt9/6HXLQH6TLBKM1Nu9W0s9UlJgt7H1//mb2uCQmH4ubD5QzjnMAR38nVE9qkoha1LYMwlbNxfwvcFxzOfJJIuG0CfHuFHHSoi3H76UIIChP8s3U61w1BaUc3S1IPcc84Irjkp4ZjLD+sZweJLYun/Rhr/yZnH2QeKGNYz4tg4ouKtEpsxjfeiqilp2FSC0AShGpfyHnTpCf39oKFy1EXwxd2QswN6DPF1NEfL2Qn7N8CZ//DaJT/ZuI9/f7GNiiqH167pTr9unXnysvHERoQdu3PURfDz67DjS6sU6YdKyqu4490N9IwK456zR9TbeOxq8boMHv9qO1XVVhXRqdXf82BVCTduTGDZ6pUkdpnKjWXv0mffF9D/RrfXuOXUIQQFCv/6fBsAD5w/kitPHFDva/bf9zkG4evAKbz+/CqW3T6VbuF1SuVR8VBRbFV1dera8B9RU9LQBKF84nC+9cGQeA0EBPo6Ghg5C774i1UVMO0uX0dztJTFgMDIC7xyufd/zuCP72xgeK9IRiZEeuWa7hgDn27az5yFVk+buMg6SWLAyVbDacpiv0wQxeVVXL1oDWvTDwFQcLiSf180lsAGksSba6z2g7HxUbXf4uf8spaCwz2IGHoyc0NCuGHqNHhroVUqPNF9ggC4cdpgekaGERoUyNljetUfqDGQkoT0n8I/Tj+T8576gSWb9nPFCf2PPq6muqgw07MEERgKnXs0fFwzaYJQDdv6qTWYx9M+2XaL7G2VZFIWw9Q/2zeQqamcb376/8qKsYXeSd7Lnxdv5MSB3XlhXiKdQ+x9q14ysS9XvbSGS59byRvXnUDvri5VSYFBMGIW/PwalBVCmH3JqqkKyyq56qU1bMgo4KnLxpOWXVJb5fPYxWMJCjy2mfW1Vb9wzwcpTBsWw7NXTCAsOND6IvToaph4LY/MOP7IwaNmw7K/W91Oux1bbVTjwuM9+AZ/MAVytsPk+YzuE8WgmHA+2bjv2AQR1df6XZABcSMbvmZBhvX/LcCe5mRtpFYNS0mCrv2tun9/MXq29UY7sMnXkRxR8+b3QjvNm2v2cGfSRk4a3IMX5020PTkATBzQjVevmUxucQWXLlxJxqHSow8YfZHVW2bbZ7bH4qmCw5X85sU1bMwo4Km54zlnTG9uOXUId84Yxofr93Hr2+uprD66au7lH3ZzzwcpnDY8lud+40wOcOSL0Kg6X4Rqehp5o5F+UxJIIIyYhYhwzpjerN6dR1Zh2dHHRTlLEJ40VBdm2la9BJogVEOKs63pAEbN9p9v6gDDz7dGVftTz5qUxc43f8uqYF5b9Qt3v7eJacNieP7KRDqFtF613oT+0bx27WQKSiu59LlV7Ml1SRLxkyAy3vrC4AfySyu4/IVVpO4r4OnLj2fm6CNVOzdOG8xfzjqOTzfu5+Y3fq5tv3nhuzTu+ziVM0fG8fTlEwgNcvm3TUmC6AHQ5/ijX6hrP+g72WqHawljrGsMmg7h3QE4Z0wvjIElm/YffWyXOOv/tycJoiBDE4TykS0fgqn2fe+lusK7w8Dp1hvOV/NCuTLGShCDpkN48+uC6/1224rG9e3KG9edQHF5FXMWriQ9p8TaERBgfZve9bXV996H8koquOz51Ww/UMxzv5nAGSN7HnPM9b8exD3njODzzQe48f9+YsHynTz46RbOHt2Lpy47npAgl4++xr4IjboIsjZD1pbmB52RDAV7jiqhDImLYFhcBJ9srJMgAgIhonfjYyGqq6wZBmxMENoGoeq3abE1HUBj9aC+MGo2fDCfnT99zV+TO3O4sto7l+0Txd/PHXH0t8vGZCRD/h6YdnezX/eF79J48NMtnDkyjifn1vkAa2Wj+kTx5nUncPkLq5j19A/062ZNDzGwahCPO6pY8PRjfBE202fxHSgoo+BwJc/PS2Tq0Jh6j7vmpASCA4V7P9zMsi0HOW9sb/5ziZt2idQPGv4iNHIWfP5n60vAKX9rXtApSVZjcp3R9eeM6cVjS7ezL//w0e0+noyFKNoPxmHrdC62JggRmQE8AQQCLxhjHq6zvz/wEhAD5AFXGGMynPuqgZpK5j3GmPPsjFXVUZAJe36E6X/1r+qlGsedjSMwhFUfP096yLWM6NXyhtMqh+GN1XvYn3+YZ65owjf4lMVu3/yeembFLh75fCtnje7JE3PGE+ymYbW1jegdyVvXn8gTX23ncIWVfAvMcPYXx3NK5fckd/ddb6bYiDCuOSmBEwd1b/TYK08cQGRYMDuzirnt9KHuezalvAcxw+v/ItQlFhJ+bd3n5rwfHNXWAMqhZxzTwH/O2N48tnQ7Szbt59qTXcbORPWBvWsavm7tGIi+TYunCWxLECISCCwATgcygLUi8pExJtXlsEeBV40xr4jIKcA/gd849x02xoyzKz7ViJrRyv5WveSUfKCKQ1XjmBmwilPmv0Dvbl28ct03Vu/hL+9v4rpXk3n+ysTGk4Sj2vq3GnK6NeK4iZ78agePLd1e/7dbHxrWM4KnL6/TOWH55fT65l8smt0XIhvo0ulHZo1v4Bt2QYbzi1AjJYNRs+Gjm61pwOu2UzQm/XsoPuj2vZTQI5yRvSP5eGPdBBFvTUzpcNTfQ6l2DIR9JQg7/zdOAnYaY9KMMRXAW0Ddrx0jgK+dj5e72a98JWUx9B4P3Qf5OpJjrE7L5cqX1vB9p2l0N4fonb/Oa9e+bHI//jV7DN/vzOGaV9bWfnuu1y8/WG/+JnYDNsbw36XbeWzpdi4c34f/XjrOr5JDvUbNBoxVLdMe1E6N0sjcWcPPtSbwa07HiJTFENIFhpzpdvc5Y3qzYW8+e/NcOgVE9gFHJZRk1X/dmgRhYxWTnf8j+wCus6plOLe52gDU3JkLgAgRqSk3holIsoisEpFZNsap6srdZX1T8sPSw4+7crhq0Vp6RYVx03U3Wm88L/esuWRiXx69aCwrd+Vy9ctrKClvYF2HTUkNvvndMcbw2JfbeeKrHVw0IZ5/X9zwoC6/EjMM4kZbf3d7sCnJsy9CnaJh8GlWQnE0YVR7VYU1G+6wsyCks9tDznEOrjuqsdp1LER9CjIgNMrWcSm+bqS+A3hKRK4CvgUygZqvbP2NMZkiMhD4WkQ2GWN2uZ4sItcD1wP069ev9aJuLzJ/gkPpx27fucz6PdK/ZiT9fkcO1766ln7dOvN/155ATISz3j/1I+css977kJ0dCv1OyuOVH1fx3NPfcOP0wYS5azje8lGDb/66jDE8/PlWnvsmjbmT+vLQrNEeTQvhV0bPhmX3wU+vWsmxrSovhP3r4YyHPDt+9EWw/TNY+aTn9f45O6Asv8ESZt9unRnbtyufbNzH76Y5E5XrWIj4RPcn2jwGAuxNEJmA679ivHNbLWPMPpwlCBHpAsw2xuQ792U6f6eJyApgPLCrzvkLgYUAiYmJftDfsQ0pzYOXznS/5CFYSx7aWLdZnzfX7OGrLQeP2W4MfLczh4E9wvm/ayfTvUuotWPsHGuBl6Tfej2WicDEYKAA+KD+4/6TdTypr6z16JqFh6tYk57HFSf044Hzjl1LoE0YNRu+fsiqk2/rAkM8nxpl6AzrG/vSe5v2GuGxVrfsBpw7phcPfrqF3TklJPQIP1Jt1GAJYq/t71E7E8RaYIiIJGAlhjnAZa4HiEgPIM8Y4wDuxurRhIhEA6XGmHLnMVOAf9kYa8ez5WMrOcx5A7q5KV53ta9nRH2e+noHj365nQHdOxMeeux/zWlDY3hk9hiiXSc3G3QK3LoBKsuOOd5bftiVw5tr9lLlpmqhghAOVvaEAs9f/5ZTh3DbaUMaXbLSb3XtB3/YZE0m19Z16goRx46jcCu0C9zyE5TkNO01usQ2Ok3+WaOtBPHJhn3cfOoQq0orOLzhsRAFmRA/sWmxNJFtCcIYUyUivwe+wOrm+pIxZrOIPAAkG2M+AqYB/xQRg1XFdJPz9OHAcyLiwGonebhO7yfVUimLrSmph53lF91YH1+2nceX7WDWuN48Ws8cOvWKHmBbXABTYmHKiba+RNsT2avN9GLyqvAeLRoMWZ/eXTuR2D+aTzbutxKEiFU6qG9luYpSayEnm5e0tbUNwhizBFhSZ9u9Lo+TgGNau4wxPwKj7YytQys6COnfwcl3+Dw5GGP4z9LtPPn1Ti6aEM8js8e0nQZbpbzonDG9uO/jVHYcLGJIXIRzsFw9JYhWGAMBOtVGx5T6gTUC08e9lIwxPPL5Np78eidzJvblX5ocVAd21uheiLj0ZorsU38bRE3JwuY2CE0QHVHKYogbBbHH+SwEYwwPfbqFZ7/ZxeWT+/GPC9pgbx6lvCg2MoxJA7rxycZ9GGOs0kFJFlSVH3twTcmiDfdiUv4ofw/sXQ2nNrEnRjNUVjt4fNl28koqj9l3sLCMr7dmMe/E/tx33si222CrlBedM7Y393yQwtYDRQyvKR0UZh67hG1BBiAQ0ZtFP+zmcGU1N04bfMz1WkoTREeT0npTaCxel8GC5bvo0SXkmAQgwE3TB3HHGcM0OSjlNM05+eDPe/IZHuMsHRS4SRCFGda04EEhfLbpACJoglBekJIEfRJt7/lTXlXNk1/vZFzfrrx/4680CSjlgZ5RYYhYJWwG1SQIN+0QBRm17Q8Hi8oYG9/Vlni0DaIjyXauwtYKy4e+k5xBZv5hbj99qCYHpTwUHBhA9/BQsorKjjRAF7pLENYoamMMBwvLiIsMtSUeTRAdScpiQKz1hW1UVlnNgq93ktg/mpOH2LOYulLtVVxkKAcLyyG4E3TufmwJwhjnWtTxFJZVUVbpIC4yzJZYNEF0FDWrng04yfYBTm+u2cOBwjItPSjVDHGRYVYVE7gfC3H4EFQdhqj42vWsYzVBqBY5sBFyd9jeOH24opqnV+zihIHd+NVgLT0o1VS1JQiw1gGvW4JwGQNRc1xchFYxqZZIWWwthD7C3iU3Xl/1C9lF5dx++jBbX0ep9io2IozcknIqqx1WCaLufEwuYyAOOEsQWsWkms/hsLq3DjoFOnez7WVKyqt49ptdnDykB5MS7HsdpdqzuMgwjIGc4nKrobq88OiJEWsXCoqvrYrSBKGaL2OtVSy1uXrplZXp5JZUcNvpQ219HaXas5oeSQcLy4+MlHZthyjMsKYpD48hq7CMyLAgOoV4uH56E2mC6AhSkiAozJq51SZFZZUs/DaN6cNiOL5ftG2vo1R7V1MaOFhYZrVBwNHtEAUZENkbAgI4WFhuW+kBdKBc+1FRCtuWQPWx01qw+X0YcoatSxMu+iGd/NJKLT0o1UKxzhJEVmEZxDsThOtYiILM2llcDxaVaYJQHlj9DHz1QP37x11W/746th4oZN0vhzw+3hh4/rs0ThsexxibRnQq1VF0Dw8lMECsKqaIviCBx5YgBpwEQFZhOZMHhtsWiyaI9mLTYmsKjdkvHLsvKNQqknrg2+3ZXPdqMuVVTViYHQgKEG7X0oNSLRYYIMR0CbWqmAICrfduTRuEoxqK9kNUPA6HIUtLEKpRWVsgazPM/Dd0S2j2ZZZvzeKG19cxKKYLT19+POFNaPgKCwkkMiy42a+tlDoiLjK0tgsrkX2OdHUtOgCmGqL6cKi0gspqY9sYCNAE0T6kLAYJgJGzmn2JZakHufH/fmJozy68fs1kunZueA1dpZR9YiPD2JNbaj2JiofMZOtxTVVTVN8jg+RsLEFoL6a2rmYKjYRfW4ujN8PnKQeY//o6hveK4P+uOUGTg1I+1jMyjINFNdNt9IHCfdZ4pprG6sg+tfvtmmYDNEG0fft+hrw0GNW8GVo/3bifm974idHxUbx27WSiOms1kVK+FhcZSn5pJWWV1VaPpeoKKMl2KUEcmYfJrplcQRNE25eyGAKCYfg5TT71w/WZ3PLWz4zv25VXfztJ2xCU8hM1pYLsonKrDQKs0kNBJoRGQlgkBwqsKqbYCC1BKHccDmuMw+DToFPTBqe991MGt729nsT+0bzy20lEaHJQym8cNVguymWwXEFG7fODRWV0Dw8hJMi+j3FNEG3Z3lVW74YmLgD0TvJe/vjuBk4Y2J1FV08kPFT7KijlT+qdbqMwo7ZEkVVYZmv7A2iCaNs2JUFQJxg6w+NT3lyzhzuTNnLS4B68dNVEOodoclDK38RFuJQgOkVDcOdjSxCF5ba2P4AmiLarugpSP4BhMyG0i0envLYynbvf28T0YTE8f2UiYcH2TPCllGqZrp2DCQkMsHoqiVilhtydUJp7ZC3qwrLaRGIXWxOEiMwQkW0islNE7nKzv7+IfCUiG0VkhYjEu+ybJyI7nD/z7IyzTdq9wvrP4uEMrYt+2M09H27mtOGxPPubCZoclPJjIkJsZChZNQsHRcXD3tXOx32pqnaQU9yGSxAiEggsAGYCI4C5IjKizmGPAq8aY8YADwD/dJ7bDfg7MBmYBPxdRHSKUFcp70FoFAw5vdFDX/gujfs/TuXMkXE8ffkEQoM0OSjl745eerQPlOVbjyP7kFtSgcPYOwYC7C1BTAJ2GmPSjDEVwFtA3eXMRgBfOx8vd9l/JrDUGJNnjDkELAU8r2hv7yrLYMvHVtfWoIa/QTyzYhcPfrqFs0f34qnLjre1x4NSynuspUdrEkTfIzui7F8oqIadnxZ9gL0uzzOc21xtAC50Pr4AiBCR7h6e23HtXGatMtVI9dKTX+3gkc+3ct7Y3jwxZxzBgZoclGorYiPCXNamdvn4i+ztMs1GG61i8tAdwFQR+RmYCmQC1Z6eLCLXi0iyiCRnZ2fbFaP/SUmCzj0gYarb3cYY/rt0O48t3c6F4/vw30vHEaTJQak2JS4yjOLyKorLq450dQ2PhaDQdlGCyARcykXEO7fVMsbsM8ZcaIwZD/zVuS3fk3Odxy40xiQaYxJjYmK8HL6fKi+GbZ9bE/MFHttF1RjDo19u44mvdnDxhHj+ffFYAgOk9eNUSrVIzyiXhYNqEoTzd1ZhGQEC3cPtnTfNzgSxFhgiIgkiEgLMAT5yPUBEeohITQx3Ay85H38BnCEi0c7G6TOc29S2z6DqsNvqJWMMD3+2lQXLdzF3Ul8emT1Gk4NSbdSRsRAu0204u7geKCyjR5dQ22sGbLu6MaYK+D3WB/sW4B1jzGYReUBEznMeNg3YJiLbgTjgIee5ecD/w0oya4EHnNvUzqVWMbPvCUdtNsbw4KdbeO7bNK44oR8PzRpNgCYHpdqsmh5KWUVlENIZYo6D3uMBbF+Luoatw2iNMUuAJXW23evyOAlIqufclzhSolA1DqZCr7EQcCS3G2O4/+NUXv4xnat+NYC/nzsCEU0OSrVlR6bbcPZk+t2P1rovzm3x0Z1tj0FbLtuS6irI2Qaxw2s3ORyGv32Qwss/pnPtSQmaHJRqJ7qEBtE5JPBIT6aAQGtUNZBVZP8gOdAV5dqWvDRrXvhYa7yhw2H4y/ubeGvtXuZPHcSfZwzT5KBUOyEiRw+WcyqvqiavpKLtVzEpL8vabP2OG0G1w/DnxRtJWpfBzacM5vbTh2pyUKqdiY1wmW7DKbuodcZAgFYxtS1ZW0ACqIoezB3vbiBpXQa3nTaUP56hJQel2qM416VHnWqqnOyeZgO0BNG2ZKViogdy2/vb+XjDPv505jBumj7Y11EppWxSM92GMab2S2DtUqM2z+QKWoJoW7K2sNURz8cb9nH3zOM0OSjVzsVFhlFW6aCwrKp228FWWIu6hiaItqLyMCYvjWW53bk0sS83TB3k64iUUjarHQvh0lB9sKic4EAhurO9o6hBE0Tbkb0NMQ62m77cctoQX0ejlGoFcRFWKeGAa4IoLCM2IqxVBsJqgmgjcnevB2DwqEn06drJt8EopVpFzyiX6TacsgrLiW2F6iXQBNFmbPp5FeUmmEvPdD+Dq1Kq/Yl1XZva6UArLDVaQxNEG5CeU4JkpZLXeQA9oz1bf1op1fZ1CgkkMizo6DaIwrLakoXdNEG0Af/7agdDZS/RA8b6OhSlVCuzRlNbVUylFVUUlVVpFZOy7Mwq5qv12+kleYT1GeXrcJRSrcx1sFzNqGqtYlIAPPHVDkYF77OeOOdgUkp1HLGRR6bbaK2V5GpogvBj2w4U8cnGfVw5qNTaoAlCqQ4nLjKMrKIyHA7DwVachwk0Qfi1x5dtJzwkiKldsyEk4siyg0qpDiMuIpTKasOh0oraxurWmIcJNEH4rc37Cvgs5QC/nTKAsLzt1hoQOiGfUh1OTXXSwcJyDhaWERYcQGRY60yjpwnCTz2+bAcRYUFcMyUBslKPWiRIKdVx1JQWDhaV1S412lqzN2uC8EMbM/JZmnqQa08aSJTjEBzOg7iRvg5LKeUDNe0NWYVlHGzFQXKgCcIv/Xfpdrp2Dua3Jw04skiQliCU6pBiImrWpi4nq6j1ptkATRB+Z90vh1i+LZvrfz2QiLBga5Eg0B5MSnVQoUGBdAsP4UBhGQcKylqtiytogvA7jy/bTrfwEOadOMDakJUK4TEQ3sOncSmlfCcuMoydWcUcrqympyaIjmnN7jy+25HD/KkDCQ919lLI2qKlB6U6uLjIUDZnFgBoFVNH9Z+l2+jRJZTfnDDA2uBwQNZWTRBKdXBxEWGUVFRbj7UE0fH8uCuHVWl53DhtEJ1CAq2N+b9AZYk2UCvVwbmOnNYE0cEYY/jPl9uJiwzlssn9juzQBmqlFEePnI6NaCdVTCIyQ0S2ichOEbnLzf5+IrJcRH4WkY0icpZz+wAROSwi650/z9oZp699tyOH5F8O8fvpgwkLDjyyIyvV+h17nG8CU0r5hZpSQ0Ro0JH2yVZg2yuJSCCwADgdyADWishHxphUl8P+BrxjjHlGREYAS4ABzn27jDHj7IrPXxhj+M/S7fTp2olLJvY9emdWKnTtB6ERvglOKeUXaqqYWrOBGuwtQUwCdhpj0owxFcBbwPl1jjFApPNxFLDPxnj80vJtWazfm8/vTxlMaFDg0Tu1B5NSiiMliNZsfwB7E0QfYK/L8wznNlf3AVeISAZW6eFml30Jzqqnb0TkZHcvICLXi0iyiCRnZ2d7MfTWUVN66NutExdNqDNTa1UF5GzXBKGUont4CAHSvhKEJ+YCLxtj4oGzgNdEJADYD/QzxowHbgfeEJHIuicbYxYaYxKNMYkxMTGtGrg3fJl6kJTMQm45ZQjBgXVuRd4ucFRpglBKERQYwOzj4zlteFzrvq6N184EXCvV453bXF0DzAAwxqwUkTCghzEmCyh3bl8nIruAoUCyjfG2KofD8N+l20noEc4F4+sWrICDOgeTUuqIf1/c+mvSe1yCEJFOIjKsCddeCwwRkQQRCQHmAB/VOWYPcKrz+sOBMCBbRGKcjdyIyEBgCJDWhNf2e59vPsDWA0XceuoQguqWHsBqf5BA6DGk9YNTSik8TBAici6wHvjc+XyciNT9sD+KMaYK+D3wBbAFq7fSZhF5QETOcx72R+A6EdkAvAlcZYwxwK+BjSKyHkgC5htj8pr6x/mramfpYXBsF84d29v9QVlbrOQQ1Lq9FpRSqoanVUz3YfVKWgFgjFkvIgmNnWSMWYLV+Oy67V6Xx6nAFDfnLQYWexhbm/PJxn3syCrmqcvGExhQz8IfWanQq/WLlEopVcPTKqZKY0xBnW3G28F0BFXVDp5YtoNhcRGcNaqX+4MqSuBQui4SpJTyKU8TxGYRuQwIFJEhIvIk8KONcbVbH67fR1pOCbedPoSA+koP2VsBow3USimf8jRB3AyMxOpZ9AZQAPzBppjarcpqB//7egcje0dy5sie9R+oczAppfxAo20Qzt5EnxpjpgN/tT+k9uu9nzL4JbeUF65MbHjR8awtENQJoge0WmxKKVVXoyUIY0w14BCRqFaIp92qqHLwv692MjY+ilOHxzZ88MHNEDMMAgIbPk4ppWzkaS+mYmCTiCwFSmo2GmNusSWqdujddXvJzD/MQxeMarj0AFYJYtAprROYUkrVw9ME8Z7zRzVDWWU1T329kwn9o5k6tJEpQUrzoPgAxGn7g1LKtzxKEMaYV5yjoYc6N20zxlTaF1b7UVZZzQ2vrWN/QRmPXTLWs9IDaA8mpZTPeZQgRGQa8AqQDgjQV0TmGWO+tS2yduBwRTXXvZrMD7tyeGT2aH41qEfjJ9UuEqQlCKWUb3laxfQYcIYxZhuAiAzFmhpjgl2BtXWlFVVc83Iyq3bn8u+Lxh47nXd9slIhLAoi6hlEp5RSrcTTBBFckxwAjDHbRSTYppjavOLyKn67aC3Jv+Tx30vGMcvdbK31qVkkqLGqKKWUspmnCSJZRF4AXnc+v5x2NPW2NxWVVXLVorWs35vPE3PG1z8ZnzvGWCWIURfZF6BSSnnI0wTxO+AmoKZb63fA07ZE1IYVllVy5YtrSMks4Km545k5uonVRIX7oKxAG6iVUn7B0wQRBDxhjPkP1I6u1nmo63ht5S+s35vPc7+Z0PBUGvXRKTaUUn7E07mYvgI6uTzvBCzzfjht2/q9+QyMCW9ecgCXHkxaglBK+Z6nCSLMGFNc88T5uLM9IbVdmzIKGNOnBTOSZG2xei917ua9oJRSqpk8TRAlInJ8zRMRSQQO2xNS25RVWMaBwjJGx3dtwUU2a+lBKeU3PG2DuBV4V0T2OZ/3Ai61J6S2aVOmtZ7SmPhmliAc1ZC9DSZe68WolFKq+TxNEAnAeKAfcCEwGV1R7igbMgoIEBjRK7J5FziUDlVlWoJQSvkNT6uY7jHGFAJdgelYXVyfsSuotmhTRj6DY7sQHuppzq3j4Gbrt/ZgUkr5CU8TRLXz99nA88aYT4EQe0Jqe4wxbMosYHSfrs2/SNYWQKx1IJRSyg94miAyReQ5rHaHJSIS2oRz2739BWXkFFcwtm9LejClWivIhYR7LS6llGoJTz/kLwG+AM40xuQD3YA/2RVUW7Mxw2qgHt3SLq5avaSU8iOergdRisuCQcaY/cB+u4JqazZl5hMUIAxvbgN1VTnk7oQR53k3MKWUagGtJvKCjRkFDI2LICy4mWtI52wHU609mJRSfsXWBCEiM0Rkm4jsFJG73OzvJyLLReRnEdkoIme57Lvbed42ETnTzjhbwhjDxoyC5o9/AJ2DSSnll5rZJ7Nxzgn9FgCnAxnAWhH5yBiT6nLY34B3jDHPiMgIYAkwwPl4DjAS6A0sE5Ghxphq/MzevMMUHK5kdIsSRCoEBEP3wd4LTCmlWsjOEsQkYKcxJs0YUwG8BZxf5xgD1FTcRwE1I7XPB94yxpQbY3YDO53X8zsbM/MBGNOSLq4HU6HHUAjUNZiUUv7DzgTRB9jr8jzDuc3VfcAVIpKBVXq4uQnnIiLXi0iyiCRnZ2d7K+4m2ZRRQEhgAMN6RjT/IllbtP1BKeV3fN1IPRd42RgTD5wFvCYiHsdkjFlojEk0xiTGxMTYFmRDNmYUMLxXBCFBzfynLCuEgj2aIJRSfsfOBJEJ9HV5Hu/c5uoa4B0AY8xKIAzo4eG5PudwGFIyC1rW/pDtXOpbG6iVUn7GzgSxFhgiIgkiEoLV6PxRnWP2AKcCiMhwrASR7TxujoiEikgCMARYY2OszbI7t4Si8qqWtT9k1czBpCUIpZR/sa0XkzGmSkR+jzUCOxB4yRizWUQeAJKNMR8BfwSeF5HbsBqsrzLGGGCziLwDpAJVwE3+2INpU80I6pZ2cQ0Oh679vRSVUkp5h20JAsAYswSr8dl1270uj1OBKfWc+xDwkJ3xtdTGjALCggMYEtul+RfJSoXY4yDA181BSil1NP1UaoFNmfmM7B1FUGAL/hm1B5NSyk9pgmimaochJbOwhRP0bYWSbOg1zmtxKaWUt2iCaKZd2cUcrqxu2RQbKYtBAmC4TtKnlPI/miCaacPefKAFa1AbAylJMOBkiIjzXmBKKeUlmiCaaVNmAeEhgST0aGYD9f71kJcGo2Z7NS6llPIWTRDNtDGjgJF9oggMkOZdYFOSNUHf8HO9G5hSSnmJJohmqKx2kLq/kDHNbaB2OGDz+zD4VOjczbvBKaWUl2iCaIbtB4uoqHIwpm/X5l1g7yoozIRRF3k1LqWU8iZNEM1QM4K62SWIlMUQ1AmGzfRiVEop5V2aIJphY2YBEWFB9O/eueknV1fB5g9g2AwIbcEIbKWUspkmiGbYebCYYXERiDSjgXr3N1Cao72XlFJ+TxNEM+zOLSGhR3jzTk55D0IjYfDp3g1KKaW8TBNEExWVVZJdVM6A5iSIqnLY8jEcdw4Eh3k/OKWU8iJNEE30S24pAAObkyB2LoPyAhit1UtKKf+nCaKJdueUADSvBLEpCTp3h4SpXo5KKaW8TxNEE6XXJIjuTUwQFSWw/XMYMQsCg70fmFJKeZkmiCbanVNCz8gwOoUENu3EbZ9BZan2XlJKtRmaIJqo2T2YUhZDRG/od6L3g1JKKRvYuuRoe5SeU8KMUb3c78zfA2tfhLrLZxsDO5bC5Bt0aVGlVJuhCaIJ8ksrOFRaSUKPekZQf/cfWLcIgt3sD4uE8VfYG6BSSnmRJogm2N1QA3V1JaR+aE3Ad9GLrRyZUkp5n9Z3NEF6rpUgBsa4SRBpK+BwHozWGVqVUu2DJogm2J1TSoBA325uqpA2JUFYFAw6pfUDU0opG2iCaIL0nBJ6d+1EaFCdLq6Vh2HrpzD8PAgK9U1wSinlZZogmmB3Tj1dXHd8CRVFOsZBKdWu2JogRGSGiGwTkZ0icpeb/f8VkfXOn+0iku+yr9pl30d2xukJYwzp9SWIlMUQHgsJv279wJRSyia29WISkUBgAXA6kAGsFZGPjDGpNccYY25zOf5mYLzLJQ4bY8bZFV9T5ZZUUFRedWwPprJC2P4FHH8lBDRxdLVSSvkxO0sQk4Cdxpg0Y0wF8BZwfgPHzwXetDGeFqmZg+mYEsS2z6CqTNeXVkq1O3YmiD7AXpfnGc5txxCR/kAC8LXL5jARSRaRVSIyq57zrncek5ydne2lsN1Lqy9BpCRBVF+In2jr6yulVGvzl0bqOUCSMUfNUdHfGJMIXAY8LiKD6p5kjFlojEk0xiTGxMTYGmB6TglBAUJ8dKcjG0vzYNfXMPICnUJDKdXu2Pmplgn0dXke79zmzhzqVC8ZYzKdv9OAFRzdPtHq0nNL6NutM0GBLv9kqR+Co0oHxyml2iU7E8RaYIiIJIhICFYSOKY3kogcB0QDK122RYtIqPNxD2AKkFr33Na0O6eUAd3rDJBLWQzdB0PPMb4JSimlbGRbgjDGVAG/B74AtgDvGGM2i8gDInKey6FzgLeMMcZl23AgWUQ2AMuBh117P7W2I11cuxzZWLgf0r+3GqdFfBWaUkrZxtbJ+owxS4AldbbdW+f5fW7O+xEYbWdsTXGwsJzDldVHz+Ka+gFgdHCcUqrd0pZVD7hdh3pTEvQcDTFDfRSVUkrZSxOEB2pmca3t4nooHTKTtfSglGrXNEF4YHdOCSFBAfSOcnZxTVls/R55oe+CUkopm2mC8MDunBL6d+tMQICzMTrlPYifBNH9fRuYUkrZSBOEB9JzSo60P2RthYMpOvZBKdXuaYJoRLXD8EteKQNrEkTKYpAAGDHLp3EppZTdNEE0Yl/+YSqqHFYJwhhr7qUBJ0NEnK9DU0opW2mCaERND6YB3cNh/3rIS9PeS0qpDkETRCOOmuZ7UxIEBMPwc30clVJK2c/WkdTtwe6cUjoFBxIXEQyb34fBp0Lnbr4OSym/UVlZSUZGBmVlZb4ORTUgLCyM+Ph4goODPT5HE0QjducUM6BHOLJ3DRRmwmn3+zokpfxKRkYGERERDBgwANF5yfySMYbc3FwyMjJISEjw+DytYmpEem6pNQdTShIEdYJhM30dklJ+paysjO7du2ty8GMiQvfu3ZtcytME0YCqagd780oZ2D0UNn8Aw2ZAaJdGz1Oqo9Hk4P+ac480QTQg49BhqhyGSSYFSnO095JSqkPRBNGAmllcR+Qug9BIGHy6jyNSSqnWowmiAbtzSgihkm57v4DjzoHgMF+HpJSqIzc3l3HjxjFu3Dh69uxJnz59ap9XVFQ0eG5ycjK33HJLo6/xq1/9ylvhtinai6kB6bklzAhLIaC8UKuXlPJT3bt3Z/369QDcd999dOnShTvuuKN2f1VVFUFB7j/qEhMTSUxMbPQ1fvzxR6/EapeG/saW0ATRgN05JVwXshqCusPAqb4ORym/d//Hm0ndV+jVa47oHcnfzx3ZpHOuuuoqwsLC+Pnnn5kyZQpz5szh1ltvpaysjE6dOrFo0SKGDRvGihUrePTRR/nkk0+477772LNnD2lpaezZs4c//OEPtaWLLl26UFxczIoVK7jvvvvo0aMHKSkpTJgwgddffx0RYcmSJdx+++2Eh4czZcoU0tLS+OSTT9zG980333DrrbcCVuPxt99+S0REBI888givv/46AQEBzJw5k4cffpj169czf/58SktLGTRoEC+99BLR0dFMmzaNcePG8f333zN37lymTZvG7bffTnFxMT169ODll1+mV69eLfq31wRRj7LKatIys5hs1sCYyyDQ88ElSinfy8jI4McffyQwMJDCwkK+++47goKCWLZsGX/5y19YvHjxMeds3bqV5cuXU1RUxLBhw/jd7353zMCyn3/+mc2bN9O7d2+mTJnCDz/8QGJiIjfccAPffvstCQkJzJ07t8HYHn30URYsWMCUKVMoLi4mLCyMzz77jA8//JDVq1fTuXNn8vLyALjyyit58sknmTp1Kvfeey/3338/jz/+OAAVFRUkJydTWVnJ1KlT+fDDD4mJieHtt9/mr3/9Ky+99FKL/g01QdTjjdV7mFC2itCQMhilU3sr5YmmftO308UXX0xgYCAABQUFzJs3jx07diAiVFZWuj3n7LPPJjQ0lNDQUGJjYzl48CDx8fFHHTNp0qTabePGjSM9PZ0uXbowcODA2kFoc+fOZeHChfXGNmXKFG6//XYuv/xyLrzwQuLj41m2bBlXX301nTt3BqBbt24UFBSQn5/P1KlWDca8efO4+OKLa69z6aWXArBt2zZSUlI4/XSrI011dXWLSw+gCcKtwxXVPL1iF89GJkNwb+h3oq9DUko1UXj4kTXk77nnHqZPn877779Peno606ZNc3tOaGho7ePAwECqqqqadUxj7rrrLs4++2yWLFnClClT+OKLL5p8DTjyNxpjGDlyJCtXrmzWdeqjvZjceG1VOhXFuRxfsQ5GXgAB+s+kVFtWUFBAnz59AHj55Ze9fv1hw4aRlpZGeno6AG+//XaDx+/atYvRo0fz5z//mYkTJ7J161ZOP/10Fi1aRGlpKQB5eXlERUURHR3Nd999B8Brr71WW5qo+/rZ2dm1CaKyspLNmze3+O/SEkQdJeVVPPtNGjf32krAoUoYrb2XlGrr7rzzTubNm8eDDz7I2Wef7fXrd+rUiaeffpoZM2YQHh7OxIkTGzz+8ccfZ/ny5QQEBDBy5EhmzpxJaGgo69evJzExkZCQEM466yz+8Y9/8Morr9Q2Ug8cOJBFixYdc72QkBCSkpK45ZZbKCgooKqqij/84Q+MHNmyKj8xxrToAv4iMTHRJCcnt/g6C5bv5N9fbGPjwKeJPJwJt/wMOo2AUvXasmULw4cP93UYPldcXEyXLl0wxnDTTTcxZMgQbrvtNl+HdRR390pE1hlj3Pb11boTF0VllSz8No1ZQ4KJ3P+jNfZBk4NSygPPP/8848aNY+TIkRQUFHDDDTf4OqQWs7WKSURmAE8AgcALxpiH6+z/LzDd+bQzEGuM6ercNw/4m3Pfg8aYV+yMFWDRD+kUHK7kzvidsNcBo7X3klLKM7fddtsxJYZFixbxxBNPHLVtypQpLFiwoDVDazbbEoSIBAILgNOBDGCtiHxkjEmtOcYYc5vL8TcD452PuwF/BxIBA6xznnvIrngLSit5/rs0zhgRR++M/0HsCIjVYrNSqvmuvvpqrr76al+H0Wx2VjFNAnYaY9KMMRXAW8D5DRw/F3jT+fhMYKkxJs+ZFJYCM2yMlRe/T6OorIo/nRAOe1fp1BpKqQ7PzgTRB9jr8jzDue0YItIfSAC+bsq5InK9iCSLSHJ2dnazAz1UUsFLP6Rz9uheDMn+0to46sJmX08ppdoDf2mkngMkGWOqm3KSMWahMSbRGJMYExPT7Bdf+F0aJRVV3HraENiUBH0mQLeBzb6eUkq1B3YmiEygr8vzeOc2d+ZwpHqpqee2SE5xOa/8mM65Y3ozNPAAHNio1UtKKYW9vZjWAkNEJAHrw30OcFndg0TkOCAacB0j/gXwDxGJdj4/A7jbjiCDAwO48sQBXJwYDylPAWKNnlZKtQm5ubmceuqpABw4cIDAwEBqahTWrFlDSEhIg+evWLGCkJCQ2jUfnn32WTp37syVV15pb+BtgG0JwhhTJSK/x/qwDwReMsZsFpEHgGRjzEfOQ+cAbxmXEXvGmDwR+X9YSQbgAWNMnh1xRnUK5q6Zx4ExkLIY+k+ByN52vJRSygaNrQfRmBUrVtClS5faBDF//nw7wvQau9Z+cMfWVzHGLAGW1Nl2b53n99Vz7ktAy+aqbYoDmyBnO5zwu1Z7SaXanc/ust5L3tRzNMx8uPHjXKxbt87t2gj/+9//ePbZZwkKCmLEiBE8/PDDPPvsswQGBvL666/z5JNP8tVXX9UmmWnTpjF58mSWL19Ofn4+L774IieffDKlpaVcddVVpKSkMGzYMPbt28eCBQvcLj5UXV3NNddcQ3JyMiLCb3/7W2677TZ27tzJ/Pnzyc7OJjAwkHfffZeBAwdy55138tlnnyEi/O1vf+PSSy9lxYoV3HPPPURHR7N161a2bNnCXXfdxYoVKygvL+emm26yZWCezsVUI2UxBATB8IZ64iql/J0xhptvvtnt2ggPP/wwu3fvJjQ0lPz8fLp27cr8+fOPKnV89dVXR12vqqqKNWvWsGTJEu6//36WLVvG008/TXR0NKmpqaSkpDBu3Lh641m/fj2ZmZmkpKQAkJ+fD8Dll1/OXXfdxQUXXEBZWRkOh4P33nuP9evXs2HDBnJycpg4cSK//vWvAfjpp59ISUkhISGBhQsXEhUVxdq1aykvL2fKlCmcccYZtdONe4smCHBWL70HA6dDeHdfR6NU29XEb/p2KC8vr3dthDFjxnD55Zcza9YsZs2a5dH1LrzQ6vI+YcKE2tlav//++9oV4UaNGsWYMWPqPX/gwIGkpaVx8803c/bZZ3PGGWdQVFREZmYmF1xgtXeGhYXVXnfu3LkEBgYSFxfH1KlTWbt2LZGRkUyaNKk2AXz55Zds3LiRpKQkwJqtdseOHZogbJGxFgr2wPS/+DoSpVQLNbQ2wqeffsq3337Lxx9/zEMPPcSmTY1Xh9Ws/9DctR+io6PZsGEDX3zxBc8++yzvvPPOMdNveMJ1fQtjDE8++SRnnnlmk6/TFP4yDsK3NiVBYCgc5/1pgJVSrSs0NNTt2ggOh4O9e/cyffp0HnnkEQoKCiguLiYiIoKioqImvcaUKVN45513AEhNTW0w0eTk5OBwOJg9ezYPPvggP/30ExEREcTHx/PBBx8AVqmntLSUk08+mbfffpvq6mqys7P59ttvmTRp0jHXPPPMM3nmmWdqV8bbvn07JSUlTfobPKElCEc1bH4fhp4BYZG+jkYp1UIBAQFu10YYOnQoV1xxBQUFBRhjuOWWW+jatSvnnnsuF110ER9++CFPPvmkR69x4403Mm/ePEaMGMFxxx3HyJEjiYqKcntsZmYmV199NQ6HA4B//vOfgLX4zw033MC9995LcHAw7777LhdccAErV65k7NixiAj/+te/6NmzJ1u3bj3qmtdeey3p6ekcf/zxGGOIiYmpTTbepOtBHPoFXpsFp/4dRs7ydlhKtXsdcT2I6upqKisrCQsLY9euXZx22mls27at0TEXvtbU9SC0BBHdH27+yWqoVkopD5SWljJ9+nQqKysxxvD000/7fXJoDk0QYC0KpAsDKaU8FBERgbsai8mTJ1NeXn7Uttdee43Ro0e3VmhepQlCKdVixhhEv2SxevVqX4dQr+Y0J2gvJqVUi4SFhZGbm9usDyDVOowx5Obm1o638JSWIJRSLRIfH09GRgYtWZNF2S8sLIz4+PgmnaMJQinVIsHBwV4fwav8g1YxKaWUcksThFJKKbc0QSillHKr3YykFpFs4Bc3u6KAAg+29QBybAitMe5iaa3reHpOY8fVt78p2/3pnoDv7ovd96Shff5+X/z9vdKSY3x5T/obY2Lc7jHGtOsfYKGH25L9Jb7Wuo6n5zR2XH37m7Ldn+6JL++L3fekLd8Xf3+vtOQYf70nHaGK6WMPt/mKt2JpznU8Paex4+rb35Tt/nRPwHf3xe570tA+f78v/v5eackxfnlP2k0VU0uJSLKpZ8Iq5Rt6T/yT3hf/Y9c96QglCE8t9HUA6hh6T/yT3hf/Y8s90RKEUkopt7QEoZRSyi1NEEoppdzSBKGUUsotTRCNEJFZIvK8iLwtImf4Oh5lEZGBIvKiiCT5OpaOTETCReQV53vkcl/Hoyzeen+06wQhIi+JSJaIpNTZPkNEtonIThG5q6FrGGM+MMZcB8wHLrUz3o7CS/clzRhzjb2RdkxNvD8XAknO98h5rR5sB9KU++Kt90e7ThDAy8AM1w0iEggsAGYCI4C5IjJCREaLyCd1fmJdTv2b8zzVci/jvfuivO9lPLw/QDyw13lYdSvG2BG9jOf3xSva9XoQxphvRWRAnc2TgJ3GmDQAEXkLON8Y80/gnLrXEGsdxYeBz4wxP9kccofgjfui7NOU+wNkYCWJ9bT/L5w+1cT7kuqN1+yIN7QPR77xgPUfvE8Dx98MnAZcJCLz7Qysg2vSfRGR7iLyLDBeRO62OzhV7/15D5gtIs/gX9NydBRu74u33h/tugThDcaY/wH/83Uc6mjGmFysdiHlQ8aYEuBqX8ehjuat90dHLEFkAn1dnsc7tynf0vvi3/T++Cdb70tHTBBrgSEikiAiIcAc4CMfx6T0vvg7vT/+ydb70q4ThIi8CawEholIhohcY4ypAn4PfAFsAd4xxmz2ZZwdjd4X/6b3xz/54r7oZH1KKaXcatclCKWUUs2nCUIppZRbmiCUUkq5pQlCKaWUW5oglFJKuaUJQimllFuaIJSykYj0FJG3RGSXiKwTkSUiMtTXcSnlCZ2LSSmbOGcCfh94xRgzx7ltLBAHbPdlbEp5QhOEUvaZDlQaY56t2WCM2eDDeJRqEq1iUso+o4B1vg5CqebSBKGUUsotTRBK2WczMMHXQSjVXJoglLLP10CoiFxfs0FExojIyT6MSSmPaYJQyibGmir5AuA0ZzfXzcA/gQO+jUwpz+h030oppdzSEoRSSim3NEEopZRySxOEUkoptzRBKKWUcksThFJKKbc0QSillHJLE4RSSim3NEEopZRy6/8D9ZtjEeDlYIMAAAAASUVORK5CYII=\n",
       "datasetInfos": [],
       "metadata": {},
       "removedWidgets": [],
       "type": "image"
      }
     },
     "output_type": "display_data"
    }
   ],
   "source": [
    "X_train, X_test, y_train, y_test = load_data_classification()\n",
    "test_LinearSVC_C(X_train, X_test, y_train, y_test)# l1, l2 returns same score"
   ]
  }
 ],
 "metadata": {
  "application/vnd.databricks.v1+notebook": {
   "dashboards": [],
   "language": "python",
   "notebookMetadata": {
    "pythonIndentUnit": 2
   },
   "notebookName": "PracNew060223",
   "widgets": {}
  }
 },
 "nbformat": 4,
 "nbformat_minor": 0
}
