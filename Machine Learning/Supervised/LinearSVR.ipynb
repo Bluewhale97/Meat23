{
 "cells": [
  {
   "cell_type": "code",
   "execution_count": 0,
   "metadata": {
    "application/vnd.databricks.v1+cell": {
     "cellMetadata": {
      "byteLimit": 2048000,
      "rowLimit": 10000
     },
     "inputWidgets": {},
     "nuid": "3cbe9759-0025-47d4-aa7e-d66adb8516ec",
     "showTitle": false,
     "title": ""
    }
   },
   "outputs": [],
   "source": [
    "# SVR Support Vector Regression\n",
    "# based on liblinear\n",
    "# class sklearn.svm.LinearSVR()"
   ]
  },
  {
   "cell_type": "code",
   "execution_count": 0,
   "metadata": {
    "application/vnd.databricks.v1+cell": {
     "cellMetadata": {
      "byteLimit": 2048000,
      "rowLimit": 10000
     },
     "inputWidgets": {},
     "nuid": "da46b296-1bc2-4590-8c77-97c74459a4b0",
     "showTitle": false,
     "title": ""
    }
   },
   "outputs": [],
   "source": [
    "# Lib preparation\n",
    "import matplotlib.pyplot as plt\n",
    "import numpy as np\n",
    "from sklearn import datasets, linear_model, model_selection, svm"
   ]
  },
  {
   "cell_type": "code",
   "execution_count": 0,
   "metadata": {
    "application/vnd.databricks.v1+cell": {
     "cellMetadata": {
      "byteLimit": 2048000,
      "rowLimit": 10000
     },
     "inputWidgets": {},
     "nuid": "4db3d05d-d83b-4cec-a6a6-d18d11614b09",
     "showTitle": false,
     "title": ""
    }
   },
   "outputs": [],
   "source": [
    "# diabetes dataset extraction, for regression problem\n",
    "# diabetes dataset, 442 samples, 10 features(all numeric floats), the label is between integer 25 ~ 346\n",
    "\n",
    "def load_data_regression():\n",
    "  diabetes = datasets.load_diabetes()\n",
    "  return model_selection.train_test_split(diabetes.data, diabetes.target, test_size=.25, random_state=0)"
   ]
  },
  {
   "cell_type": "code",
   "execution_count": 0,
   "metadata": {
    "application/vnd.databricks.v1+cell": {
     "cellMetadata": {
      "byteLimit": 2048000,
      "rowLimit": 10000
     },
     "inputWidgets": {},
     "nuid": "e8ad3286-1c26-4422-a1f7-4e1098aa4caf",
     "showTitle": false,
     "title": ""
    }
   },
   "outputs": [],
   "source": [
    "# iris dataset, for classification problem\n",
    "# 150 dps, 3 classes, 4 features\n",
    "# we use stratified sampling here, since samples ordered by y_train, the first 50 samples are of label 0 and the later 50 are of label 1\n",
    "def load_data_classification():\n",
    "  iris = datasets.load_iris()\n",
    "  return model_selection.train_test_split(iris.data, iris.target, test_size=.25, random_state=0, stratify=iris.target)"
   ]
  },
  {
   "cell_type": "code",
   "execution_count": 0,
   "metadata": {
    "application/vnd.databricks.v1+cell": {
     "cellMetadata": {},
     "inputWidgets": {},
     "nuid": "86c40389-7d23-4b36-9382-859e206a877a",
     "showTitle": false,
     "title": ""
    }
   },
   "outputs": [],
   "source": [
    "# sklearn.svm.LinearSVR()\n",
    "## Params\n",
    "# C: penalty\n",
    "# loss: string could be 'epsilon_insensitive', the loss is standard loss L epsilon; or 'squared_epsilon_insensitive, now the loss is squared L epsilon\n",
    "# dual: True to solve dual problem, False solve original problem. When n_samples > n_features, use False\n",
    "# tol: float, threshold to quit iterations\n",
    "# fit_intercept: boolean, True then compute intercept otherwise ignore intercept\n",
    "# intercept_scaling: float, if given, the instance x will be changed into [X, intercept_scaling], which is equal to adding a feature\n",
    "# verbose: integer for beginning verbose output\n",
    "# random_state: integer or RandomState instance or None\n",
    "# max_iter: a integer, the max times of iteration\n",
    "\n",
    "## Attributes\n",
    "# coef_: [n_class-1, n_features], the coefficient of each feature on orginal problem, it only works at linear kernel\n",
    "# intercept_: array for intercept, as constant one in decision func\n",
    "# \n",
    "## Methods\n",
    "# fit(X,y)\n",
    "# predict(X)\n",
    "# score(X,y), score = 1 - sum of (predicted_val - real_val)^2  /  (real_val - mean_val)^2. Total socre could be (-infinite, 1), the bigger the better but negative means terrible"
   ]
  },
  {
   "cell_type": "code",
   "execution_count": 0,
   "metadata": {
    "application/vnd.databricks.v1+cell": {
     "cellMetadata": {
      "byteLimit": 2048000,
      "rowLimit": 10000
     },
     "inputWidgets": {},
     "nuid": "e99d3935-f727-4499-adeb-64a3d5f2e5fd",
     "showTitle": false,
     "title": ""
    }
   },
   "outputs": [],
   "source": [
    "\n",
    "# test LinearSVR, general test\n",
    "def test_LinearSVR(*data):\n",
    "  X_train, X_test, y_train, y_test = data\n",
    "  regr = svm.LinearSVR()\n",
    "  regr.fit(X_train, y_train)\n",
    "  print('Coef:%s, intercept %s'%(regr.coef_,regr.intercept_))\n",
    "  print('Score:%.2f'%regr.score(X_test, y_test))"
   ]
  },
  {
   "cell_type": "code",
   "execution_count": 0,
   "metadata": {
    "application/vnd.databricks.v1+cell": {
     "cellMetadata": {
      "byteLimit": 2048000,
      "rowLimit": 10000
     },
     "inputWidgets": {},
     "nuid": "ac06ec7f-1e6e-4deb-acea-f03829e9694d",
     "showTitle": false,
     "title": ""
    }
   },
   "outputs": [
    {
     "output_type": "stream",
     "name": "stdout",
     "output_type": "stream",
     "text": [
      "Coef:[ 2.14940259  0.4418875   6.35258779  4.62352733  2.82085901  2.42005063\n -5.3367464   5.41765142  7.26812747  4.33778867], intercept [99.]\nScore:-0.56\n"
     ]
    }
   ],
   "source": [
    "X_train, X_test, y_train, y_test = load_data_regression()\n",
    "test_LinearSVR(X_train, X_test, y_train, y_test)# score is negative, that's terrible"
   ]
  },
  {
   "cell_type": "code",
   "execution_count": 0,
   "metadata": {
    "application/vnd.databricks.v1+cell": {
     "cellMetadata": {
      "byteLimit": 2048000,
      "rowLimit": 10000
     },
     "inputWidgets": {},
     "nuid": "6fcbfb39-f4d7-484b-bdfe-500701f26870",
     "showTitle": false,
     "title": ""
    }
   },
   "outputs": [],
   "source": [
    "# consider loss\n",
    "def test_LinearSVR_loss(*data):\n",
    "  X_train, X_test, y_train, y_test = data\n",
    "  losses = ['epsilon_insensitive','squared_epsilon_insensitive']\n",
    "  for loss in losses:\n",
    "    regr = svm.LinearSVR(loss=loss)\n",
    "    regr.fit(X_train, y_train)\n",
    "    print(\"loss:%s\"%loss)\n",
    "    print('Coef:%s, intercept %s'%(regr.coef_,regr.intercept_))\n",
    "    print('Score:%.2f'%regr.score(X_test, y_test))"
   ]
  },
  {
   "cell_type": "code",
   "execution_count": 0,
   "metadata": {
    "application/vnd.databricks.v1+cell": {
     "cellMetadata": {
      "byteLimit": 2048000,
      "rowLimit": 10000
     },
     "inputWidgets": {},
     "nuid": "ce6b8940-da29-4094-8f98-e9cac6a20c1b",
     "showTitle": false,
     "title": ""
    }
   },
   "outputs": [
    {
     "output_type": "stream",
     "name": "stdout",
     "output_type": "stream",
     "text": [
      "loss:epsilon_insensitive\nCoef:[ 2.14940259  0.4418875   6.35258779  4.62352733  2.82085901  2.42005063\n -5.3367464   5.41765142  7.26812747  4.33778867], intercept [99.]\nScore:-0.56\nloss:squared_epsilon_insensitive\nCoef:[   7.05204926 -103.32322411  395.67405017  221.76105125  -11.08015192\n  -63.55667537 -176.67604715  117.56154356  322.62833536   95.61668643], intercept [152.3704352]\nScore:0.38\n"
     ]
    }
   ],
   "source": [
    "X_train, X_test, y_train, y_test = load_data_regression()\n",
    "test_LinearSVR_loss(X_train, X_test, y_train, y_test)# change loss methods did not give a good score as well, but 0.38 is far better than -0.56"
   ]
  },
  {
   "cell_type": "code",
   "execution_count": 0,
   "metadata": {
    "application/vnd.databricks.v1+cell": {
     "cellMetadata": {
      "byteLimit": 2048000,
      "rowLimit": 10000
     },
     "inputWidgets": {},
     "nuid": "65e0ef6d-fbf8-4442-9978-d387ab80129c",
     "showTitle": false,
     "title": ""
    }
   },
   "outputs": [],
   "source": [
    "# now, test the impact from epsilon\n",
    "def test_linearSVR_epsilon(*data):\n",
    "  X_train, X_test, y_train, y_test = data\n",
    "  epsilons=np.logspace(-2,2)\n",
    "  train_scores=[]\n",
    "  test_scores=[]\n",
    "  for epsilon in epsilons:\n",
    "    regr = svm.LinearSVR(epsilon=epsilon,loss='squared_epsilon_insensitive')\n",
    "    regr.fit(X_train, y_train)\n",
    "    train_scores.append(regr.score(X_train, y_train))\n",
    "    test_scores.append(regr.score(X_test,y_test))\n",
    "  fig = plt.figure()\n",
    "  ax=fig.add_subplot(1,1,1)\n",
    "  ax.plot(epsilons, train_scores, label='Training_score', marker='+')\n",
    "  ax.plot(epsilons, test_scores, label='Testing_score', marker='o')\n",
    "  ax.set_xlabel(r'$\\epsilon$')\n",
    "  ax.set_ylabel('score')\n",
    "  ax.set_ylim(-1,1.05)\n",
    "  ax.set_title('LinearSVR_epsilon')\n",
    "  ax.legend(loc='best',framealpha=.5)\n",
    "  plt.show()"
   ]
  },
  {
   "cell_type": "code",
   "execution_count": 0,
   "metadata": {
    "application/vnd.databricks.v1+cell": {
     "cellMetadata": {
      "byteLimit": 2048000,
      "rowLimit": 10000
     },
     "inputWidgets": {},
     "nuid": "e1271bde-5056-4623-bddc-428506727a70",
     "showTitle": false,
     "title": ""
    }
   },
   "outputs": [
    {
     "output_type": "display_data",
     "data": {
      "image/png": "[encoded data removed]"
     },
     "metadata": {
      "application/vnd.databricks.v1+output": {
       "addedWidgets": {},
       "arguments": {},
       "data": "data:image/png;base64,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\n",
       "datasetInfos": [],
       "metadata": {},
       "removedWidgets": [],
       "type": "image"
      }
     },
     "output_type": "display_data"
    }
   ],
   "source": [
    "X_train, X_test, y_train, y_test = load_data_regression()\n",
    "test_linearSVR_epsilon(X_train, X_test, y_train, y_test)# epsilon increases, the score decreases"
   ]
  },
  {
   "cell_type": "code",
   "execution_count": 0,
   "metadata": {
    "application/vnd.databricks.v1+cell": {
     "cellMetadata": {
      "byteLimit": 2048000,
      "rowLimit": 10000
     },
     "inputWidgets": {},
     "nuid": "40414605-961e-4ed3-b2db-c5eb9e610465",
     "showTitle": false,
     "title": ""
    }
   },
   "outputs": [],
   "source": [
    "# finally consider the impact from C\n",
    "def test_linearSVR_C(*data):\n",
    "  X_train, X_test, y_train, y_test = data\n",
    "  Cs = np.logspace(-1,2)\n",
    "  train_scores=[]\n",
    "  test_scores=[]\n",
    "  for C in Cs:\n",
    "    regr = svm.LinearSVR(epsilon=.1,loss='squared_epsilon_insensitive', C=C)\n",
    "    regr.fit(X_train, y_train)\n",
    "    train_scores.append(regr.score(X_train, y_train))\n",
    "    test_scores.append(regr.score(X_test,y_test))\n",
    "  fig = plt.figure()\n",
    "  ax=fig.add_subplot(1,1,1)\n",
    "  ax.plot(Cs, train_scores, label='Training_score', marker='+')\n",
    "  ax.plot(Cs, test_scores, label='Testing_score', marker='o')\n",
    "  ax.set_xlabel(r'C')\n",
    "  ax.set_xscale('log')\n",
    "  ax.set_ylabel('score')\n",
    "  ax.set_ylim(-1,1.05)\n",
    "  ax.set_title('LinearSVR_C')\n",
    "  ax.legend(loc='best',framealpha=.5)\n",
    "  plt.show()"
   ]
  },
  {
   "cell_type": "code",
   "execution_count": 0,
   "metadata": {
    "application/vnd.databricks.v1+cell": {
     "cellMetadata": {
      "byteLimit": 2048000,
      "rowLimit": 10000
     },
     "inputWidgets": {},
     "nuid": "29a00ba7-89ea-44f3-8c59-d998fef9cb1c",
     "showTitle": false,
     "title": ""
    }
   },
   "outputs": [
    {
     "output_type": "stream",
     "name": "stderr",
     "output_type": "stream",
     "text": [
      "/local_disk0/.ephemeral_nfs/cluster_libraries/python/lib/python3.9/site-packages/sklearn/svm/_base.py:1244: ConvergenceWarning: Liblinear failed to converge, increase the number of iterations.\n  warnings.warn(\n/local_disk0/.ephemeral_nfs/cluster_libraries/python/lib/python3.9/site-packages/sklearn/svm/_base.py:1244: ConvergenceWarning: Liblinear failed to converge, increase the number of iterations.\n  warnings.warn(\n/local_disk0/.ephemeral_nfs/cluster_libraries/python/lib/python3.9/site-packages/sklearn/svm/_base.py:1244: ConvergenceWarning: Liblinear failed to converge, increase the number of iterations.\n  warnings.warn(\n/local_disk0/.ephemeral_nfs/cluster_libraries/python/lib/python3.9/site-packages/sklearn/svm/_base.py:1244: ConvergenceWarning: Liblinear failed to converge, increase the number of iterations.\n  warnings.warn(\n/local_disk0/.ephemeral_nfs/cluster_libraries/python/lib/python3.9/site-packages/sklearn/svm/_base.py:1244: ConvergenceWarning: Liblinear failed to converge, increase the number of iterations.\n  warnings.warn(\n"
     ]
    },
    {
     "output_type": "display_data",
     "data": {
      "image/png": "[encoded data removed]"
     },
     "metadata": {
      "application/vnd.databricks.v1+output": {
       "addedWidgets": {},
       "arguments": {},
       "data": "data:image/png;base64,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\n",
       "datasetInfos": [],
       "metadata": {},
       "removedWidgets": [],
       "type": "image"
      }
     },
     "output_type": "display_data"
    }
   ],
   "source": [
    "X_train, X_test, y_train, y_test = load_data_regression()\n",
    "test_linearSVR_C(X_train, X_test, y_train, y_test)# focus more on misclassification(have higher C) can give you good prediction"
   ]
  }
 ],
 "metadata": {
  "application/vnd.databricks.v1+notebook": {
   "dashboards": [],
   "language": "python",
   "notebookMetadata": {
    "pythonIndentUnit": 2
   },
   "notebookName": "PracNew060223",
   "widgets": {}
  }
 },
 "nbformat": 4,
 "nbformat_minor": 0
}
