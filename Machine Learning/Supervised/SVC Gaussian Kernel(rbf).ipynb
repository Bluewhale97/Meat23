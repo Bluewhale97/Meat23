{
 "cells": [
  {
   "cell_type": "code",
   "execution_count": 0,
   "metadata": {
    "application/vnd.databricks.v1+cell": {
     "cellMetadata": {
      "byteLimit": 2048000,
      "rowLimit": 10000
     },
     "inputWidgets": {},
     "nuid": "3cbe9759-0025-47d4-aa7e-d66adb8516ec",
     "showTitle": false,
     "title": ""
    }
   },
   "outputs": [],
   "source": [
    "# SVC with gaussian kernel\n",
    "# based on libsvm, non-linear svm used on binary or multiclass classification"
   ]
  },
  {
   "cell_type": "code",
   "execution_count": 0,
   "metadata": {
    "application/vnd.databricks.v1+cell": {
     "cellMetadata": {
      "byteLimit": 2048000,
      "rowLimit": 10000
     },
     "inputWidgets": {},
     "nuid": "da46b296-1bc2-4590-8c77-97c74459a4b0",
     "showTitle": false,
     "title": ""
    }
   },
   "outputs": [],
   "source": [
    "# Lib preparation\n",
    "import matplotlib.pyplot as plt\n",
    "import numpy as np\n",
    "from sklearn import datasets, linear_model, model_selection, svm"
   ]
  },
  {
   "cell_type": "code",
   "execution_count": 0,
   "metadata": {
    "application/vnd.databricks.v1+cell": {
     "cellMetadata": {
      "byteLimit": 2048000,
      "rowLimit": 10000
     },
     "inputWidgets": {},
     "nuid": "4db3d05d-d83b-4cec-a6a6-d18d11614b09",
     "showTitle": false,
     "title": ""
    }
   },
   "outputs": [],
   "source": [
    "# diabetes dataset extraction, for regression problem\n",
    "# diabetes dataset, 442 samples, 10 features(all numeric floats), the label is between integer 25 ~ 346\n",
    "\n",
    "def load_data_regression():\n",
    "  diabetes = datasets.load_diabetes()\n",
    "  return model_selection.train_test_split(diabetes.data, diabetes.target, test_size=.25, random_state=0)"
   ]
  },
  {
   "cell_type": "code",
   "execution_count": 0,
   "metadata": {
    "application/vnd.databricks.v1+cell": {
     "cellMetadata": {
      "byteLimit": 2048000,
      "rowLimit": 10000
     },
     "inputWidgets": {},
     "nuid": "e8ad3286-1c26-4422-a1f7-4e1098aa4caf",
     "showTitle": false,
     "title": ""
    }
   },
   "outputs": [],
   "source": [
    "# iris dataset, for classification problem\n",
    "# 150 dps, 3 classes, 4 features\n",
    "# we use stratified sampling here, since samples ordered by y_train, the first 50 samples are of label 0 and the later 50 are of label 1\n",
    "def load_data_classification():\n",
    "  iris = datasets.load_iris()\n",
    "  return model_selection.train_test_split(iris.data, iris.target, test_size=.25, random_state=0, stratify=iris.target)"
   ]
  },
  {
   "cell_type": "code",
   "execution_count": 0,
   "metadata": {
    "application/vnd.databricks.v1+cell": {
     "cellMetadata": {},
     "inputWidgets": {},
     "nuid": "86c40389-7d23-4b36-9382-859e206a877a",
     "showTitle": false,
     "title": ""
    }
   },
   "outputs": [],
   "source": [
    "# sklearn.svm.SVC()\n",
    "## Params\n",
    "# C: penalty\n",
    "# kernel: 'linear' means K(x,z)=x dot z; 'poly' means k(x,z)=(y(x dot z +1)+r)^p; 'rbf': default value means gaussian k(x,z)=exp(-y||x-z||^2), y depends on gamma coefficient; 'sigmoid' means k(x,z) = tanh(y(x dot z)+r), y depends gamma, r depends on coef theta; 'precomputed' means providing kernel matrix, or a callable, to compute kernel matrix\n",
    "# degree: a integer, when poly, this is the coefficient p. Will be not used for other kernel funcs\n",
    "# gamma: float, the coefficient when the kernel is 'rbf' or 'poly' or 'sigmoid', if 'auto', means the gamma is 1/n_features\n",
    "# coef0: float, the noise r in kernel function\n",
    "# probability: bool, True to compute probs, it should be preset before training, it could slower down the speed to some degree\n",
    "# shrinking: bool, True then use shrinking heuristic\n",
    "# tol: float, threshold to quit iterations\n",
    "# cache_size: float, assign the size of kernel cache, unit is MB\n",
    "# class_weight: a dict or a string 'balanced', for the weight of every class, if not given, the weight of the class is 1\n",
    "# verbose: integer for beginning verbose output\n",
    "# random_state: integer or RandomState instance or None\n",
    "# max_iter: a integer, the max times of iteration\n",
    "# decision_function_shape: string or None, assign the shape of decision function. 'ovr' means using one-vs-rest, the shape of decision function would be (n_samples, n_classes); 'ovo' means one-vs-one, n_samples,n_classes*(n_classes-1)/2; None means use default value, right now it is 'ovr'\n",
    "# \n",
    "## Attributes\n",
    "# support_: array, shape is [n_SV], for support vectors\n",
    "# support_vectors_: array, [n_SV, n_features]\n",
    "# n_support_: array-like, shape could be [n_class], the number of sv for every class\n",
    "# dual_coef_: an array, shape is -n_class-1, n_SV, when dual, the coefficients of every SV\n",
    "# coef_: [n_class-1, n_features], the coefficient of each feature on orginal problem, it only works at linear kernel\n",
    "# intercept_: array for intercept, as constant one in decision func\n",
    "# \n",
    "## Methods\n",
    "# fit(X,y)\n",
    "# predict(X)\n",
    "# score(X,y), return accuracy\n",
    "# predict_log_proba(X)\n",
    "# predict_proba(X)    "
   ]
  },
  {
   "cell_type": "code",
   "execution_count": 0,
   "metadata": {
    "application/vnd.databricks.v1+cell": {
     "cellMetadata": {
      "byteLimit": 2048000,
      "rowLimit": 10000
     },
     "inputWidgets": {},
     "nuid": "65e0ef6d-fbf8-4442-9978-d387ab80129c",
     "showTitle": false,
     "title": ""
    }
   },
   "outputs": [],
   "source": [
    "# now consider the poly kernel\n",
    "def test_SVC_rbf(*data):\n",
    "  X_train, X_test, y_train, y_test = data\n",
    "  train_scores=[]\n",
    "  test_scores=[]\n",
    "  # test gammas\n",
    "  gammas=range(1,20)\n",
    "  train_scores=[]\n",
    "  test_scores=[]\n",
    "  for gamma in gammas:\n",
    "    cls = svm.SVC(kernel='rbf',gamma=gamma)\n",
    "    cls.fit(X_train, y_train)\n",
    "    train_scores.append(cls.score(X_train, y_train))\n",
    "    test_scores.append(cls.score(X_test,y_test))\n",
    "  fig=plt.figure()\n",
    "  ax=fig.add_subplot(1,1,1)\n",
    "  ax.plot(gammas, train_scores, label='Training_score', marker='+')\n",
    "  ax.plot(gammas, test_scores, label='Testing_score', marker='o')\n",
    "  ax.set_xlabel(r'$\\gamma$')\n",
    "  ax.set_ylabel('score')\n",
    "  ax.set_ylim(0,1.05)\n",
    "  ax.set_title('SVC_Poly_gamma')\n",
    "  ax.legend(loc='best',framealpha=.5)\n",
    "  plt.show()"
   ]
  },
  {
   "cell_type": "code",
   "execution_count": 0,
   "metadata": {
    "application/vnd.databricks.v1+cell": {
     "cellMetadata": {
      "byteLimit": 2048000,
      "rowLimit": 10000
     },
     "inputWidgets": {},
     "nuid": "e1271bde-5056-4623-bddc-428506727a70",
     "showTitle": false,
     "title": ""
    }
   },
   "outputs": [
    {
     "output_type": "display_data",
     "data": {
      "image/png": "[encoded data removed]"
     },
     "metadata": {
      "application/vnd.databricks.v1+output": {
       "addedWidgets": {},
       "arguments": {},
       "data": "data:image/png;base64,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\n",
       "datasetInfos": [],
       "metadata": {},
       "removedWidgets": [],
       "type": "image"
      }
     },
     "output_type": "display_data"
    }
   ],
   "source": [
    "X_train, X_test, y_train, y_test = load_data_classification()\n",
    "test_SVC_rbf(X_train, X_test, y_train, y_test)\n",
    "# very flat with the change of gamma y"
   ]
  }
 ],
 "metadata": {
  "application/vnd.databricks.v1+notebook": {
   "dashboards": [],
   "language": "python",
   "notebookMetadata": {
    "pythonIndentUnit": 2
   },
   "notebookName": "PracNew060223",
   "widgets": {}
  }
 },
 "nbformat": 4,
 "nbformat_minor": 0
}
