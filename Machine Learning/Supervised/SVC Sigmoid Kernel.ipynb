{
 "cells": [
  {
   "cell_type": "code",
   "execution_count": 0,
   "metadata": {
    "application/vnd.databricks.v1+cell": {
     "cellMetadata": {
      "byteLimit": 2048000,
      "rowLimit": 10000
     },
     "inputWidgets": {},
     "nuid": "3cbe9759-0025-47d4-aa7e-d66adb8516ec",
     "showTitle": false,
     "title": ""
    }
   },
   "outputs": [],
   "source": [
    "# SVC with sigmoid kernel\n",
    "# based on libsvm, non-linear svm used on binary or multiclass classification"
   ]
  },
  {
   "cell_type": "code",
   "execution_count": 0,
   "metadata": {
    "application/vnd.databricks.v1+cell": {
     "cellMetadata": {
      "byteLimit": 2048000,
      "rowLimit": 10000
     },
     "inputWidgets": {},
     "nuid": "da46b296-1bc2-4590-8c77-97c74459a4b0",
     "showTitle": false,
     "title": ""
    }
   },
   "outputs": [],
   "source": [
    "# Lib preparation\n",
    "import matplotlib.pyplot as plt\n",
    "import numpy as np\n",
    "from sklearn import datasets, linear_model, model_selection, svm"
   ]
  },
  {
   "cell_type": "code",
   "execution_count": 0,
   "metadata": {
    "application/vnd.databricks.v1+cell": {
     "cellMetadata": {
      "byteLimit": 2048000,
      "rowLimit": 10000
     },
     "inputWidgets": {},
     "nuid": "4db3d05d-d83b-4cec-a6a6-d18d11614b09",
     "showTitle": false,
     "title": ""
    }
   },
   "outputs": [],
   "source": [
    "# diabetes dataset extraction, for regression problem\n",
    "# diabetes dataset, 442 samples, 10 features(all numeric floats), the label is between integer 25 ~ 346\n",
    "\n",
    "def load_data_regression():\n",
    "  diabetes = datasets.load_diabetes()\n",
    "  return model_selection.train_test_split(diabetes.data, diabetes.target, test_size=.25, random_state=0)"
   ]
  },
  {
   "cell_type": "code",
   "execution_count": 0,
   "metadata": {
    "application/vnd.databricks.v1+cell": {
     "cellMetadata": {
      "byteLimit": 2048000,
      "rowLimit": 10000
     },
     "inputWidgets": {},
     "nuid": "e8ad3286-1c26-4422-a1f7-4e1098aa4caf",
     "showTitle": false,
     "title": ""
    }
   },
   "outputs": [],
   "source": [
    "# iris dataset, for classification problem\n",
    "# 150 dps, 3 classes, 4 features\n",
    "# we use stratified sampling here, since samples ordered by y_train, the first 50 samples are of label 0 and the later 50 are of label 1\n",
    "def load_data_classification():\n",
    "  iris = datasets.load_iris()\n",
    "  return model_selection.train_test_split(iris.data, iris.target, test_size=.25, random_state=0, stratify=iris.target)"
   ]
  },
  {
   "cell_type": "code",
   "execution_count": 0,
   "metadata": {
    "application/vnd.databricks.v1+cell": {
     "cellMetadata": {},
     "inputWidgets": {},
     "nuid": "86c40389-7d23-4b36-9382-859e206a877a",
     "showTitle": false,
     "title": ""
    }
   },
   "outputs": [],
   "source": [
    "# sklearn.svm.SVC()\n",
    "## Params\n",
    "# C: penalty\n",
    "# kernel: 'linear' means K(x,z)=x dot z; 'poly' means k(x,z)=(y(x dot z +1)+r)^p; 'rbf': default value means gaussian k(x,z)=exp(-y||x-z||^2), y depends on gamma coefficient; 'sigmoid' means k(x,z) = tanh(y(x dot z)+r), y depends gamma, r depends on coef theta; 'precomputed' means providing kernel matrix, or a callable, to compute kernel matrix\n",
    "# degree: a integer, when poly, this is the coefficient p. Will be not used for other kernel funcs\n",
    "# gamma: float, the coefficient when the kernel is 'rbf' or 'poly' or 'sigmoid', if 'auto', means the gamma is 1/n_features\n",
    "# coef0: float, the noise r in kernel function\n",
    "# probability: bool, True to compute probs, it should be preset before training, it could slower down the speed to some degree\n",
    "# shrinking: bool, True then use shrinking heuristic\n",
    "# tol: float, threshold to quit iterations\n",
    "# cache_size: float, assign the size of kernel cache, unit is MB\n",
    "# class_weight: a dict or a string 'balanced', for the weight of every class, if not given, the weight of the class is 1\n",
    "# verbose: integer for beginning verbose output\n",
    "# random_state: integer or RandomState instance or None\n",
    "# max_iter: a integer, the max times of iteration\n",
    "# decision_function_shape: string or None, assign the shape of decision function. 'ovr' means using one-vs-rest, the shape of decision function would be (n_samples, n_classes); 'ovo' means one-vs-one, n_samples,n_classes*(n_classes-1)/2; None means use default value, right now it is 'ovr'\n",
    "# \n",
    "## Attributes\n",
    "# support_: array, shape is [n_SV], for support vectors\n",
    "# support_vectors_: array, [n_SV, n_features]\n",
    "# n_support_: array-like, shape could be [n_class], the number of sv for every class\n",
    "# dual_coef_: an array, shape is -n_class-1, n_SV, when dual, the coefficients of every SV\n",
    "# coef_: [n_class-1, n_features], the coefficient of each feature on orginal problem, it only works at linear kernel\n",
    "# intercept_: array for intercept, as constant one in decision func\n",
    "# \n",
    "## Methods\n",
    "# fit(X,y)\n",
    "# predict(X)\n",
    "# score(X,y), return accuracy\n",
    "# predict_log_proba(X)\n",
    "# predict_proba(X)    "
   ]
  },
  {
   "cell_type": "code",
   "execution_count": 0,
   "metadata": {
    "application/vnd.databricks.v1+cell": {
     "cellMetadata": {
      "byteLimit": 2048000,
      "rowLimit": 10000
     },
     "inputWidgets": {},
     "nuid": "65e0ef6d-fbf8-4442-9978-d387ab80129c",
     "showTitle": false,
     "title": ""
    }
   },
   "outputs": [],
   "source": [
    "def test_SVC_sigmoid(*data):\n",
    "  X_train, X_test, y_train, y_test = data\n",
    "  fig=plt.figure()\n",
    "  # test gamma\n",
    "  gammas=np.logspace(-2,1)\n",
    "  train_scores=[]\n",
    "  test_scores=[]\n",
    "  for gamma in gammas:\n",
    "    cls = svm.SVC(kernel='sigmoid', gamma=gamma,coef0=0)\n",
    "    cls.fit(X_train, y_train)\n",
    "    train_scores.append(cls.score(X_train, y_train))\n",
    "    test_scores.append(cls.score(X_test,y_test))\n",
    "  ax=fig.add_subplot(1,2,1)\n",
    "  ax.plot(gammas, train_scores, label='Training_score', marker='+')\n",
    "  ax.plot(gammas, test_scores, label='Testing_score', marker='o')\n",
    "  ax.set_xlabel(r'$\\gamma$')\n",
    "  ax.set_ylabel('score')\n",
    "  ax.set_ylim(0,1.05)\n",
    "  ax.set_title('SVC_sigmoid_gamma')\n",
    "  ax.legend(loc='best',framealpha=.5)\n",
    "  # test r\n",
    "  rs=np.linspace(0,5)\n",
    "  train_scores=[]\n",
    "  test_scores=[]\n",
    "  for r in rs:\n",
    "    cls = svm.SVC(kernel='sigmoid', gamma=.01,coef0=r)\n",
    "    cls.fit(X_train, y_train)\n",
    "    train_scores.append(cls.score(X_train, y_train))\n",
    "    test_scores.append(cls.score(X_test,y_test))\n",
    "  ax=fig.add_subplot(1,2,2)\n",
    "  ax.plot(rs, train_scores, label='Training_score', marker='+')\n",
    "  ax.plot(rs, test_scores, label='Testing_score', marker='o')\n",
    "  ax.set_xlabel(r'r')\n",
    "  ax.set_ylabel('score')\n",
    "  ax.set_ylim(0,1.05)\n",
    "  ax.set_title('SVC_sigmoid_r')\n",
    "  ax.legend(loc='best',framealpha=.5)\n",
    "  plt.show()"
   ]
  },
  {
   "cell_type": "code",
   "execution_count": 0,
   "metadata": {
    "application/vnd.databricks.v1+cell": {
     "cellMetadata": {
      "byteLimit": 2048000,
      "rowLimit": 10000
     },
     "inputWidgets": {},
     "nuid": "e1271bde-5056-4623-bddc-428506727a70",
     "showTitle": false,
     "title": ""
    }
   },
   "outputs": [
    {
     "output_type": "display_data",
     "data": {
      "image/png": "[encoded data removed]"
     },
     "metadata": {
      "application/vnd.databricks.v1+output": {
       "addedWidgets": {},
       "arguments": {},
       "data": "data:image/png;base64,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\n",
       "datasetInfos": [],
       "metadata": {},
       "removedWidgets": [],
       "type": "image"
      }
     },
     "output_type": "display_data"
    }
   ],
   "source": [
    "X_train, X_test, y_train, y_test = load_data_classification()\n",
    "test_SVC_sigmoid(X_train, X_test, y_train, y_test)\n",
    "# from the graph 1, the prediction is terrible\n",
    "# fix r=0, gamma increases, prediction performance decreases\n",
    "# fix gamma y=.01, r increases, prediction performance decreases"
   ]
  }
 ],
 "metadata": {
  "application/vnd.databricks.v1+notebook": {
   "dashboards": [],
   "language": "python",
   "notebookMetadata": {
    "pythonIndentUnit": 2
   },
   "notebookName": "PracNew060223",
   "widgets": {}
  }
 },
 "nbformat": 4,
 "nbformat_minor": 0
}
