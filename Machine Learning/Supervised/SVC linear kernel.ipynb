{
 "cells": [
  {
   "cell_type": "code",
   "execution_count": 0,
   "metadata": {
    "application/vnd.databricks.v1+cell": {
     "cellMetadata": {
      "byteLimit": 2048000,
      "rowLimit": 10000
     },
     "inputWidgets": {},
     "nuid": "3cbe9759-0025-47d4-aa7e-d66adb8516ec",
     "showTitle": false,
     "title": ""
    }
   },
   "outputs": [],
   "source": [
    "# SVC with linear kernel\n",
    "# based on libsvm, non-linear svm used on binary or multiclass classification"
   ]
  },
  {
   "cell_type": "code",
   "execution_count": 0,
   "metadata": {
    "application/vnd.databricks.v1+cell": {
     "cellMetadata": {
      "byteLimit": 2048000,
      "rowLimit": 10000
     },
     "inputWidgets": {},
     "nuid": "da46b296-1bc2-4590-8c77-97c74459a4b0",
     "showTitle": false,
     "title": ""
    }
   },
   "outputs": [],
   "source": [
    "# Lib preparation\n",
    "import matplotlib.pyplot as plt\n",
    "import numpy as np\n",
    "from sklearn import datasets, linear_model, model_selection, svm"
   ]
  },
  {
   "cell_type": "code",
   "execution_count": 0,
   "metadata": {
    "application/vnd.databricks.v1+cell": {
     "cellMetadata": {
      "byteLimit": 2048000,
      "rowLimit": 10000
     },
     "inputWidgets": {},
     "nuid": "4db3d05d-d83b-4cec-a6a6-d18d11614b09",
     "showTitle": false,
     "title": ""
    }
   },
   "outputs": [],
   "source": [
    "# diabetes dataset extraction, for regression problem\n",
    "# diabetes dataset, 442 samples, 10 features(all numeric floats), the label is between integer 25 ~ 346\n",
    "\n",
    "def load_data_regression():\n",
    "  diabetes = datasets.load_diabetes()\n",
    "  return model_selection.train_test_split(diabetes.data, diabetes.target, test_size=.25, random_state=0)"
   ]
  },
  {
   "cell_type": "code",
   "execution_count": 0,
   "metadata": {
    "application/vnd.databricks.v1+cell": {
     "cellMetadata": {
      "byteLimit": 2048000,
      "rowLimit": 10000
     },
     "inputWidgets": {},
     "nuid": "e8ad3286-1c26-4422-a1f7-4e1098aa4caf",
     "showTitle": false,
     "title": ""
    }
   },
   "outputs": [],
   "source": [
    "# iris dataset, for classification problem\n",
    "# 150 dps, 3 classes, 4 features\n",
    "# we use stratified sampling here, since samples ordered by y_train, the first 50 samples are of label 0 and the later 50 are of label 1\n",
    "def load_data_classification():\n",
    "  iris = datasets.load_iris()\n",
    "  return model_selection.train_test_split(iris.data, iris.target, test_size=.25, random_state=0, stratify=iris.target)"
   ]
  },
  {
   "cell_type": "code",
   "execution_count": 0,
   "metadata": {
    "application/vnd.databricks.v1+cell": {
     "cellMetadata": {},
     "inputWidgets": {},
     "nuid": "86c40389-7d23-4b36-9382-859e206a877a",
     "showTitle": false,
     "title": ""
    }
   },
   "outputs": [],
   "source": [
    "# sklearn.svm.SVC()\n",
    "## Params\n",
    "# C: penalty\n",
    "# kernel: 'linear' means K(x,z)=x dot z; 'poly' means k(x,z)=(y(x dot z +1)+r)^p; 'rbf': default value means gaussian k(x,z)=exp(-y||x-z||^2), y depends on gamma coefficient; 'sigmoid' means k(x,z) = tanh(y(x dot z)+r), y depends gamma, r depends on coef theta; 'precomputed' means providing kernel matrix, or a callable, to compute kernel matrix\n",
    "# degree: a integer, when poly, this is the coefficient p. Will be not used for other kernel funcs\n",
    "# gamma: float, the coefficient when the kernel is 'rbf' or 'poly' or 'sigmoid', if 'auto', means the gamma is 1/n_features\n",
    "# coef0: float, the noise r in kernel function\n",
    "# probability: bool, True to compute probs, it should be preset before training, it could slower down the speed to some degree\n",
    "# shrinking: bool, True then use shrinking heuristic\n",
    "# tol: float, threshold to quit iterations\n",
    "# cache_size: float, assign the size of kernel cache, unit is MB\n",
    "# class_weight: a dict or a string 'balanced', for the weight of every class, if not given, the weight of the class is 1\n",
    "# verbose: integer for beginning verbose output\n",
    "# random_state: integer or RandomState instance or None\n",
    "# max_iter: a integer, the max times of iteration\n",
    "# decision_function_shape: string or None, assign the shape of decision function. 'ovr' means using one-vs-rest, the shape of decision function would be (n_samples, n_classes); 'ovo' means one-vs-one, n_samples,n_classes*(n_classes-1)/2; None means use default value, right now it is 'ovr'\n",
    "# \n",
    "## Attributes\n",
    "# support_: array, shape is [n_SV], for support vectors\n",
    "# support_vectors_: array, [n_SV, n_features]\n",
    "# n_support_: array-like, shape could be [n_class], the number of sv for every class\n",
    "# dual_coef_: an array, shape is -n_class-1, n_SV, when dual, the coefficients of every SV\n",
    "# coef_: [n_class-1, n_features], the coefficient of each feature on orginal problem, it only works at linear kernel\n",
    "# intercept_: array for intercept, as constant one in decision func\n",
    "# \n",
    "## Methods\n",
    "# fit(X,y)\n",
    "# predict(X)\n",
    "# score(X,y), return accuracy\n",
    "# predict_log_proba(X)\n",
    "# predict_proba(X)    "
   ]
  },
  {
   "cell_type": "code",
   "execution_count": 0,
   "metadata": {
    "application/vnd.databricks.v1+cell": {
     "cellMetadata": {
      "byteLimit": 2048000,
      "rowLimit": 10000
     },
     "inputWidgets": {},
     "nuid": "7b962899-995e-4c0a-a914-75557a6721a5",
     "showTitle": false,
     "title": ""
    }
   },
   "outputs": [],
   "source": [
    "# test non linear SVC with linear kernel\n",
    "def test_SVC_linear(*data):\n",
    "  X_train, X_test, y_train, y_test = data\n",
    "  cls = svm.SVC(kernel='linear')\n",
    "  cls.fit(X_train, y_train)\n",
    "  print('Coef:%s, intercept %s'%(cls.coef_,cls.intercept_))\n",
    "  print('Score:%.2f'%cls.score(X_test, y_test))"
   ]
  },
  {
   "cell_type": "code",
   "execution_count": 0,
   "metadata": {
    "application/vnd.databricks.v1+cell": {
     "cellMetadata": {
      "byteLimit": 2048000,
      "rowLimit": 10000
     },
     "inputWidgets": {},
     "nuid": "e146e4d3-8ea1-4af7-bba9-d790595bdd44",
     "showTitle": false,
     "title": ""
    }
   },
   "outputs": [
    {
     "output_type": "stream",
     "name": "stdout",
     "output_type": "stream",
     "text": [
      "Coef:[[-0.16990304  0.47442881 -0.93075307 -0.51249447]\n [ 0.02439178  0.21890135 -0.52833486 -0.25913786]\n [ 0.52289771  0.95783924 -1.82516872 -2.00292778]], intercept [2.0368826 1.1512924 6.3276538]\nScore:1.00\n"
     ]
    }
   ],
   "source": [
    "X_train, X_test, y_train, y_test = load_data_classification()\n",
    "test_SVC_linear(X_train, X_test, y_train, y_test)"
   ]
  },
  {
   "cell_type": "code",
   "execution_count": 0,
   "metadata": {
    "application/vnd.databricks.v1+cell": {
     "cellMetadata": {
      "byteLimit": 2048000,
      "rowLimit": 10000
     },
     "inputWidgets": {},
     "nuid": "65e0ef6d-fbf8-4442-9978-d387ab80129c",
     "showTitle": false,
     "title": ""
    }
   },
   "outputs": [],
   "source": [
    "# now consider the poly kernel\n",
    "def test_SVC_poly(*data):\n",
    "  X_train, X_test, y_train, y_test = data\n",
    "  fig=plt.figure()\n",
    "  degrees=range(1,20)\n",
    "  train_scores=[]\n",
    "  test_scores=[]\n",
    "  # test degrees\n",
    "  for degree in degrees:\n",
    "    cls = svm.SVC(kernel='poly',degree=degree)\n",
    "    cls.fit(X_train, y_train)\n",
    "    train_scores.append(cls.score(X_train, y_train))\n",
    "    test_scores.append(cls.score(X_test,y_test))\n",
    "  fig=plt.figure()\n",
    "  ax=fig.add_subplot(1,3,1)\n",
    "  ax.plot(degrees, train_scores, label='Training_score', marker='+')\n",
    "  ax.plot(degrees, test_scores, label='Testing_score', marker='o')\n",
    "  ax.set_xlabel('p')\n",
    "  ax.set_ylabel('score')\n",
    "  ax.set_ylim(0,1.05)\n",
    "  ax.set_title('SVC_Poly_degree')\n",
    "  ax.legend(loc='best',framealpha=.5)\n",
    "  # test gamma\n",
    "  gammas=range(1,20)\n",
    "  train_scores=[]\n",
    "  test_scores=[]\n",
    "  for gamma in gammas:\n",
    "    cls = svm.SVC(kernel='poly',degree=3, gamma=gamma)\n",
    "    cls.fit(X_train, y_train)\n",
    "    train_scores.append(cls.score(X_train, y_train))\n",
    "    test_scores.append(cls.score(X_test,y_test))\n",
    "  ax=fig.add_subplot(1,3,2)\n",
    "  ax.plot(gammas, train_scores, label='Training_score', marker='+')\n",
    "  ax.plot(gammas, test_scores, label='Testing_score', marker='o')\n",
    "  ax.set_xlabel(r'$\\gamma$')\n",
    "  ax.set_ylabel('score')\n",
    "  ax.set_ylim(0,1.05)\n",
    "  ax.set_title('SVC_Poly_gamma')\n",
    "  ax.legend(loc='best',framealpha=.5)\n",
    "  # test r\n",
    "  rs=range(0,20)\n",
    "  train_scores=[]\n",
    "  test_scores=[]\n",
    "  for r in rs:\n",
    "    cls = svm.SVC(kernel='poly',degree=3, gamma=10,coef0=r)\n",
    "    cls.fit(X_train, y_train)\n",
    "    train_scores.append(cls.score(X_train, y_train))\n",
    "    test_scores.append(cls.score(X_test,y_test))\n",
    "  ax=fig.add_subplot(1,3,3)\n",
    "  ax.plot(rs, train_scores, label='Training_score', marker='+')\n",
    "  ax.plot(rs, test_scores, label='Testing_score', marker='o')\n",
    "  ax.set_xlabel(r'r')\n",
    "  ax.set_ylabel('score')\n",
    "  ax.set_ylim(0,1.05)\n",
    "  ax.set_title('SVC_Poly_r')\n",
    "  ax.legend(loc='best',framealpha=.5)\n",
    "  plt.show()"
   ]
  },
  {
   "cell_type": "code",
   "execution_count": 0,
   "metadata": {
    "application/vnd.databricks.v1+cell": {
     "cellMetadata": {
      "byteLimit": 2048000,
      "rowLimit": 10000
     },
     "inputWidgets": {},
     "nuid": "e1271bde-5056-4623-bddc-428506727a70",
     "showTitle": false,
     "title": ""
    }
   },
   "outputs": [
    {
     "output_type": "stream",
     "name": "stdout",
     "output_type": "stream",
     "text": [
      "<Figure size 432x288 with 0 Axes>"
     ]
    },
    {
     "output_type": "display_data",
     "data": {
      "image/png": "[encoded data removed]"
     },
     "metadata": {
      "application/vnd.databricks.v1+output": {
       "addedWidgets": {},
       "arguments": {},
       "data": "data:image/png;base64,iVBORw0KGgoAAAANSUhEUgAAAY8AAAEYCAYAAACk+XocAAAAOXRFWHRTb2Z0d2FyZQBNYXRwbG90bGliIHZlcnNpb24zLjUuMSwgaHR0cHM6Ly9tYXRwbG90bGliLm9yZy/YYfK9AAAACXBIWXMAAAsTAAALEwEAmpwYAAAvSUlEQVR4nO3deXhU9dn/8fdN2AmLIFYJKFAWZTNKEJeqULQgWC24PKC2YOuO4tJaafto0ba/1tpH3Gu1danWBa1rZVEpFK1WDIoUBAQBhYDKIpE1ZLl/f5xJHEJC5iSzZCaf13XlypwzZ/nOfM7MfbY5x9wdERGRMBqlugEiIpJ+VDxERCQ0FQ8REQlNxUNEREJT8RARkdBUPEREJDQVjwQys7lmdlGcp+lm1iOe05TYJCJPyUwNYVlJu+JhZt8ys7fMrNDMtpjZv83sRDPbYWbZVQz/vpldGXnc1MymmNmKyPBrzOwhM+tawzznmtluM9tuZpvM7DkzOyRBL7FBUZ4SKy0r9UtaFQ8zawP8A7gbaA/kADcDhcA64OxKw/cD+gBPRno9C5wBnAe0BY4EFgDDYpj9le6eDfQC2gFT6/Zq6hczy0rBPJWnxKShLytm1jjZ86yRu6fNH5AHbK3muZ8D/6zU7/fA85HHpwC7gC61mO9c4KKo7onA4sjj44F3CRbid4HjK48HNAW2AP2jnjsI2Al0rGHe1wMbgPXADwEHekSeawb8AfgU+By4H2gRNe5Po8a9qNK4jwB/BKYDOyLvTyfg78BGYDUwKWpajYDJwMfAZmAa0F55hs5zf5mMAt4HvgLWAlOixusaGfbCyHNfApcBg4BFwFbgnqjhJwD/Jvii2wqsiry2CZHxvwDGRw1f7bzrw19DW1aAIQRF8QbgM+CxVGewTxtT3YCQQbYh+OJ6FDgNOCDquS5ASfkCQvBltw74XqT7d8C/ajnfigUIOBD4J/AYwRrQl8D3gcbAuEh3hyrGuw+4NWqaVwMv1zDfEQRFoR/QCniCvb9spgIvRdrRGngZ+G3UuJ8BfYGWwOPsWzwKgRMi71VLgjWxmyILfHeCL5zhUe39D9CZoGj9CXhSeYbOc3+ZDAH6R17rgEj25a+3a2TY+4HmwHeA3cALBF9GOQQF4eTI8BMi79+FQBbwa4KVjHsj+X0H2AZk1zTv+vDXAJeVIZHXdGskrxa1aX9CM0l1A2oR5hEEX3zrIm/uS8A3Is+9Dvw88vhUgjXoJpHuB4Gn6rAA7SRYgysA/gZ0jCw48ysN+zYwoYoFaHDkw2uR7nzg3Brm+xDwu6juXkS+bAAj2GL4ZtTzxwGro8b9bdRzPdi3ePw16vnBwKeV5v8z4OHI46XAsKjnDgGKgcbKM1Se1WZSxfB3AFMjj7tGhs2Jen4z8D9R3X8Hrok8ngCsiHquf2T8b1QaP7emedeXvwa2rAwB9gDNU/2+V/eXVsc8ANx9qbtPcPfOBGvknQgWdAjWSr4fefx9ggWmONK9meALr7YmuXs7d89x9/PdfWNk3p9UGu4TgrXAyu1+h2AhHGJmhxN8cbxUwzw7EexCiJ52uY5EthbMbKuZbQVmRvpXNW7046r6HQZ0Kp9WZHo/B74R9fzzUc8tBUqjnq+VBp7nXpmY2WAzm2NmG82skGC31IGVpvF51ONdVXRn72dY3L3K4WOcd0o1sGUFYKO7765DuxMq7YpHNHdfRrAm0i/S6zmgs5kNBcYQLFDlXgeOMbPOcWzCeoIv1WiHEqyhVOVR4AKChfvZGBaMDQSb5NHTLreJ4MPfN7Jgt3P3th4c2CsfN/q1Rk+nnEc9Xkuw1dIu6q+1u4+Mev60Ss83d/fqXmtoDSTP/WXyBMGXShd3b0uwi8piaHc8pHLeoTWAZQX2/nzWO2lVPMzscDP7cflCYGZdCPY1/gfA3XcQnFXxMPCJu+eXj+vurwOvEaw9DzSzxmbW2swuM7Mf1rJJ04FeZnZeZHr/Q3CGxz+qGf5xYDTBQvTXGKY/DZhgZn3MrCXwy6jXU0awOT7VzA4CMLMcMxseNe6FZnZEZNwba5jXfGCbmd1gZi3MLMvM+pnZoMjz9wO/MbPDIvPqaGZnxvAaqtVA89xfJq2BLe6+28yOITgzKFlSOe8aNcBlpd5Lq+JBcIBvMPCOme0gWHAWAz+OGuZRgjWCqgI6myD0pwkOFi8mOIvj9do0xt03A6dH5r+Z4Eya0919UzXDrwXeI1ijeCOG6c8g2Cz/J7Ay8j/aDZH+/zGzryKvo3fUuHcBc8qHiYxTVM28SiOvJZfgTKtNwJ8JTmsEuJNgzfRVM9sWmd7gml5DDRpinvvL5Arglsj7exNBsUmWVM47Fg1qWUkH5QdwJEnM7CFgvbv/b5LnewTBB6aZu5ckc96ZrC55KpOGJVWf/URR8UiiyK9ZFwJHufvqJMxvNMHaVkuCtbIyd/9eoufbUNQmT2XSMCX7s58M6bbbKmEilx+o6u/EOE3/VwRrmbdFLzxm9vNq5jsjDrO9lODc/48Jzoy6PA7TTAv1OM8Gm0l9VY+XlXpNWx4iIhKatjxERCS0+nexrRoceOCB3rVr11Q3Q4AFCxZscveONQ9ZM+VafyjXzBTPXCENi0fXrl3Jz8+veUBJODOr/AvbWlOu9YdyzUzxzBW020pERGpBxUNEREJT8RARkdBUPEREJDQVDxERCU3FQ0REQktY8TCzh8zsCzNbXM3zZmZ3mdlKM1tkZkeHnsmiaTC1H0xpF/xfNG3ffv+4bt9h6iKWedYwj6mvfVRv+oX1wx/+kIMOOoh+/fpV+XzSco3q56nuF1nGUt6OOvYrz5bgNrnxzzbWtlH7ZTqen49Ma0O8JezyJGZ2ErCd4Fan+3zTmNlI4CpgJMGllu909xov8Z2Xl+f5+fnBQvbyJCjeFTXRJkE5LC2udnyatIDv3gUDzg35ioh9njXMo+vkV1j2qxF79Tv8xplJ6bfmd6P29wprNG/ePLKzs/nBD37AkiVLFrh7XvTzCcm1URMwg9I9++3n1gQaGZbsfux916SUtaMO/WjSgnmdLiP7yDMYOHDgbndvQSW1yTb05zXy2en6RKt9ltWuk1+psV8swyR6WvW1DWa2z+e1LhJ6bavIlST/UU3x+BMw192fjHQvB4a4+4b9TbNiYZzaDwqrurNqDNp2gWur3CDavzDzjMxj6msfce2pvfhyxx5eXrSevy9YxwfrCsPPO04uOPZQzjq6M7ld2mFmFe2LVlW/aGvWrOH000+vrnikLlepm7ZdWDP6H3Tr1q264hE629rkurHRQQzaeQeDu7Xfq/87q7fU2C+WYRI9rfrShkQXj1T+wjyHve/hvC7Sb58F0cwuAS4BOPTQyJ1YC9fVfs4hx634Mg0xnheu48P1hdw5ewUffb6NWUs+o6weXIPy8f98yuP/+ZR2LZtw8YnduXP2Cr7Td+/bkN85e0XoghIldblKnXjN731M2VaVqxeui/meth1KNwLBF2BlsfSr7XjxnFZ9aEPXya8AcPWwnrF+dkNJi8uTuPsDwAMQrMkA0LZz7ddQsw8KNXj5l2lJi/Y03rU5pnEKyjow6q43AZi/egsTju/GWQNz6NupbVw3a8P2WzTlO0xftIG/v7eO22YtB6hoZ7QfPDSfs47OYXjfg2neJKvKglJXcc9V6sTaxucW31XlaiFybdSuM3xORu0yqg9tiLdUFo8CoEtUd2eqv3n8vobdFNu+8X0Y7NwK/3c4vu2zYKEedlPw1OxbgjWkqH6lr9/Mqmbr2HLzAbQu20oZRiP7ehOiyLMwjKb29Y3g9ngWvy/5+njH5h17eOjfq2ndvDF9O7Ulldo0b8KGwt28u+bL/Q4376ONzPtoI02zjDFHB18q7o5ZjeuPdcp1+kEXM2Trr2lpX2dY1Xtc5FlkNWpEY4/aXx7jsZG496ssVe2oS78mLb7+HFSv9tmG+bwWbWNVs/Ngape9Ppurmq3df7/aHMeUWktl8XgJuNLMniI4+FZY037xvZQvKLNvCXZ1VCoCFf16fgdWvPp1d5fBsPhZ2LYh2IwuXAsvXFGxEJf3K37uMtwjX1gG7f1LyoBFHUaSW/pfyrauo1G7zjSLmmfZ1nU0atyUpo2bc9eNN3NX46ZVrgFcPaznPi8nmf2uPbVXxVZEdWsxq/7fSH7yzAc8934BT70brDF2+9l0AL7fd5/d4dHqlOvI86+GRYd8/X5W9R5X6le54Ce9X2QZS3k76tpvwLmwZs3+4ql9tlGf12rb0aw1FH0Fu7fSyNjns7nffi9PAuDqYbn7zLq2n5lkj5foNsRbIs+2ehIYAhwIfA78EmgC4O73W7AKew8wAtgJXOjuNV5+s+IAXEgV++zrekA2ciC82k3HHzWDv50F3/sj5J6XlM3HuohlE3hHUQl9fzmLNb8bxbhx45g7dy6bNm2ipKSkmOBOeAnJNdZNdomP8mw/++wzB9YTh89sqM9rnD6bUrW0OWDu7uNqeN6BiYmaf2V3zl7B9487jA4hDtxVKXJQsdrq36MnHNQX3robjhyXlDWAuohlLaZVs68XkyeffLLisZktcve/RA8bz1xjXeuS+CjP1szeq+pLJuGf2bqeLKGTLZIqY39hXv4jmaKSUmb8N9iyPvb/zaagrEPdJhw5qFjVweNrT+0VbE4ffxV88SGsfD0hZznEU7Wvo5JUfGnH2jbJEHU9YB+nA/4Sm4wsHu7OnbNXcMY9b9L7f2dy+d/eA6CkzPl9ybkUN2q+9wiNmkBW05r7xXZQEfqdBa07wb/vrMOrqF/0pS0JN+ym4DMWLdbPpjWCob9IbPtkL2lxqm5Nyo9nfFa4m+ffL+C594LN1+WfbeO7R3birKNzmPDwu5F95aNg0VGhDirudUA+ljM6GjeFw44PDsxPaVf9wfx07aezWiQRYj0JpnK/Fu1g15fwyo/hhcv3v5wumqblOU4S+gvzRKh8AG53cSmH3ziTk3p1ZN5HG6sc5+phPblz9orkHWhdNA1emgQl0ZdiaBzs0iorTu9+UZdeiecBuNqeCCHxl3a5LpoWFI2yr0/lrvISQVVdIqUulytKM2lzwDwZFnzyJRMemg/Ax19s56pv92DM0Z3pdmCr1J6VM/uWvQsHgJcEF0FK937Fu4LX1wA+bJImZt+yd+GAqpfT2bfsXTiqG05ikrbHPKa+9hFn/fEtthUFC03B1l3c/c+VvPB+1b9ZSuo++0w/6yPTX5+kl+qWx8r9Yx1OYpK2Wx41/dAtpad0ZvolNnRWi9Qn1X3eWh/89eOSPcFB9tKiqseX0NK2eNQkpWcHxXophnTsF+sZZyLJUtXnDaBoO9zeB75aHyy3pUWRAlLpcijtvxn5gWI1V6WI9WSS2o4Xz2lVNV6Cdsml/QFzCHXF1+Sp6qwOyIx+kYUx7Q6sSkzSMtfKn7dDjoRl/9h7mEaN4ejxUV+uOVBSDDs+3/+0U3GNs3i1IUEnuECGFA9JjbT8kpEaZUSu1V3qpPIlTG7vA1/Ffj3WtBR5zfEuHml7wFxEpFqxHhz/an3i25JqCTohQMVDRDJPdQfBK/dvCAfLE/QaVTxEJPNUdamTqk72qGq4ymK9REptx4vntCpL4AkuKh4iknkGnBscKG7bBbDgf1W/JK9quLwf7d39vfvgzHtr7lfb8eI5rcrjJfDX8zpgLrWWEQdWZR/KNTPpgLmIiKScioeIiISm4iEiIqGpeIiISGgqHiIiEpqKh4iIhKbiISIioal4iIhIaCoeIiISmoqHiIiEpuIhIiKhqXiIiEhoKh4iIhKaioeIiISm4iEiIqGpeIiISGgqHiIiElpCi4eZjTCz5Wa20swmV/H8oWY2x8zeN7NFZjYyke2R+Jg5cya9e/cG6KdcM4dylTASVjzMLAu4FzgN6AOMM7M+lQb7X2Caux8FjAXuS1R7JD5KS0uZOHEiM2bMAFiCcs0IylXCSuSWxzHASndf5e57gKeAMysN40CbyOO2wPoEtkfiYP78+fTo0YPu3btDkJ9yzQDKVcJKZPHIAdZGda+L9Is2BbjAzNYB04GrqpqQmV1iZvlmlr9x48ZEtFViVFBQQJcuXaJ7KdcMoFwlrFQfMB8HPOLunYGRwGNmtk+b3P0Bd89z97yOHTsmvZESmnLNTMpVKiSyeBQA0asynSP9ov0ImAbg7m8DzYEDE9gmqaOcnBzWro3eoFSumUC5SliJLB7vAj3NrJuZNSU4wPZSpWE+BYYBmNkRBAujtnPrsUGDBrFixQpWr14NYCjXjKBcJayEFQ93LwGuBGYBSwnO0lhiZreY2RmRwX4MXGxmHwBPAhPc3RPVJqm7xo0bc8899zB8+HCAvijXjKBcJSxLt+zz8vI8Pz8/1c0QwMwWuHtePKalXOsP5ZqZ4pkrpP6AuYiIpCEVDxERCU3FQ0REQlPxEBGR0FQ8REQkNBUPEREJTcVDRERCU/EQEZHQVDxERCQ0FQ8REQlNxUNEREJT8RARkdBUPEREJDQVDxERCU3FQ0REQlPxEBGR0FQ8REQkNBUPEREJTcVDRERCU/EQEZHQVDxERCQ0FQ8REQlNxUNEREJT8RARkdBUPEREJDQVDxERCU3FQ0REQlPxEBGR0FQ8REQkNBUPEREJTcVDRERCU/EQEZHQElo8zGyEmS03s5VmNrmaYc41sw/NbImZPZHI9kh8zJw5k969ewP0U66ZQ7lKGAkrHmaWBdwLnAb0AcaZWZ9Kw/QEfgac4O59gWsS1R6Jj9LSUiZOnMiMGTMAlqBcM4JylbASueVxDLDS3Ve5+x7gKeDMSsNcDNzr7l8CuPsXCWyPxMH8+fPp0aMH3bt3B3CUa0ZQrhJWIotHDrA2qntdpF+0XkAvM/u3mf3HzEYksD0SBwUFBXTp0iW6l3LNAMpVwmpcD+bfExgCdAbmmVl/d98aPZCZXQJcAnDooYcmuYlSC8o1MylXqZDILY8CIHpVpnOkX7R1wEvuXuzuq4GPCBbOvbj7A+6e5+55HTt2TFiDpWY5OTmsXRu9QalcM4FylbASWTzeBXqaWTczawqMBV6qNMwLBGsxmNmBBJvFqxLYJqmjQYMGsWLFClavXg1gKNeMoFwlrIQVD3cvAa4EZgFLgWnuvsTMbjGzMyKDzQI2m9mHwBzgenffnKg2Sd01btyYe+65h+HDhwP0RblmBOUqYZm7xzagWQvgUHdfntgm7V9eXp7n5+ensgkZZdeuXXz66afl5/eHYmYL3D0vHu1QrvGlXKWyeOYKMW55mNl3gYXAzEh3rplV3qSVNPPyyy+Tm5vLiBHBSTMLFy7kjDPOqGEsqe+UqyRDrLutphD8bmMrgLsvBLolpEWSNFOmTGH+/Pm0a9cOgNzc3PJ93pLGlKskQ6zFo9jdCyv1i21/l9RbTZo0oW3btnv1M7MUtUbiRblKMsRaPJaY2XlAlpn1NLO7gbcS2C5Jgr59+/LEE09QWlrKihUruOqqqzj++ONT3SypI+UqyRBr8biK4AyMIuAJoBBd1ybt3X333SxZsoRmzZpx3nnn0bZtW+64445UN0vqSLlKMtT4C/PIBQ5fcfehwC8S3yRJhtLSUkaNGsWcOXP4zW9+k+rmSJwoV0mWGrc83L0UKDOztjUNK+kjKyuLRo0aUVhY+VCWpDPlKskS67WttgP/NbPXgB3lPd19UkJaJUmRnZ1N//79OfXUU2nVqlVF/7vuuiuFrZK6Uq6SDLEWj+cif5JBxowZw5gxY1LdDIkz5SrJEFPxcPdHI9en6hXptdzdixPXLEmG8ePHs2fPHj766CMAevfuTZMmTVLcKqkr5SrJEFPxMLMhwKPAGoKLpnUxs/HuPi9hLZOEmzt3LuPHj6dr1664O2vXruXRRx/lpJNOSnXTpA6UqyRDrLut/g/4Tvl1rcysF/AkMDBRDZPE+/GPf8yrr75acf2jjz76iHHjxrFgwYIUt0zqQrlKMsT6O48m0RdEdPePAG0Hp7ni4uK9LpzXq1cviou1NzLdKVdJhli3PPLN7M/A45Hu8wFdKjPN5eXlcdFFF3HBBRcA8Le//Y28vLhddFNSRLlKMsRaPC4HJgLlp+a+AdyXkBZJ0vzxj3/k3nvvrTiF88QTT+SKK65IcaukrpSrJENM9/Mws1bA7sgPBst/dd7M3XcmuH370P0B4mfHjh00b96crKwsIPh1clFRES1btoxpfN33oX5SrlKVlNzPA5gNtIjqbgG8Hq9GSGoMGzaMXbt2VXTv2rWLU045JYUtknhQrpIMsRaP5u6+vbwj8ji21Ript3bv3k12dnZFd3Z2Njt3Jn1jUuJMuUoyxFo8dpjZ0eUdZpYH7NrP8JIGWrVqxXvvvVfRnZ+fT4sWLfYzhqQD5SrJEOsB86uBZ8xsfaT7EOB/EtMkSZY777yTc845h06dOgGwYcMGnn766RS3SupKuUoyxFo8ugFHAYcCY4DB6E6CaW/16tW8//77fPrppzz33HO88847uuNcBlCukgyx7ra60d2/AtoBQwlO0/1joholyfGrX/2KNm3asHXrVubMmcMVV1zB5ZdfnupmSR0pV0mGWItHaeT/KOBBd38FaJqYJkmylJ/K+corr3DxxRczatQo9uzZk+JWSV0pV0mGWItHgZn9ieA4x3QzaxZiXKmncnJyuPTSS3n66acZOXIkRUVFlJWVpbpZUkfKVZIh1gJwLjALGO7uW4H2wPWJapQkx7Rp0xg+fDizZs2iXbt2bNmyhdtuuy3VzZI6Uq6SDLHez2MnUTeDcvcNwIZENUqSo2XLlnvdNOiQQw7hkEMOSWGLJB6UqySDdj2JiEhoKh4iIhKaioeIiISm4iEiIqGpeIiISGgqHiIiEpqKh4iIhJbQ4mFmI8xsuZmtNLPJ+xnuLDPzyKXepZ6bOXMmvXv3BuinXDOHcpUwElY8IreqvRc4DegDjDOzPlUM15rgku/vJKotEj+lpaVMnDiRGTNmACxBuWYE5SphJXLL4xhgpbuvcvc9wFPAmVUM9yvgVmB3AtsicTJ//nx69OhB9+7dIbgsv3LNAMpVwkpk8cgB1kZ1r4v0qxC5O2GXyFV6q2Vml5hZvpnlb9y4Mf4tlZgVFBTQpUuX6F7KNQMoVwkrZQfMzawRcDvw45qGdfcH3D3P3fM6duyY+MZJrSnXzKRcpbJEFo8CIHpVpnOkX7nWQD9grpmtAY4FXtJBuPotJyeHtWujNyiVayZQrhJWrLehrY13gZ5m1o1gIRwLnFf+pLsXAgeWd5vZXOAn7p6fwDZJHQ0aNIgVK1awevVqAEO5ZgTlKmElbMvD3UuAKwnuA7IUmObuS8zsFjM7I1HzlcRq3Lgx99xzD8OHDwfoi3LNCMpVwjJ3T3UbQsnLy/P8fK3s1AdmtsDd47LbQrnWH8o1M8UzV9AvzEVEpBZUPEREJDQVDxERCU3FQ0REQlPxEBGR0FQ8REQkNBUPEREJTcVDRERCU/EQEZHQVDxERCQ0FQ8REQlNxUNEREJT8RARkdBUPEREJDQVDxERCU3FQ0REQlPxEBGR0FQ8REQkNBUPEREJTcVDRERCU/EQEZHQVDxERCQ0FQ8REQlNxUNEREJT8RARkdBUPEREJDQVDxERCU3FQ0REQlPxEBGR0FQ8REQkNBUPEREJTcVDRERCS2jxMLMRZrbczFaa2eQqnr/OzD40s0VmNtvMDktkeyQ+Zs6cSe/evQH6KdfMoVwljIQVDzPLAu4FTgP6AOPMrE+lwd4H8tx9APAs8PtEtUfio7S0lIkTJzJjxgyAJSjXjKBcJaxEbnkcA6x091Xuvgd4CjgzegB3n+PuOyOd/wE6J7A9Egfz58+nR48edO/eHcBRrhlBuUpYiSweOcDaqO51kX7V+REwo6onzOwSM8s3s/yNGzfGsYkSVkFBAV26dInupVwzgHKVsOrFAXMzuwDIA26r6nl3f8Dd89w9r2PHjsltnNSacs1MylUAGidw2gVA9KpM50i/vZjZKcAvgJPdvag2MyotLWXLli0UFxfXqqESu6ZNm7Jy5UrWr1/PHXfc0fXtt9++BmDp0qWPRA/34osvHnLQQQcNfvzxx2d27tz5T0uXLi0rLS1dVlRUdP/AgQO/imVeyjV56pArQKhslWtq3HHHHV0r51mD/eaayOLxLtDTzLoRFI2xwHnRA5jZUcCfgBHu/kVtZ7RlyxaaN2/OgQceiJnVpc1Sg5EjR3LNNddQVFREUVHRnnnz5uX8+c9//vsRRxxRsX/iueeeO/i2224b9Oyzz/516NChWwDKysps8+bNPT///PPLiPFAq3JNntrmCuGzVa6pUVpauueII45YE+vwNeWasOLh7iVmdiUwC8gCHnL3JWZ2C5Dv7i8RbPZmA89EFqJP3f2MsPMqLi7WgpgkjRs35p577mH48OFs2rTpoBEjRvxr5MiRG88+++yheXl56ydPnrz85z//+XeKioqaXnDBBecCdOjQoXDRokVPdujQYf2mTZsOj3VeyjV56pJro0aNPEy2yjU91JRrIrc8cPfpwPRK/W6KenxKvOalBTF5Ro4cyciRI7n99tu/uO66694AePbZZ+eUP79s2bK/VjVeo0aNnJDH2ZRr8tQ2VwifrXJND/vLtV4cMBcRkfTSoIvH1Nc+SnUTJAGUa2ZSrvVLgy4ed85eEZfpbN68mdzcXHJzczn44IPJycmp6N6zZ89+x83Pz2fSpEk1zuP444+PS1sbAuWamZRr/ZLQYx6pcPPLS/hwfUxnggLwP396u8Zh+nRqwy+/27fa5zt06MDChQsBmDJlCtnZ2fzkJz+peL6kpITGjat+q/Py8sjLy6uxDW+99VaNw6TS7t27GzVv3rwsUdNXrqmhXPemXL/W4LY81n25k3dWb+Gd1cGZhuWP1325s4Yxw5kwYQKXXXYZgwcP5qc//Snz58/nuOOO46ijjuL4449n+fLlAMydO5fTTz8dCBbkH/7whwwZMoTu3btz1113VUwvOzu7YvghQ4Zw9tlnc/jhh3P++efj7gBMnz6dww8/nIEDBzJp0qSK6VblX//6V8Xa1lFHHcW2bdsAuPXWW+nfvz9HHnkkkycH18ZbuHAhxx57LAMGDGD06NF8+eWXANx9990dRowYMaJLly6XXH755YOfeeaZQ3r06DGhS5cul/Tp0+eCRYsWZcf1Td0P5RpQrrWjXGuRq7un1d/AgQO9soKCgn36xeKwG/5Rq/H255e//KXfdtttPn78eB81apSXlJS4u3thYaEXFxe7u/trr73mY8aMcXf3OXPm+KhRoyrGPe6443z37t2+ceNGb9++ve/Zs8fd3Vu1alUxfJs2bXzt2rVeWlrqxx57rL/xxhu+a9cu79y5s69atcrd3ceOHVsx3aqcfvrp/uabb7q7+7Zt27y4uNinT5/uxx13nO/YscPd3Tdv3uzu7v379/e5c+e6u/uNN97oV199tbu7d+3atejb3/72u+4+ZceOHbd07dp17bJly37v7lNuvPHGZ771rW+97+5Tov8+/PDDR1y5ZlyuXk22yjUzc3X3zNttVZ+cc845ZGVlAVBYWMj48eNZsWIFZlbtr2tHjRpFs2bNaNasGQcddBCff/45nTvvff25Y445pqJfbm4ua9asITs7m+7du9OtWzcAxo0bxwMPPFBt20444QSuu+46zj//fMaMGUPnzp15/fXXufDCC2nZsiUA7du3p7CwkK1bt3LyyScDMH78eM4555yK6YwdO3YxwJw5cw7csGHDQd/+9rd/AMEPjNq1a7e9Fm9bvadclWu5hpxrgy4eVw/rmdDpt2rVquLxjTfeyNChQ3n++edZs2YNQ4YMqXKcZs2aVTzOysqipKSkVsPUZPLkyYwaNYrp06dzwgknMGvWrNDTAGjTpk0xQFlZGQcffPAXa9as+UutJhRHylW51oZyDafBHfOIdu2pvZI2r8LCQnJygouUPvLII3Gffu/evVm1ahVr1qwB4Omnn97v8B9//DH9+/fnhhtuYNCgQSxbtoxTTz2Vhx9+mJ07g/3JW7ZsoW3bthxwwAG88cYbADz22GMVazXRhg4dunn79u2tHnvssc4AO3fubDR9+vSUXBVPuSrXulKuNWvQxSOZfvrTn/Kzn/2Mo446qlZrHjVp0aIF9913HyNGjGDgwIG0bt2atm3bVjv8HXfcQb9+/RgwYABNmjThtNNOY8SIEZxxxhnk5eWRm5vLH/7wBwAeffRRrr/+egYMGMDChQu56aab9plednZ26YMPPjjt5ptvPrVTp06Xde/e/bJZs2Z12WfADKNcM5NyrZl55Mh/usjLy/P8/Py9+q1fv55OnTqlqEX1x/bt28nOzsbdmThxIj179uTaa69N2Pxuv/32Ddddd131O2qrsHTp0q5HHHHEhMr9lWv10iFXqDpb5Vq9dM4VtOWRUR588EFyc3Pp27cvhYWFXHrppaluksSBcs1M6Z5rgz5gnmmuvfbafdZcHn74Ye688869+p1wwgnce++9yWya1IFyzUzpnquKR4a78MILufDCC1PdDIkz5ZqZ0ilX7bYSEZHQVDxERCQ0FQ8REQmtYRaPRdNgaj+Y0i74v2haqlsk8aBcM5NyrZca3gHzRdPg5UlQvCvoLlwbdAMMOLdWk9y8eTPDhg0D4LPPPiMrK4uOHYMfa86fP5+mTZvud/y5c+fStGnTinsA3H///bRs2ZIf/OAHtWpPg6RcM5Nyrbcyr3jMmAyf/bf659e9C6VFe/cr3gUvXgkLHq16nIP7w2m/q3aSNd0foCZz584lOzu7YmG87LLLYh43FfZ3v4OEUa4Jp1xjo1wDDW+3VeUFsab+tbRgwQJOPvlkBg4cyPDhw9mwYQMAd911F3369GHAgAGMHTuWNWvWcP/99zN16lRyc3N54403mDJlSsWlBoYMGcINN9zAMcccQ69evSquWbNz507OPfdc+vTpw+jRoxk8eDCVf8lb8dJKS5kwYQL9+vWjf//+TJ06FYCVK1dyyimncOSRR3L00Ufz8ccf4+5cf/31FcOWX3Nn7ty5nHjiiZxxxhn06dOH0tJSnn/++TaHHnroxZ06dbr8qquuGhjXNzAs5apc60C5hpd5Wx77WeMAgn2mhWv37d+2C1z4Slya4O5cddVVvPjii3Ts2JGnn36aX/ziFzz00EP87ne/Y/Xq1TRr1oytW7fSrl07Lrvssr3WfmbPnr3X9EpKSpg/fz7Tp0/n5ptv5vXXX+e+++7jgAMO4MMPP2Tx4sXk5uZW256FCxdSUFDA4sWLAdi6dSsA559/PpMnT2b06NHs3r2bsrIynnvuORYuXMgHH3zApk2bGDRoECeddBIA7733HosXL6Zbt2488MADNG/evOzTTz998Kuvvsrq27fvj8aOHfvxCSecsDUub2JlynUfylW5pjLXhrflMewmaNJi735NWgT946SoqIjFixdz6qmnkpuby69//WvWrVsHwIABAzj//PN5/PHHY96UHDNmDAADBw6suArnm2++ydixYwEqLphWne7du7Nq1SquuuoqZs6cSZs2bdi2bRsFBQWMHj0agObNm9OyZUvefPNNxo0bR1ZWFt/4xjc4+eSTeffdd4HgvgTl9x949dVXef/991vm5ORcdsQRR1y8Y8eOFgsWLOgQ/t2KE+WqXGtJudZO5m151KT8INvsW6BwHbTtHCyItTz4VhV3p2/fvrz99r73W37llVeYN28eL7/8Mr/5zW/473/3s783ovx+ALW9F8ABBxzABx98wKxZs7j//vuZNm3aPpdAiEX0/Q7cnTPPPLPwL3/5y/2hJ5QIylW51pJyrZ2Gt+UBwYJ37WKYsjX4H8cFEYKFZ+PGjRULY3FxMUuWLKGsrIy1a9cydOhQbr31VgoLC9m+fTutW7euuCdxrE444QSmTQtOWfzwww/3u1Bv2rSJsrIyzjrrLH7961/z3nvv0bp1azp37swLL7wABGtfO3fu5MQTT+Tpp5+mtLSUjRs3Mm/ePI455ph9pjl8+HDeeuutljt37mwE8M9//rPDF1980STUi4g35apca0G51k7D2/JIgkaNGvHss88yadIkCgsLKSkp4ZprrqFXr15ccMEFFBYW4u5MmjSJdu3a8d3vfpezzz6bF198kbvvvjumeVxxxRWMHz+ePn36cPjhh9O3b99q7wdQUFDAhRdeSFlZGQC//e1vgeBGMZdeeik33XQTTZo04ZlnnmH06NG8/fbbHHnkkZgZv//97zn44INZtmzZXtO86KKLeOKJJ0q++c1vXuru1qZNmx2zZ89+qg5vW72nXDOTcq0d3c8jTZWWllJcXEzz5s35+OOPOeWUU1i+fHmN56jHk+7nEX/pmivofh77k2m5grY80tbOnTsZOnQoxcXFuDv33XdfUhdESQzlmpkyMVcVjzTVunXrKs8THzx4MEVFe58D/9hjj9G/f/9kNU3qQLlmpkzMNWOKh7tjZqluRsq98847qW5CtcrKygwoCzOOcg3U51whfLbKNZDOuWbE2VZNmjRh+/btpNvxm4akrKzMNm/e3Km0tHRZzUMHlGt6CJutck0PNeWaEVse7du3Z8uWLaFPn5O6ycrKarp06dKuMQ5eVlpauqyoqCjm88yVa2qEzBVCZqtcUyPeuWbE2VaSGma2wN3z4jEt5Vp/KNfMFM9cIcG7rcxshJktN7OVZja5iuebmdnTkeffMbOuiWyPxMfMmTPp3bs3QD/lmjmUq4SRsOJhZlnAvcBpQB9gnJn1qTTYj4Av3b0HMBW4NVHtkfgoLS1l4sSJzJgxA2AJyjUjKFcJK5FbHscAK919lbvvAZ4Czqw0zJlA+UX5nwWGmU7BqNfmz59Pjx496N69O4CjXDOCcpWwEnnAPAeIvpbyOmBwdcO4e4mZFQIdgE3RA5nZJcAlkc7tZrY8IS0OHFh5/prHXg4A2pjZJ8BhpE+ukPj3XbkSU67JeJ8SJZ3bflg8J5YWZ1u5+wNA6J/V14aZ5cfzoFKmzcPMzgZGuPtFke7v13ZaycwVEv++K9dATbkm431KlHRue7wlcrdVAdAlqrtzpF+Vw5hZY6AtsDmBbZK6U66ZSblKKIksHu8CPc2sm5k1BcYCL1Ua5iVgfOTx2cA/Pd3OHW54lGtmUq4SSsJ2W0X2iV4JzAKygIfcfYmZ3QLku/tLwF+Ax8xsJbCFYIFNtWTsRknbeaRxrpD49125xiZpuyoTIJ3bHldp9yNBERFJvYy4tpWIiCSXioeIiISm4hHFzNaY2X/NbKGZxeWCPGb2kJl9YWaLo/q1N7PXzGxF5P8BCZjHFDMriLyWhWY2si7zSGfKtX6o6XJF9U0yMk5nKh77GuruuXE8l/sRYESlfpOB2e7eE5gd6Y73PACmRl5LrrtPr+M80p1yTaEYL1dU3zxC4jNOWyoeCebu8wjOTIkWfZmHR4HvJWAekkDKNbRYLldUryQj43Sm4rE3B141swWRSywkyjfcfUPk8WfANxI0nyvNbFFk87vBbl6jXOuDqi5XlJOittRFsjKu91Q89vYtdz+aYNN6opmdlOgZRn5klYjzpf8IfBPIBTYA/5eAeaQL5Spxl8CM04KKRxR3L4j8/wJ4nmBTOxE+N7NDACL/v4j3DNz9c3cvdfcy4EES91rqPeVaL8Ry+ZN0kPCM04WKR4SZtTKz1uWPge8Ai/c/Vq1FX+ZhPPBivGdQvoBHjCZxr6VeU671RiyXP0kHCc84XegX5hFm1p1grRSCy7Y84e6/icN0nwSGEFzK+XPgl8ALwDTgUOAT4Fx3r/WB0WrmMYRg14YDa4BLo/bVNhjKtf6InFZ8B19f/qTOOSRSMjJOZyoeIiISmnZbiYhIaCoeIiISmoqHiIiEpuIhIiKhqXiIiEhoKh4iIhKaioeISAwsoO/MCL0RSWRmXc1smZn9zcyWmtmzZtYy1e2S2jOznpH7hfSIdDeJ3GejS03jSv0X+cwuN7O/EvyaX7lGqHgkX2/gPnc/AvgKuCLF7ZE6cPcVwAPA8EivK4GX3H1t9WNJmulJ8Jnt6+6fpLox9YWKR/Ktdfd/Rx4/DnwrlY2RuFgM9Daz9sCPgFtT3B6Jr0/c/T+pbkR9o+KRfJWvB6Prw6S/jwi2KKcAf3D3HaltjsSZ8qyCikfyHWpmx0Uenwe8mcrGSFx8DBxNcHn0v6a4LSJJoeKRfMsJbki0FDiA4OY+ksbcvZjg+NXkyH02RDKerqqbRGbWFfiHu/dLdVskvszsU+Aw1wdKGghteYjUUWSl4BMVDmlItOUhIiKhactDRERCU/EQEZHQVDxERCQ0FQ8REQlNxUNEREJT8RARkdBUPEREJLT/DydEZPDwpL4kAAAAAElFTkSuQmCC\n",
       "datasetInfos": [],
       "metadata": {},
       "removedWidgets": [],
       "type": "image"
      }
     },
     "output_type": "display_data"
    }
   ],
   "source": [
    "X_train, X_test, y_train, y_test = load_data_classification()\n",
    "test_SVC_poly(X_train, X_test, y_train, y_test)\n",
    "# no big effect from gamma\n",
    "# the best at r=0\n",
    "# with p increase, the performance converges"
   ]
  }
 ],
 "metadata": {
  "application/vnd.databricks.v1+notebook": {
   "dashboards": [],
   "language": "python",
   "notebookMetadata": {
    "pythonIndentUnit": 2
   },
   "notebookName": "PracNew060223",
   "widgets": {}
  }
 },
 "nbformat": 4,
 "nbformat_minor": 0
}
