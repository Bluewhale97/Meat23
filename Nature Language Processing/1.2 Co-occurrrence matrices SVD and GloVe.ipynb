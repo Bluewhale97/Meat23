{
 "cells": [
  {
   "cell_type": "code",
   "execution_count": 0,
   "metadata": {
    "application/vnd.databricks.v1+cell": {
     "cellMetadata": {
      "byteLimit": 2048000,
      "rowLimit": 10000
     },
     "inputWidgets": {},
     "nuid": "391e1085-8e85-4e1a-be91-7f48ef59ea00",
     "showTitle": false,
     "title": ""
    }
   },
   "outputs": [
    {
     "output_type": "stream",
     "name": "stdout",
     "output_type": "stream",
     "text": [
      "Python interpreter will be restarted.\nRequirement already satisfied: numpy in /databricks/python3/lib/python3.9/site-packages (1.21.5)\nCollecting numpy\n  Downloading numpy-1.25.1-cp39-cp39-manylinux_2_17_x86_64.manylinux2014_x86_64.whl (17.7 MB)\nInstalling collected packages: numpy\n  Attempting uninstall: numpy\n    Found existing installation: numpy 1.21.5\n    Not uninstalling numpy at /databricks/python3/lib/python3.9/site-packages, outside environment /local_disk0/.ephemeral_nfs/envs/pythonEnv-a16806e0-f59a-4477-b04d-812f99575ade\n    Can't uninstall 'numpy'. No files were found to uninstall.\nERROR: pip's dependency resolver does not currently take into account all the packages that are installed. This behaviour is the source of the following dependency conflicts.\nnumba 0.57.1 requires numpy<1.25,>=1.21, but you have numpy 1.25.1 which is incompatible.\nscipy 1.7.3 requires numpy<1.23.0,>=1.16.5, but you have numpy 1.25.1 which is incompatible.\nSuccessfully installed numpy-1.25.1\nPython interpreter will be restarted.\n"
     ]
    }
   ],
   "source": [
    "pip install --upgrade numpy"
   ]
  },
  {
   "cell_type": "markdown",
   "metadata": {
    "application/vnd.databricks.v1+cell": {
     "cellMetadata": {},
     "inputWidgets": {},
     "nuid": "f45491cb-6bc4-4b8f-a5b4-af4aa4d28abd",
     "showTitle": false,
     "title": ""
    }
   },
   "source": [
    "# Import Libs"
   ]
  },
  {
   "cell_type": "code",
   "execution_count": 0,
   "metadata": {
    "application/vnd.databricks.v1+cell": {
     "cellMetadata": {
      "byteLimit": 2048000,
      "rowLimit": 10000
     },
     "inputWidgets": {},
     "nuid": "ce2c4346-dd35-4639-921c-0366abe79611",
     "showTitle": false,
     "title": ""
    }
   },
   "outputs": [
    {
     "output_type": "stream",
     "name": "stderr",
     "output_type": "stream",
     "text": [
      "/databricks/python/lib/python3.9/site-packages/scipy/__init__.py:146: UserWarning: A NumPy version >=1.16.5 and <1.23.0 is required for this version of SciPy (detected version 1.25.1\n  warnings.warn(f\"A NumPy version >={np_minversion} and <{np_maxversion}\"\n[nltk_data] Downloading package reuters to /root/nltk_data...\n"
     ]
    }
   ],
   "source": [
    "# Libraries \n",
    "import sys\n",
    "assert sys.version_info[0]==3\n",
    "assert sys.version_info[1] >= 5\n",
    "\n",
    "from gensim.models import KeyedVectors\n",
    "from gensim.test.utils import datapath\n",
    "import pprint\n",
    "import matplotlib.pyplot as plt\n",
    "plt.rcParams['figure.figsize'] = [10, 5]\n",
    "import nltk\n",
    "nltk.download('reuters')\n",
    "from nltk.corpus import reuters\n",
    "import numpy as np\n",
    "import random\n",
    "import scipy as sp\n",
    "from sklearn.decomposition import TruncatedSVD\n",
    "from sklearn.decomposition import PCA\n",
    "\n",
    "START_TOKEN = '<START>'#represent the begining of sentences\n",
    "END_TOKEN = '<END>'# represent the end of sentences\n",
    "\n",
    "np.random.seed(0)\n",
    "random.seed(0)"
   ]
  },
  {
   "cell_type": "markdown",
   "metadata": {
    "application/vnd.databricks.v1+cell": {
     "cellMetadata": {},
     "inputWidgets": {},
     "nuid": "f672c55d-44f4-430e-8e4a-b12b229edd28",
     "showTitle": false,
     "title": ""
    }
   },
   "source": [
    "# Part1, Co-occurrence Matrix"
   ]
  },
  {
   "cell_type": "markdown",
   "metadata": {
    "application/vnd.databricks.v1+cell": {
     "cellMetadata": {},
     "inputWidgets": {},
     "nuid": "86edf144-38c9-42aa-9247-7e230baf0c08",
     "showTitle": false,
     "title": ""
    }
   },
   "source": [
    "# Pull Corpus"
   ]
  },
  {
   "cell_type": "code",
   "execution_count": 0,
   "metadata": {
    "application/vnd.databricks.v1+cell": {
     "cellMetadata": {
      "byteLimit": 2048000,
      "rowLimit": 10000
     },
     "inputWidgets": {},
     "nuid": "e0e988b2-0494-4ab0-a386-1194d3460700",
     "showTitle": false,
     "title": ""
    }
   },
   "outputs": [],
   "source": [
    "# data :: Reuters corpus, 10,788 news documents totaling 1.3 million words, span 90 categories and are split into train and test \n",
    "\n",
    "# now we pull only articles from \"crude\"(i.e. news articles about oil, gas, etc.)\n",
    "# add <START> and <END> tokens to each of the document and lowercases words\n",
    "\n",
    "# fileids() method pulls files\n",
    "# in each file, get words using reuters.word(f)\n",
    "def read_corpus(category=\"crude\"):\n",
    "    \"\"\" Read files from the specified Reuter's category.\n",
    "        Params:\n",
    "            category (string): category name\n",
    "        Return:\n",
    "            list of lists, with words from each of the processed files\n",
    "    \"\"\"\n",
    "    files = reuters.fileids(category)\n",
    "    return [[START_TOKEN] + [w.lower() for w in list(reuters.words(f))] + [END_TOKEN] for f in files]"
   ]
  },
  {
   "cell_type": "code",
   "execution_count": 0,
   "metadata": {
    "application/vnd.databricks.v1+cell": {
     "cellMetadata": {
      "byteLimit": 2048000,
      "rowLimit": 10000
     },
     "inputWidgets": {},
     "nuid": "90137272-8a84-4337-9a07-d6ad9feae1fc",
     "showTitle": false,
     "title": ""
    }
   },
   "outputs": [
    {
     "output_type": "stream",
     "name": "stdout",
     "output_type": "stream",
     "text": [
      "[['<START>', 'japan', 'to', 'revise', 'long', '-', 'term', 'energy', 'demand', 'downwards', 'the',\n  'ministry', 'of', 'international', 'trade', 'and', 'industry', '(', 'miti', ')', 'will', 'revise',\n  'its', 'long', '-', 'term', 'energy', 'supply', '/', 'demand', 'outlook', 'by', 'august', 'to',\n  'meet', 'a', 'forecast', 'downtrend', 'in', 'japanese', 'energy', 'demand', ',', 'ministry',\n  'officials', 'said', '.', 'miti', 'is', 'expected', 'to', 'lower', 'the', 'projection', 'for',\n  'primary', 'energy', 'supplies', 'in', 'the', 'year', '2000', 'to', '550', 'mln', 'kilolitres',\n  '(', 'kl', ')', 'from', '600', 'mln', ',', 'they', 'said', '.', 'the', 'decision', 'follows',\n  'the', 'emergence', 'of', 'structural', 'changes', 'in', 'japanese', 'industry', 'following',\n  'the', 'rise', 'in', 'the', 'value', 'of', 'the', 'yen', 'and', 'a', 'decline', 'in', 'domestic',\n  'electric', 'power', 'demand', '.', 'miti', 'is', 'planning', 'to', 'work', 'out', 'a', 'revised',\n  'energy', 'supply', '/', 'demand', 'outlook', 'through', 'deliberations', 'of', 'committee',\n  'meetings', 'of', 'the', 'agency', 'of', 'natural', 'resources', 'and', 'energy', ',', 'the',\n  'officials', 'said', '.', 'they', 'said', 'miti', 'will', 'also', 'review', 'the', 'breakdown',\n  'of', 'energy', 'supply', 'sources', ',', 'including', 'oil', ',', 'nuclear', ',', 'coal', 'and',\n  'natural', 'gas', '.', 'nuclear', 'energy', 'provided', 'the', 'bulk', 'of', 'japan', \"'\", 's',\n  'electric', 'power', 'in', 'the', 'fiscal', 'year', 'ended', 'march', '31', ',', 'supplying',\n  'an', 'estimated', '27', 'pct', 'on', 'a', 'kilowatt', '/', 'hour', 'basis', ',', 'followed',\n  'by', 'oil', '(', '23', 'pct', ')', 'and', 'liquefied', 'natural', 'gas', '(', '21', 'pct', '),',\n  'they', 'noted', '.', '<END>'],\n ['<START>', 'energy', '/', 'u', '.', 's', '.', 'petrochemical', 'industry', 'cheap', 'oil',\n  'feedstocks', ',', 'the', 'weakened', 'u', '.', 's', '.', 'dollar', 'and', 'a', 'plant',\n  'utilization', 'rate', 'approaching', '90', 'pct', 'will', 'propel', 'the', 'streamlined', 'u',\n  '.', 's', '.', 'petrochemical', 'industry', 'to', 'record', 'profits', 'this', 'year', ',',\n  'with', 'growth', 'expected', 'through', 'at', 'least', '1990', ',', 'major', 'company',\n  'executives', 'predicted', '.', 'this', 'bullish', 'outlook', 'for', 'chemical', 'manufacturing',\n  'and', 'an', 'industrywide', 'move', 'to', 'shed', 'unrelated', 'businesses', 'has', 'prompted',\n  'gaf', 'corp', '&', 'lt', ';', 'gaf', '>,', 'privately', '-', 'held', 'cain', 'chemical', 'inc',\n  ',', 'and', 'other', 'firms', 'to', 'aggressively', 'seek', 'acquisitions', 'of', 'petrochemical',\n  'plants', '.', 'oil', 'companies', 'such', 'as', 'ashland', 'oil', 'inc', '&', 'lt', ';', 'ash',\n  '>,', 'the', 'kentucky', '-', 'based', 'oil', 'refiner', 'and', 'marketer', ',', 'are', 'also',\n  'shopping', 'for', 'money', '-', 'making', 'petrochemical', 'businesses', 'to', 'buy', '.', '\"',\n  'i', 'see', 'us', 'poised', 'at', 'the', 'threshold', 'of', 'a', 'golden', 'period', ',\"', 'said',\n  'paul', 'oreffice', ',', 'chairman', 'of', 'giant', 'dow', 'chemical', 'co', '&', 'lt', ';',\n  'dow', '>,', 'adding', ',', '\"', 'there', \"'\", 's', 'no', 'major', 'plant', 'capacity', 'being',\n  'added', 'around', 'the', 'world', 'now', '.', 'the', 'whole', 'game', 'is', 'bringing', 'out',\n  'new', 'products', 'and', 'improving', 'the', 'old', 'ones', '.\"', 'analysts', 'say', 'the',\n  'chemical', 'industry', \"'\", 's', 'biggest', 'customers', ',', 'automobile', 'manufacturers',\n  'and', 'home', 'builders', 'that', 'use', 'a', 'lot', 'of', 'paints', 'and', 'plastics', ',',\n  'are', 'expected', 'to', 'buy', 'quantities', 'this', 'year', '.', 'u', '.', 's', '.',\n  'petrochemical', 'plants', 'are', 'currently', 'operating', 'at', 'about', '90', 'pct',\n  'capacity', ',', 'reflecting', 'tighter', 'supply', 'that', 'could', 'hike', 'product', 'prices',\n  'by', '30', 'to', '40', 'pct', 'this', 'year', ',', 'said', 'john', 'dosher', ',', 'managing',\n  'director', 'of', 'pace', 'consultants', 'inc', 'of', 'houston', '.', 'demand', 'for', 'some',\n  'products', 'such', 'as', 'styrene', 'could', 'push', 'profit', 'margins', 'up', 'by', 'as',\n  'much', 'as', '300', 'pct', ',', 'he', 'said', '.', 'oreffice', ',', 'speaking', 'at', 'a',\n  'meeting', 'of', 'chemical', 'engineers', 'in', 'houston', ',', 'said', 'dow', 'would', 'easily',\n  'top', 'the', '741', 'mln', 'dlrs', 'it', 'earned', 'last', 'year', 'and', 'predicted', 'it',\n  'would', 'have', 'the', 'best', 'year', 'in', 'its', 'history', '.', 'in', '1985', ',', 'when',\n  'oil', 'prices', 'were', 'still', 'above', '25', 'dlrs', 'a', 'barrel', 'and', 'chemical',\n  'exports', 'were', 'adversely', 'affected', 'by', 'the', 'strong', 'u', '.', 's', '.', 'dollar',\n  ',', 'dow', 'had', 'profits', 'of', '58', 'mln', 'dlrs', '.', '\"', 'i', 'believe', 'the',\n  'entire', 'chemical', 'industry', 'is', 'headed', 'for', 'a', 'record', 'year', 'or', 'close',\n  'to', 'it', ',\"', 'oreffice', 'said', '.', 'gaf', 'chairman', 'samuel', 'heyman', 'estimated',\n  'that', 'the', 'u', '.', 's', '.', 'chemical', 'industry', 'would', 'report', 'a', '20', 'pct',\n  'gain', 'in', 'profits', 'during', '1987', '.', 'last', 'year', ',', 'the', 'domestic',\n  'industry', 'earned', 'a', 'total', 'of', '13', 'billion', 'dlrs', ',', 'a', '54', 'pct', 'leap',\n  'from', '1985', '.', 'the', 'turn', 'in', 'the', 'fortunes', 'of', 'the', 'once', '-', 'sickly',\n  'chemical', 'industry', 'has', 'been', 'brought', 'about', 'by', 'a', 'combination', 'of', 'luck',\n  'and', 'planning', ',', 'said', 'pace', \"'\", 's', 'john', 'dosher', '.', 'dosher', 'said', 'last',\n  'year', \"'\", 's', 'fall', 'in', 'oil', 'prices', 'made', 'feedstocks', 'dramatically', 'cheaper',\n  'and', 'at', 'the', 'same', 'time', 'the', 'american', 'dollar', 'was', 'weakening', 'against',\n  'foreign', 'currencies', '.', 'that', 'helped', 'boost', 'u', '.', 's', '.', 'chemical',\n  'exports', '.', 'also', 'helping', 'to', 'bring', 'supply', 'and', 'demand', 'into', 'balance',\n  'has', 'been', 'the', 'gradual', 'market', 'absorption', 'of', 'the', 'extra', 'chemical',\n  'manufacturing', 'capacity', 'created', 'by', 'middle', 'eastern', 'oil', 'producers', 'in',\n  'the', 'early', '1980s', '.', 'finally', ',', 'virtually', 'all', 'major', 'u', '.', 's', '.',\n  'chemical', 'manufacturers', 'have', 'embarked', 'on', 'an', 'extensive', 'corporate',\n  'restructuring', 'program', 'to', 'mothball', 'inefficient', 'plants', ',', 'trim', 'the',\n  'payroll', 'and', 'eliminate', 'unrelated', 'businesses', '.', 'the', 'restructuring', 'touched',\n  'off', 'a', 'flurry', 'of', 'friendly', 'and', 'hostile', 'takeover', 'attempts', '.', 'gaf', ',',\n  'which', 'made', 'an', 'unsuccessful', 'attempt', 'in', '1985', 'to', 'acquire', 'union',\n  'carbide', 'corp', '&', 'lt', ';', 'uk', '>,', 'recently', 'offered', 'three', 'billion', 'dlrs',\n  'for', 'borg', 'warner', 'corp', '&', 'lt', ';', 'bor', '>,', 'a', 'chicago', 'manufacturer',\n  'of', 'plastics', 'and', 'chemicals', '.', 'another', 'industry', 'powerhouse', ',', 'w', '.',\n  'r', '.', 'grace', '&', 'lt', ';', 'gra', '>', 'has', 'divested', 'its', 'retailing', ',',\n  'restaurant', 'and', 'fertilizer', 'businesses', 'to', 'raise', 'cash', 'for', 'chemical',\n  'acquisitions', '.', 'but', 'some', 'experts', 'worry', 'that', 'the', 'chemical', 'industry',\n  'may', 'be', 'headed', 'for', 'trouble', 'if', 'companies', 'continue', 'turning', 'their',\n  'back', 'on', 'the', 'manufacturing', 'of', 'staple', 'petrochemical', 'commodities', ',', 'such',\n  'as', 'ethylene', ',', 'in', 'favor', 'of', 'more', 'profitable', 'specialty', 'chemicals',\n  'that', 'are', 'custom', '-', 'designed', 'for', 'a', 'small', 'group', 'of', 'buyers', '.', '\"',\n  'companies', 'like', 'dupont', '&', 'lt', ';', 'dd', '>', 'and', 'monsanto', 'co', '&', 'lt', ';',\n  'mtc', '>', 'spent', 'the', 'past', 'two', 'or', 'three', 'years', 'trying', 'to', 'get', 'out',\n  'of', 'the', 'commodity', 'chemical', 'business', 'in', 'reaction', 'to', 'how', 'badly', 'the',\n  'market', 'had', 'deteriorated', ',\"', 'dosher', 'said', '.', '\"', 'but', 'i', 'think', 'they',\n  'will', 'eventually', 'kill', 'the', 'margins', 'on', 'the', 'profitable', 'chemicals', 'in',\n  'the', 'niche', 'market', '.\"', 'some', 'top', 'chemical', 'executives', 'share', 'the',\n  'concern', '.', '\"', 'the', 'challenge', 'for', 'our', 'industry', 'is', 'to', 'keep', 'from',\n  'getting', 'carried', 'away', 'and', 'repeating', 'past', 'mistakes', ',\"', 'gaf', \"'\", 's',\n  'heyman', 'cautioned', '.', '\"', 'the', 'shift', 'from', 'commodity', 'chemicals', 'may', 'be',\n  'ill', '-', 'advised', '.', 'specialty', 'businesses', 'do', 'not', 'stay', 'special', 'long',\n  '.\"', 'houston', '-', 'based', 'cain', 'chemical', ',', 'created', 'this', 'month', 'by', 'the',\n  'sterling', 'investment', 'banking', 'group', ',', 'believes', 'it', 'can', 'generate', '700',\n  'mln', 'dlrs', 'in', 'annual', 'sales', 'by', 'bucking', 'the', 'industry', 'trend', '.',\n  'chairman', 'gordon', 'cain', ',', 'who', 'previously', 'led', 'a', 'leveraged', 'buyout', 'of',\n  'dupont', \"'\", 's', 'conoco', 'inc', \"'\", 's', 'chemical', 'business', ',', 'has', 'spent', '1',\n  '.', '1', 'billion', 'dlrs', 'since', 'january', 'to', 'buy', 'seven', 'petrochemical', 'plants',\n  'along', 'the', 'texas', 'gulf', 'coast', '.', 'the', 'plants', 'produce', 'only', 'basic',\n  'commodity', 'petrochemicals', 'that', 'are', 'the', 'building', 'blocks', 'of', 'specialty',\n  'products', '.', '\"', 'this', 'kind', 'of', 'commodity', 'chemical', 'business', 'will', 'never',\n  'be', 'a', 'glamorous', ',', 'high', '-', 'margin', 'business', ',\"', 'cain', 'said', ',',\n  'adding', 'that', 'demand', 'is', 'expected', 'to', 'grow', 'by', 'about', 'three', 'pct',\n  'annually', '.', 'garo', 'armen', ',', 'an', 'analyst', 'with', 'dean', 'witter', 'reynolds', ',',\n  'said', 'chemical', 'makers', 'have', 'also', 'benefitted', 'by', 'increasing', 'demand', 'for',\n  'plastics', 'as', 'prices', 'become', 'more', 'competitive', 'with', 'aluminum', ',', 'wood',\n  'and', 'steel', 'products', '.', 'armen', 'estimated', 'the', 'upturn', 'in', 'the', 'chemical',\n  'business', 'could', 'last', 'as', 'long', 'as', 'four', 'or', 'five', 'years', ',', 'provided',\n  'the', 'u', '.', 's', '.', 'economy', 'continues', 'its', 'modest', 'rate', 'of', 'growth', '.',\n  '<END>'],\n ['<START>', 'turkey', 'calls', 'for', 'dialogue', 'to', 'solve', 'dispute', 'turkey', 'said',\n  'today', 'its', 'disputes', 'with', 'greece', ',', 'including', 'rights', 'on', 'the',\n  'continental', 'shelf', 'in', 'the', 'aegean', 'sea', ',', 'should', 'be', 'solved', 'through',\n  'negotiations', '.', 'a', 'foreign', 'ministry', 'statement', 'said', 'the', 'latest', 'crisis',\n  'between', 'the', 'two', 'nato', 'members', 'stemmed', 'from', 'the', 'continental', 'shelf',\n  'dispute', 'and', 'an', 'agreement', 'on', 'this', 'issue', 'would', 'effect', 'the', 'security',\n  ',', 'economy', 'and', 'other', 'rights', 'of', 'both', 'countries', '.', '\"', 'as', 'the',\n  'issue', 'is', 'basicly', 'political', ',', 'a', 'solution', 'can', 'only', 'be', 'found', 'by',\n  'bilateral', 'negotiations', ',\"', 'the', 'statement', 'said', '.', 'greece', 'has', 'repeatedly',\n  'said', 'the', 'issue', 'was', 'legal', 'and', 'could', 'be', 'solved', 'at', 'the',\n  'international', 'court', 'of', 'justice', '.', 'the', 'two', 'countries', 'approached', 'armed',\n  'confrontation', 'last', 'month', 'after', 'greece', 'announced', 'it', 'planned', 'oil',\n  'exploration', 'work', 'in', 'the', 'aegean', 'and', 'turkey', 'said', 'it', 'would', 'also',\n  'search', 'for', 'oil', '.', 'a', 'face', '-', 'off', 'was', 'averted', 'when', 'turkey',\n  'confined', 'its', 'research', 'to', 'territorrial', 'waters', '.', '\"', 'the', 'latest',\n  'crises', 'created', 'an', 'historic', 'opportunity', 'to', 'solve', 'the', 'disputes', 'between',\n  'the', 'two', 'countries', ',\"', 'the', 'foreign', 'ministry', 'statement', 'said', '.', 'turkey',\n  \"'\", 's', 'ambassador', 'in', 'athens', ',', 'nazmi', 'akiman', ',', 'was', 'due', 'to', 'meet',\n  'prime', 'minister', 'andreas', 'papandreou', 'today', 'for', 'the', 'greek', 'reply', 'to', 'a',\n  'message', 'sent', 'last', 'week', 'by', 'turkish', 'prime', 'minister', 'turgut', 'ozal', '.',\n  'the', 'contents', 'of', 'the', 'message', 'were', 'not', 'disclosed', '.', '<END>']]\n"
     ]
    }
   ],
   "source": [
    "# take a look at our corpus\n",
    "reuters_corpus = read_corpus()\n",
    "pprint.pprint(reuters_corpus[:3], compact=True, width=100)"
   ]
  },
  {
   "cell_type": "markdown",
   "metadata": {
    "application/vnd.databricks.v1+cell": {
     "cellMetadata": {},
     "inputWidgets": {},
     "nuid": "c6c99b31-40f7-40a3-8f90-7a4e604d4469",
     "showTitle": false,
     "title": ""
    }
   },
   "source": [
    "# Make A Dict Storing Distinct Words"
   ]
  },
  {
   "cell_type": "code",
   "execution_count": 0,
   "metadata": {
    "application/vnd.databricks.v1+cell": {
     "cellMetadata": {
      "byteLimit": 2048000,
      "rowLimit": 10000
     },
     "inputWidgets": {},
     "nuid": "9b122325-b174-4438-b3e7-4544ff6ac980",
     "showTitle": false,
     "title": ""
    }
   },
   "outputs": [],
   "source": [
    "# now we need to know distinct words(word types or variable types) that occur in the corpus\n",
    "def distinct_words(corpus):\n",
    "    \"\"\" Determine a list of distinct words for the corpus.\n",
    "        Params:\n",
    "            corpus (list of list of strings): corpus of documents\n",
    "        Return:\n",
    "            corpus_words (list of strings): sorted list of distinct words across the corpus\n",
    "            num_corpus_words (integer): number of distinct words across the corpus\n",
    "    \"\"\"\n",
    "    corpus_words = []\n",
    "    num_corpus_words = -1\n",
    "    \n",
    "    corpus_words = sorted({word for sentence in corpus for word in sentence})\n",
    "    num_corpus_words = len(corpus_words)\n",
    "\n",
    "    return corpus_words, num_corpus_words"
   ]
  },
  {
   "cell_type": "code",
   "execution_count": 0,
   "metadata": {
    "application/vnd.databricks.v1+cell": {
     "cellMetadata": {
      "byteLimit": 2048000,
      "rowLimit": 10000
     },
     "inputWidgets": {},
     "nuid": "6e71f61c-9110-49f8-8a5d-e3bb3a96f5da",
     "showTitle": false,
     "title": ""
    }
   },
   "outputs": [
    {
     "output_type": "stream",
     "name": "stdout",
     "output_type": "stream",
     "text": [
      "--------------------------------------------------------------------------------\nPassed All Tests!\n--------------------------------------------------------------------------------\n"
     ]
    }
   ],
   "source": [
    "# do a sanity check for distinct_words() method\n",
    "# Define toy corpus\n",
    "test_corpus = [\"{} All that glitters isn't gold {}\".format(START_TOKEN, END_TOKEN).split(\" \"), \"{} All's well that ends well {}\".format(START_TOKEN, END_TOKEN).split(\" \")]\n",
    "test_corpus_words, num_corpus_words = distinct_words(test_corpus)\n",
    "\n",
    "# Correct answers\n",
    "ans_test_corpus_words = sorted([START_TOKEN, \"All\", \"ends\", \"that\", \"gold\", \"All's\", \"glitters\", \"isn't\", \"well\", END_TOKEN])\n",
    "ans_num_corpus_words = len(ans_test_corpus_words)\n",
    "\n",
    "# Test correct number of words\n",
    "assert(num_corpus_words == ans_num_corpus_words), \"Incorrect number of distinct words. Correct: {}. Yours: {}\".format(ans_num_corpus_words, num_corpus_words)\n",
    "\n",
    "# Test correct words\n",
    "assert (test_corpus_words == ans_test_corpus_words), \"Incorrect corpus_words.\\nCorrect: {}\\nYours:   {}\".format(str(ans_test_corpus_words), str(test_corpus_words))\n",
    "\n",
    "# Print Success\n",
    "print (\"-\" * 80)\n",
    "print(\"Passed All Tests!\")\n",
    "print (\"-\" * 80)"
   ]
  },
  {
   "cell_type": "markdown",
   "metadata": {
    "application/vnd.databricks.v1+cell": {
     "cellMetadata": {},
     "inputWidgets": {},
     "nuid": "34c2600c-ebe4-45a0-addf-6c90e8b66dfc",
     "showTitle": false,
     "title": ""
    }
   },
   "source": [
    "# Function to Compute co-occurrence_matrix"
   ]
  },
  {
   "cell_type": "code",
   "execution_count": 0,
   "metadata": {
    "application/vnd.databricks.v1+cell": {
     "cellMetadata": {
      "byteLimit": 2048000,
      "rowLimit": 10000
     },
     "inputWidgets": {},
     "nuid": "b587d5f2-8064-4f9d-b745-8e18b04483ef",
     "showTitle": false,
     "title": ""
    }
   },
   "outputs": [],
   "source": [
    "def compute_co_occurrence_matrix(corpus, window_size=4):\n",
    "    \"\"\" Compute co-occurrence matrix for the given corpus and window_size (default of 4).\n",
    "    \n",
    "        Note: Each word in a document should be at the center of a window. Words near edges will have a smaller\n",
    "              number of co-occurring words.\n",
    "              \n",
    "              For example, if we take the document \"<START> All that glitters is not gold <END>\" with window size of 4,\n",
    "              \"All\" will co-occur with \"<START>\", \"that\", \"glitters\", \"is\", and \"not\".\n",
    "    \n",
    "        Params:\n",
    "            corpus (list of list of strings): corpus of documents\n",
    "            window_size (int): size of context window\n",
    "        Return:\n",
    "            M (a symmetric numpy matrix of shape (number of unique words in the corpus , number of unique words in the corpus)): \n",
    "                Co-occurence matrix of word counts. \n",
    "                The ordering of the words in the rows/columns should be the same as the ordering of the words given by the distinct_words function.\n",
    "            word2ind (dict): dictionary that maps word to index (i.e. row/column number) for matrix M.\n",
    "    \"\"\"\n",
    "    words, num_words = distinct_words(corpus)\n",
    "    M = None\n",
    "    word2ind = {}\n",
    "\n",
    "    M = np.zeros([num_words,num_words])\n",
    "    word2ind = {word:i for i,word in enumerate(words)}\n",
    "\n",
    "    for body in corpus:\n",
    "      for word_index, word in enumerate(body):\n",
    "        for current_word_index in range(word_index-window_size, word_index+window_size+1):\n",
    "          if current_word_index < 0 or current_word_index >= len(body) or current_word_index == word_index:\n",
    "            continue\n",
    "          index_context = word2ind[body[current_word_index]]\n",
    "          index_center = word2ind[body[word_index]]\n",
    "          M[index_center,index_context] +=1\n",
    "\n",
    "    return M, word2ind"
   ]
  },
  {
   "cell_type": "code",
   "execution_count": 0,
   "metadata": {
    "application/vnd.databricks.v1+cell": {
     "cellMetadata": {
      "byteLimit": 2048000,
      "rowLimit": 10000
     },
     "inputWidgets": {},
     "nuid": "8bb46350-fc94-448f-bfca-dbde4aac4f6e",
     "showTitle": false,
     "title": ""
    }
   },
   "outputs": [
    {
     "output_type": "stream",
     "name": "stdout",
     "output_type": "stream",
     "text": [
      "--------------------------------------------------------------------------------\nPassed All Tests!\n--------------------------------------------------------------------------------\n"
     ]
    }
   ],
   "source": [
    "# ---------------------\n",
    "# Run this sanity check\n",
    "# Note that this is not an exhaustive check for correctness.\n",
    "# ---------------------\n",
    "\n",
    "# Define toy corpus and get student's co-occurrence matrix\n",
    "test_corpus = [\"{} All that glitters isn't gold {}\".format(START_TOKEN, END_TOKEN).split(\" \"), \"{} All's well that ends well {}\".format(START_TOKEN, END_TOKEN).split(\" \")]\n",
    "M_test, word2ind_test = compute_co_occurrence_matrix(test_corpus, window_size=1)\n",
    "\n",
    "# Correct M and word2ind\n",
    "M_test_ans = np.array( \n",
    "    [[0., 0., 0., 0., 0., 0., 1., 0., 0., 1.,],\n",
    "     [0., 0., 1., 1., 0., 0., 0., 0., 0., 0.,],\n",
    "     [0., 1., 0., 0., 0., 0., 0., 0., 1., 0.,],\n",
    "     [0., 1., 0., 0., 0., 0., 0., 0., 0., 1.,],\n",
    "     [0., 0., 0., 0., 0., 0., 0., 0., 1., 1.,],\n",
    "     [0., 0., 0., 0., 0., 0., 0., 1., 1., 0.,],\n",
    "     [1., 0., 0., 0., 0., 0., 0., 1., 0., 0.,],\n",
    "     [0., 0., 0., 0., 0., 1., 1., 0., 0., 0.,],\n",
    "     [0., 0., 1., 0., 1., 1., 0., 0., 0., 1.,],\n",
    "     [1., 0., 0., 1., 1., 0., 0., 0., 1., 0.,]]\n",
    ")\n",
    "ans_test_corpus_words = sorted([START_TOKEN, \"All\", \"ends\", \"that\", \"gold\", \"All's\", \"glitters\", \"isn't\", \"well\", END_TOKEN])\n",
    "word2ind_ans = dict(zip(ans_test_corpus_words, range(len(ans_test_corpus_words))))\n",
    "\n",
    "# Test correct word2ind\n",
    "assert (word2ind_ans == word2ind_test), \"Your word2ind is incorrect:\\nCorrect: {}\\nYours: {}\".format(word2ind_ans, word2ind_test)\n",
    "\n",
    "# Test correct M shape\n",
    "assert (M_test.shape == M_test_ans.shape), \"M matrix has incorrect shape.\\nCorrect: {}\\nYours: {}\".format(M_test.shape, M_test_ans.shape)\n",
    "\n",
    "# Test correct M values\n",
    "for w1 in word2ind_ans.keys():\n",
    "    idx1 = word2ind_ans[w1]\n",
    "    for w2 in word2ind_ans.keys():\n",
    "        idx2 = word2ind_ans[w2]\n",
    "        student = M_test[idx1, idx2]\n",
    "        correct = M_test_ans[idx1, idx2]\n",
    "        if student != correct:\n",
    "            print(\"Correct M:\")\n",
    "            print(M_test_ans)\n",
    "            print(\"Your M: \")\n",
    "            print(M_test)\n",
    "            raise AssertionError(\"Incorrect count at index ({}, {})=({}, {}) in matrix M. Yours has {} but should have {}.\".format(idx1, idx2, w1, w2, student, correct))\n",
    "\n",
    "# Print Success\n",
    "print (\"-\" * 80)\n",
    "print(\"Passed All Tests!\")\n",
    "print (\"-\" * 80)"
   ]
  },
  {
   "cell_type": "markdown",
   "metadata": {
    "application/vnd.databricks.v1+cell": {
     "cellMetadata": {},
     "inputWidgets": {},
     "nuid": "0226c2f5-3056-4e92-b646-a284a1cf3e24",
     "showTitle": false,
     "title": ""
    }
   },
   "source": [
    "# Dimensionality Reduction Thru SVD"
   ]
  },
  {
   "cell_type": "code",
   "execution_count": 0,
   "metadata": {
    "application/vnd.databricks.v1+cell": {
     "cellMetadata": {
      "byteLimit": 2048000,
      "rowLimit": 10000
     },
     "inputWidgets": {},
     "nuid": "367a1088-cb28-4239-9f6b-e7a3d1762309",
     "showTitle": false,
     "title": ""
    }
   },
   "outputs": [],
   "source": [
    "# use svd to take top k components and produce a new matrix of k dimensional embeddings\n",
    "# only sklearn provides an efficient randomized algorithm for calculating large-scale truncated SVD\n",
    "def reduce_to_k_dim(M, k=2):\n",
    "    \"\"\" Reduce a co-occurence count matrix of dimensionality (num_corpus_words, num_corpus_words)\n",
    "        to a matrix of dimensionality (num_corpus_words, k) using the following SVD function from Scikit-Learn:\n",
    "            - http://scikit-learn.org/stable/modules/generated/sklearn.decomposition.TruncatedSVD.html\n",
    "    \n",
    "        Params:\n",
    "            M (numpy matrix of shape (number of unique words in the corpus , number of unique words in the corpus)): co-occurence matrix of word counts\n",
    "            k (int): embedding size of each word after dimension reduction\n",
    "        Return:\n",
    "            M_reduced (numpy matrix of shape (number of corpus words, k)): matrix of k-dimensioal word embeddings.\n",
    "                    In terms of the SVD from math class, this actually returns U * S\n",
    "    \"\"\"    \n",
    "    n_iters = 10     # Use this parameter in your call to `TruncatedSVD`\n",
    "    M_reduced = None\n",
    "    print(\"Running Truncated SVD over %i words...\" % (M.shape[0]))\n",
    "    \n",
    "    svd = TruncatedSVD(n_components=k, n_iter=n_iters, random_state=1)\n",
    "    M_reduced = svd.fit_transform(M)\n",
    "\n",
    "    print(\"Done.\")\n",
    "    return M_reduced"
   ]
  },
  {
   "cell_type": "code",
   "execution_count": 0,
   "metadata": {
    "application/vnd.databricks.v1+cell": {
     "cellMetadata": {
      "byteLimit": 2048000,
      "rowLimit": 10000
     },
     "inputWidgets": {},
     "nuid": "53121906-4bb2-499d-9d0d-de3bea532c2d",
     "showTitle": false,
     "title": ""
    }
   },
   "outputs": [
    {
     "output_type": "stream",
     "name": "stdout",
     "output_type": "stream",
     "text": [
      "--------------------------------------------------------------------------------\nPassed All Tests!\n--------------------------------------------------------------------------------\n"
     ]
    }
   ],
   "source": [
    "# ---------------------\n",
    "# Run this sanity check\n",
    "# Note that this is not an exhaustive check for correctness.\n",
    "# ---------------------\n",
    "\n",
    "# Define toy corpus and get student's co-occurrence matrix\n",
    "test_corpus = [\"{} All that glitters isn't gold {}\".format(START_TOKEN, END_TOKEN).split(\" \"), \"{} All's well that ends well {}\".format(START_TOKEN, END_TOKEN).split(\" \")]\n",
    "M_test, word2ind_test = compute_co_occurrence_matrix(test_corpus, window_size=1)\n",
    "\n",
    "# Correct M and word2ind\n",
    "M_test_ans = np.array( \n",
    "    [[0., 0., 0., 0., 0., 0., 1., 0., 0., 1.,],\n",
    "     [0., 0., 1., 1., 0., 0., 0., 0., 0., 0.,],\n",
    "     [0., 1., 0., 0., 0., 0., 0., 0., 1., 0.,],\n",
    "     [0., 1., 0., 0., 0., 0., 0., 0., 0., 1.,],\n",
    "     [0., 0., 0., 0., 0., 0., 0., 0., 1., 1.,],\n",
    "     [0., 0., 0., 0., 0., 0., 0., 1., 1., 0.,],\n",
    "     [1., 0., 0., 0., 0., 0., 0., 1., 0., 0.,],\n",
    "     [0., 0., 0., 0., 0., 1., 1., 0., 0., 0.,],\n",
    "     [0., 0., 1., 0., 1., 1., 0., 0., 0., 1.,],\n",
    "     [1., 0., 0., 1., 1., 0., 0., 0., 1., 0.,]]\n",
    ")\n",
    "ans_test_corpus_words = sorted([START_TOKEN, \"All\", \"ends\", \"that\", \"gold\", \"All's\", \"glitters\", \"isn't\", \"well\", END_TOKEN])\n",
    "word2ind_ans = dict(zip(ans_test_corpus_words, range(len(ans_test_corpus_words))))\n",
    "\n",
    "# Test correct word2ind\n",
    "assert (word2ind_ans == word2ind_test), \"Your word2ind is incorrect:\\nCorrect: {}\\nYours: {}\".format(word2ind_ans, word2ind_test)\n",
    "\n",
    "# Test correct M shape\n",
    "assert (M_test.shape == M_test_ans.shape), \"M matrix has incorrect shape.\\nCorrect: {}\\nYours: {}\".format(M_test.shape, M_test_ans.shape)\n",
    "\n",
    "# Test correct M values\n",
    "for w1 in word2ind_ans.keys():\n",
    "    idx1 = word2ind_ans[w1]\n",
    "    for w2 in word2ind_ans.keys():\n",
    "        idx2 = word2ind_ans[w2]\n",
    "        student = M_test[idx1, idx2]\n",
    "        correct = M_test_ans[idx1, idx2]\n",
    "        if student != correct:\n",
    "            print(\"Correct M:\")\n",
    "            print(M_test_ans)\n",
    "            print(\"Your M: \")\n",
    "            print(M_test)\n",
    "            raise AssertionError(\"Incorrect count at index ({}, {})=({}, {}) in matrix M. Yours has {} but should have {}.\".format(idx1, idx2, w1, w2, student, correct))\n",
    "\n",
    "# Print Success\n",
    "print (\"-\" * 80)\n",
    "print(\"Passed All Tests!\")\n",
    "print (\"-\" * 80)"
   ]
  },
  {
   "cell_type": "markdown",
   "metadata": {
    "application/vnd.databricks.v1+cell": {
     "cellMetadata": {},
     "inputWidgets": {},
     "nuid": "f73ba05f-3df6-4259-bfd2-20001e1ae414",
     "showTitle": false,
     "title": ""
    }
   },
   "source": [
    "# Implement plot_embeddings"
   ]
  },
  {
   "cell_type": "code",
   "execution_count": 0,
   "metadata": {
    "application/vnd.databricks.v1+cell": {
     "cellMetadata": {
      "byteLimit": 2048000,
      "rowLimit": 10000
     },
     "inputWidgets": {},
     "nuid": "055916e7-fd95-4bc3-a944-5ebd5cde07cc",
     "showTitle": false,
     "title": ""
    }
   },
   "outputs": [],
   "source": [
    "def plot_embeddings(M_reduced, word2ind, words):\n",
    "    \"\"\" Plot in a scatterplot the embeddings of the words specified in the list \"words\".\n",
    "        NOTE: do not plot all the words listed in M_reduced / word2ind.\n",
    "        Include a label next to each point.\n",
    "        \n",
    "        Params:\n",
    "            M_reduced (numpy matrix of shape (number of unique words in the corpus , 2)): matrix of 2-dimensioal word embeddings\n",
    "            word2ind (dict): dictionary that maps word to indices for matrix M\n",
    "            words (list of strings): words whose embeddings we want to visualize\n",
    "    \"\"\"\n",
    "    # get indexes from list of words\n",
    "    index_words = [word2ind[word] for word in words]\n",
    "    # get vecs\n",
    "    word_vecs = [M_reduced[index_word] for index_word in index_words]\n",
    "    \n",
    "    xs = [word_vec[0] for word_vec in word_vecs]\n",
    "    ys = [word_vec[1] for word_vec in word_vecs]\n",
    "\n",
    "    for i, word in enumerate(words):\n",
    "      x = xs[i]\n",
    "      y = ys[i]\n",
    "      plt.scatter(x,y,marker='x',color='red')\n",
    "      plt.text(x,y,s=word,fontsize=9)\n",
    "    plt.show()"
   ]
  },
  {
   "cell_type": "code",
   "execution_count": 0,
   "metadata": {
    "application/vnd.databricks.v1+cell": {
     "cellMetadata": {
      "byteLimit": 2048000,
      "rowLimit": 10000
     },
     "inputWidgets": {},
     "nuid": "4f6e23e1-79c5-420b-8897-8472d4b71a06",
     "showTitle": false,
     "title": ""
    }
   },
   "outputs": [
    {
     "output_type": "stream",
     "name": "stdout",
     "output_type": "stream",
     "text": [
      "--------------------------------------------------------------------------------\nOutputted Plot:\n"
     ]
    },
    {
     "output_type": "display_data",
     "data": {
      "image/png": "[encoded data removed]"
     },
     "metadata": {
      "application/vnd.databricks.v1+output": {
       "addedWidgets": {},
       "arguments": {},
       "data": "data:image/png;base64,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\n",
       "datasetInfos": [],
       "metadata": {},
       "removedWidgets": [],
       "type": "image"
      }
     },
     "output_type": "display_data"
    },
    {
     "output_type": "stream",
     "name": "stdout",
     "output_type": "stream",
     "text": [
      "--------------------------------------------------------------------------------\n"
     ]
    }
   ],
   "source": [
    "# ---------------------\n",
    "# Run this sanity check\n",
    "# Note that this is not an exhaustive check for correctness.\n",
    "# The plot produced should look like the \"test solution plot\" depicted below. \n",
    "# ---------------------\n",
    "\n",
    "print (\"-\" * 80)\n",
    "print (\"Outputted Plot:\")\n",
    "\n",
    "M_reduced_plot_test = np.array([[1, 1], [-1, -1], [1, -1], [-1, 1], [0, 0]])\n",
    "word2ind_plot_test = {'test1': 0, 'test2': 1, 'test3': 2, 'test4': 3, 'test5': 4}\n",
    "words = ['test1', 'test2', 'test3', 'test4', 'test5']\n",
    "plot_embeddings(M_reduced_plot_test, word2ind_plot_test, words)\n",
    "\n",
    "print (\"-\" * 80)"
   ]
  },
  {
   "cell_type": "markdown",
   "metadata": {
    "application/vnd.databricks.v1+cell": {
     "cellMetadata": {},
     "inputWidgets": {},
     "nuid": "b04845ff-8e15-42d0-9739-57ab6d9b1388",
     "showTitle": false,
     "title": ""
    }
   },
   "source": [
    "# Putting All Together"
   ]
  },
  {
   "cell_type": "code",
   "execution_count": 0,
   "metadata": {
    "application/vnd.databricks.v1+cell": {
     "cellMetadata": {
      "byteLimit": 2048000,
      "rowLimit": 10000
     },
     "inputWidgets": {},
     "nuid": "ef4eb7c2-6d20-45f8-95ac-81b4cb7c275d",
     "showTitle": false,
     "title": ""
    }
   },
   "outputs": [
    {
     "output_type": "stream",
     "name": "stdout",
     "output_type": "stream",
     "text": [
      "Running Truncated SVD over 8185 words...\nDone.\n"
     ]
    },
    {
     "output_type": "display_data",
     "data": {
      "image/png": "[encoded data removed]"
     },
     "metadata": {
      "application/vnd.databricks.v1+output": {
       "addedWidgets": {},
       "arguments": {},
       "data": "data:image/png;base64,iVBORw0KGgoAAAANSUhEUgAAAmgAAAEvCAYAAADxWj0AAAAAOXRFWHRTb2Z0d2FyZQBNYXRwbG90bGliIHZlcnNpb24zLjUuMSwgaHR0cHM6Ly9tYXRwbG90bGliLm9yZy/YYfK9AAAACXBIWXMAAAsTAAALEwEAmpwYAAAsUUlEQVR4nO3de5xWZb3//9eHs5YwKiQmIhEeITfSgEpoiHjKAnULamZoArmzZFOZ8NNs8lD53dk0VNu9zQIT/ZW2K1D7aogO5SF1eISCioI2yiACCnjYKgJzff+478FhnJHDPYc1M6/n43E/Zh2uda9rzQJ9c13XulaklJAkSVJ2dGjpCkiSJGlbBjRJkqSMMaBJkiRljAFNkiQpYwxokiRJGWNAkyRJyphOLV2BXdGzZ8/Ur1+/lq6GJEnSdi1cuPDVlFKvnTmmVQa0fv36UVFR0dLVkCRJ2q6IeHFnj7GLU5IkKWMMaJIkSRljQJMkScoYA5okSVLGGNAkSVLmzZo1izfeeGOHy1dWVjJ69OgmrFHTMqBJkqTMayigbdmypQVq0/QMaJIkqfmktHWxsrKSIUOGcNZZZ1FcXExZWRmvv/4648eP5/jjj2fUqFEsX76c+++/n0WLFjFu3Di+8Y1vUFlZydChQznvvPOYNGkSf//73xk+fDgjRozg3/7t30i1zgGwYsUKTj31VEaNGsWpp57K2rVrARgwYMDWMqNHj6ayspLKyko+/elP86UvfYlBgwbxy1/+kgkTJjBkyBB++MMfNs/viFY6D5okSWqFSkpgwwYoLYUISIkVS5ey4KST6DZ7NkOHDuWJJ57gjDPO4Oyzz+aJJ55g2rRp/P73v2fw4MHMnj2bPn36bA1S8+fPp3v37hQXF3P77bfTv39/vvKVr3DnnXdy+OGHbz3tpZdeyne/+12OOuoo5syZw3XXXcePf/zjBqv5yiuv8NBDD7FhwwYOOOAAXnzxRXr27MnBBx/M9OnTm/73hAFNkiQ1h5Ry4aysLLdeWgpXX80h77zDHu+8A506MWjQIFatWkVZWRn/9V//BUCnTvVHlUGDBtG9e3cAXn/9dfr37w/A8OHDWbp06TYBbfHixUybNg2AzZs3b9Ny9n713m91O+SQQ+jWrRu9e/emT58+9O7dG4DddtuNLVu20LFjx8J+FzvAgCZJkppeRC6UQS6k5YPa0t12462rr6bbli0sWbKEIUOGMHnyZE4//XQA3nvvPQC6dOnC5s2bt35d7ZDUo0cPXnjhBfr378/DDz/M2LFjtzn1wIEDmT59OkccccQ231ldXc3GjRvZsmULzzzzTK2qRr3LwAe6T5uKY9AkSVLzqB3S8voNHMikyZM56qijmDBhAqWlpdx+++2MGjWK4447jhkzZgBwxhlncOGFF/Ld7373A187Y8YMzj33XEaMGEHnzp0ZM2bMNvuvv/56vve97zFq1ChGjRrF7bffDsDXv/51jjrqKC6++GL69OnTRBe9a6K5kmBjKi4uTr6LU5KkViYlmDp1a+tZJTBx//2578UXc+GtjYqIhSml4p05xhY0SZLU9GqHsylToLoaLrgAVqzIbW+FDUZNyTFokiSp6UVAUVEunOWf4uz3q19xX/fuue1tuAVtV9jFKUmSmk9K24axuuttkF2ckiQp2+qGsTYeznaVAU2SJCljDGiSJEkZY0CTJEnKGAOaJElqtV555RW+9a1v7VDZiRMnUl5evlPf/6c//YmXXnppF2pWGAOaJElqtXr37s3111/fZN/fUEDbsmVLk50TDGiSJKm1qTVFWGVlJaNHj6akpIRzzz2XMWPGMHjwYJYuXQrAHXfcweDBgzn99NN5/vnntzmmRs3L08vLyxk2bBjHHXccF1xwAU8//TT33HMP3/jGNxg3bhwABxxwAF/72tcYO3YsZ511Fv/4xz8AePHFFznhhBMa7RKdqFaSJLUeJSWwYcPWyW5JCZ57DjZvptfgwdx6663cdttt3HTTTVx33XVcfvnlLFy4kG7duvEv//IvH/rVf/jDH7jmmms48cQTqa6upkOHDpx88slMnDiRESNGALBq1SqmTZtG3759mT9/Pr/61a/4+c9/zsyZM7nwwgsb7TJtQZMkSa1DSrlwVlb2/uuhrr4697qod9/l00OGANC3b19ee+01Xn31VfbZZx/22GMPOnfuzJD8/qgz91rNpP2XXnopc+fO5dxzz2XmzJn1VmG//fajb9++AIwaNYpHH32Ut99+mzvvvJPTTz+90S61UVrQIuJkoAzoCNyUUvpRnf1dgd8AnwZeA85KKVVGRD/gGeDZfNG/p5Quaow6SZKkNiYi13IGuZCWf+k6++8PJ51EdHi/3SmlRM+ePVm9ejVvvfUW3bp1Y9GiRQDsueeevPzyy6SUWL16NStXrgRg77335uc//zkpJQ466CDGjRtHly5d2Lx589bv7dixY63qBGeeeSZf+9rXOPbYY+natWujXWrBAS0iOgK/AE4AqoDHI2JuSunpWsUuBNanlAZExNnAdcBZ+X3Pp5QGF1oPSZLUDtSEtJpwBnDQQfW+kaBjx45cddVVjBgxgk984hPst99+AHTv3p2TTz6Zo48+mmHDhrHPPvsA8JOf/IS//OUvVFdXc8IJJ9C9e3c+//nPc+WVV3LooYfy3//93x84xwUXXECfPn22jkVrtMss9F2cEXE0UJJSOim/Ph0gpfTDWmXuzZd5JCI6Aa8AvYADgLtSSoN25py+i1OSpHYqpVz3Zu2AVusF7M1t9erVnHPOOdx///0Nlmmpd3HuB6yotV6V31ZvmZTSZuB1YO/8vk9ExD8iYkFEHNMI9ZEkSW1R7XA2ZQpUV+d+1h6T1ozmzZvHmDFjuOKKKxr9u1v6Kc5VQN+U0msR8WngTxExMKX0Rt2CETEZmAxsHZwnSZLakQgoKtq2xaxmTFpRUbO3oJ1wwgmNOrVGbY0R0FYC+9da75PfVl+ZqnwXZw/gtZTrX90IkFJaGBHPAwcBH+i/TCndCNwIuS7ORqi3JElqbUpKci1lNWGsJqS1QPdmU2qMLs7HgQMj4hMR0QU4G5hbp8xcYEJ++Uzg/pRSiohe+YcMiIj+wIHAC41QJ0mS1FbVDWNtLJxBI7SgpZQ2R8TXgXvJTbPx65TSUxFxFVCRUpoL/Aq4JSKWA+vIhTiAY4GrImITUA1clFJaV2idJEmSWrOCn+JsCT7FKUmSWouWeopTkiRJjciAJkmSlDEGNEmSpIwxoEmSJGWMAU2SJCljDGiSJEkZY0CTJEnKGAOaJElSxhjQJEmSMsaAJkmSlDEGNEmSpIwxoEmSJGWMAU2SJCljDGiSJEkZY0CTJEnKGAOaJElSxhjQJEmSMsaAJkmSlDEGNEmSpIwxoEmSJGWMAU2SJCljDGiSJEkZY0CTJEnKGAOaJElSxjRKQIuIkyPi2YhYHhHT6tnfNSJ+l9//aET0q7Vven77sxFxUmPUR5IkqTUrOKBFREfgF8ApwGHAORFxWJ1iFwLrU0oDgFLguvyxhwFnAwOBk4H/zH+fJElSu9UYLWjDgOUppRdSSu8BvwXG1ikzFrg5v/x74PiIiPz236aUNqaU/gksz3+fJElSu9UYAW0/YEWt9ar8tnrLpJQ2A68De+/gsZIkSe1Kq3lIICImR0RFRFSsXbu2pasjSZK0jS1btjTad3VqhO9YCexfa71Pflt9ZaoiohPQA3htB48FIKV0I3AjQHFxcWqEekuSJDF9+nQefvhh3nvvPS6//HIqKipYtmwZb775Ji+99BK//e1vOeSQQ1iwYAFXXnklEcEhhxzCDTfcwIsvvsi4ceM45JBD6Ny5M9/61re44IIL6NWrF3vvvTf9+/cH6BYRc1JKYwEi4lfArJTS3xqqU2O0oD0OHBgRn4iILuQG/c+tU2YuMCG/fCZwf0op5befnX/K8xPAgcBjjVAnSZKk+qX323nuuece1q9bx4IFC5g/fz6XX345KSV69erF3Llz+c53vsNNN91ESol///d/Z+7cuZSXl7Pbbrtx9913A1BZWckvfvELfv3rXzN9+nRmzJjB3XffTdeuXWtO8y6wR0T0joiPAod/WDiDRmhBSyltjoivA/cCHYFfp5SeioirgIqU0lzgV8AtEbEcWEcuxJEvdzvwNLAZuDil1Hjtg5IkSbWVlMCGDVBaChEsfvJJFtxxByPvvRf69WPjxo289tprHHnkkQD07duXefPm8eqrr1JZWcnYsbnnIN966y0OPvhgBg0axKBBg+jevTsAy5cvZ+jQoQAceeSRVFVV1Zx5JnA+sAb43faq2RhdnKSU/gz8uc62K2stvwuMa+DYa4FrG6MekiRJDUopF87KynLrpaUMfOghTly/nrIvfxlKS3lv0yZ+8IMfkJtsouawRM+ePenfvz933XUXH/3oRwHYtGkTK1eupGPH92cI++QnP0lFRQVHHnkkjz/+OPvuu2/NrjuABcDbwPjtVbVRApokSVLmReRaziAX0srK+Bzw8NChjFy0iBg1ij59+vDJT36ynkODn/zkJ4wZM4aUEh06dKC0tHRry1mNH/zgB3zlK1+hZ8+e9OjRgwMOOADINVZFxN+Bj6eUtvu0Y6TU+sbbFxcXp4qKipauhiRJao1Sgg61huFXV+fCWyPYtGkTnTt3BmDSpEmcdNJJjBs3bmFKqTgifgrcnVKat73vaTXTbEiSJBUsJZg6ddttU6du8+BAIRYvXswxxxzD0UcfzVtvvcVpp50GQETcDPTdkXAGdnFKkqT2oiaclZXBlCm57s6addj64EAhhgwZwt/+9sEHNFNKE+op3iADmiRJah8ioKjo/XBWe0xaUVGjdXM2BsegSZKk9iWlbcNY3fVGFhELU0rFO3OMY9AkSVL7UjeMZajlrIYBTZIkKWMMaJIkSRljQJMkScoYA5okSVLGGNAkSZIyxoAmSZKUMQY0SZKkjDGgSZIkZYwBTZIkKWMMaJIkSRljQJMkScoYA5okSVLGGNAkSZIyxoAmSZKUMQY0SZLUZv3oRz9i8eLFAAwYMKCFa7PjOrV0BSRJkprKtGnTWroKu8QWNEmS1CaklPjqV7/KiBEjGD58OI899hjnn38+Dz74YEtXbafZgiZJklqvlCACgDlz5rDpvfd48MEHeeGFFzj77LM57LDDWriCu6agFrSI2Csi5kXEsvzPPRsoNyFfZllETKi1vTwino2IRfnPxwqpjyRJakdKSmDq1FxIA55dupThK1ZASQn9+/dn/fr1LVu/AhTaxTkNmJ9SOhCYn1/fRkTsBXwPOBIYBnyvTpA7N6U0OP9ZU2B9JElSe5ASbNgAZWVbQ9rBDz3Ew/Pnw4YNvPD88xQVFbV0LXdZoQFtLHBzfvlm4LR6ypwEzEsprUsprQfmAScXeF5JktSeRUBpKUyZkgtpHTow5q676DhwICMqKjj3S1/iZz/7WUvXcpdFyjcL7tLBERtSSkX55QDW16zXKvNtoFtK6Zr8+neBd1JKP46IcmBvYAvwP8A1aQcqVFxcnCoqKna53pIkqY1ICTrUam+qrt46Ji0rImJhSql4Z47ZbgtaRNwXEUvq+YytXS4frHY27Z2bUvoUcEz+c96H1GNyRFRERMXatWt38jSSJKnNSSnXvVlbrTFprdl2A1pKaXRKaVA9nznA6ojYFyD/s74xZCuB/Wut98lvI6VU8/NN4DZyY9QaqseNKaXilFJxr169dvT6JElSW1QTzsrKct2c1dXvd3e2gZBW6Bi0uUDNU5kTgDn1lLkXODEi9sw/HHAicG9EdIqIngAR0Rn4PLCkwPpIkqT2IAKKinKhrLR02zFpRUWZ6+bcWYWOQdsbuB3oC7wIjE8prYuIYuCilNLEfLmvAP9f/rBrU0ozI+IjwF+BzkBH4D7gmymlLds7r2PQJEkSsM08aPWuZ8CujEErKKC1FAOaJElqLZrkIQFJkiQ1LwOaJElSxhjQJEmSMsaAJkmSlDEGNEmSpIwxoEmSJGWMAU2SJCljDGiSJEkZY0CTJEnKGAOaJElqcq+88grf+ta3WroarYYBTZIkNbnevXtz/fXXb7Nty5btvn673erU0hWQJEltX2VlJRMnTmTEiBFUVlaybt06zjnnHBYtWsRjjz3G66+/zkUXXcTkyZN56623OOuss9i4cSMHHXQQTz/9NOXl5S19Cc3KgCZJkppGShDxgc1du3Zl7ty5AIwZM4aPfOQjbNy4kU996lNccMEF/PKXv2TEiBFMnz6dW2+9laeffrq5a97i7OKUJEmNr6QEpk7NhTTI/XzuOSgvZ/jw4VuL3XDDDYwYMYITTzyRNWvWsGbNGp577jmGDRsGwJFHHtkClW95BjRJktS4UoING6Cs7P2QdvXVsGIFvPsuHTvk4sf69euZOXMmCxYs4N5776VHjx6klDjwwAOpqKgA4PHHH2/BC2k5dnFKkqTGFQGlpbnlsrLcB2D//eGkk7Z2exYVFXHYYYcxYsQIDj30UPbee28AJk2axPjx45k3bx6DBg1qiStocZFqmh5bkeLi4lSTrCVJUkalBB1qddZVV9c7Jq0hVVVVjBs3jq5du7bqhwQiYmFKqXhnjrGLU5IkNb6Uct2btdUek9bI2tqUHXZxSpKkXTZ9+nQefvhh3nvvPS6//HIOP/xwJk+ezDtLltB55Ur+csklfOX115n4v//LiLIyZi9dyvIjj6Tk+9/nsssu2+4UGzWtZ8899xyTJ08mpUTv3r2ZNWsWu+22GwcccACnnnoqL730EnfddVdL/zoajQFNkiTtuFpTZ9xzzz2sX7eOBQsW8Pbbb3P00Udz0EEHMXXqVE565BGq16+nw09/ChdcAJdcAvvtBy+9tPX4K6+8coen2PjOd77DVVddxbHHHstVV13FL3/5Sy655BJWrVrFtGnT6Nu3b0v9RpqEXZySJGnH1Jk6Y/GTT7LgjjsY2a8fn/vc59i4cSNPP/00o0aNgpKSXDiLICK2PjiQTj9969ftzBQbzz333NbpOYYPH87SpUsB2G+//dpcOAMDmiRJ2hH1TJ0x8KGHOHH9espPO43yBx7gySefZODAgVsH9Ffng9xee+1FVVUVRLBw4UJg56fYOOigg3j44YcBePjhhzn44IMB6NixYzP9ApqXT3FKkqQdUzPwv2baDOCKoUN5cPfdiQj69OnDtddey6RJk3j33Xfp3Lkzf/nLX3j22Wc555xz6Nu3Lz179qRv375873vfY/z48VRVVXHooYeyaNEi5s6dS48ePRg/fjybNm1i0KBBLFq0iPLycpYuXcpXv/pVUkp87GMf45ZbbmG33XZjwIABLF++vAV/Kdu3K09xGtAkSdKOK3DqjPbIaTYkSVLTaeapM9qzggJaROwVEfMiYln+554NlLsnIjZExF11tn8iIh6NiOUR8buI6FJIfSRJUhOp3b05ZUqu5WzKlG1f56RGU2gL2jRgfkrpQGB+fr0+/wGcV8/264DSlNIAYD1wYYH1kSRJTSECiopyoay09P3XOU2ZkttuN2ejKmgMWkQ8C4xMKa2KiH2B8pTSwQ2UHQl8O6X0+fx6AGuB3imlzRFxNFCSUjppe+d1DJokSS2k1jxo9a7rA1piDNo+KaVV+eVXgH124ti9gQ0ppc359SpgvwLrI0mSmlLdMGY4axLbfZNARNwH9K5n1+W1V1JKKSKarAM6IiYDk4E2OSGdJElSje0GtJTS6Ib2RcTqiNi3Vhfnmp0492tAUUR0yrei9QFWfkg9bgRuhFwX506cR5IkqVUptItzLjAhvzwBmLOjB6bc4LcHgDN35XhJkqS2qtCA9iPghIhYBozOrxMRxRFxU02hiPgbcAdwfERURUTNgwCXAd+MiOXkxqT9qsD6SJLUblVWVjJ6dIMdXwWZNWsW8+bNA2DGjBlNcg69zzcJSJLURlRWVjJx4kTuu+++Jj1Pa3i9Upb4JgFJkgTAz3/+cw499FAuuOCCrdsGDBgAwPHHH8+6detYvHgxXbp04c033+Txxx9n0qRJAJx00kmMHDmSYcOG8cgjjwBQUlLC7Nmzue2221i5ciUjR47k2muvbf4Laye2+5CAJEnKsHrmIZs+fTrdunXjhhtuYPbs2R84ZOTIkTzwwANUVVVxyimn8Ne//pUlS5YwatQoAP7whz/wkY98hGeeeYaLL76Y+++/f+uxX/ziF7nyyispLy9v0stq7wxokiS1ViUlsGHD+zP7p8RTjzzC+qef5pHKyq2tX3Udf/zxzJ49m1dffZWSkhJuueUWnnnmGWbOnMk777zDlClTePbZZ+nYsSMrVzY4wYKakF2ckiS1Rinlwlntd2FefTUD336b6Uccwfjx4ykqKqKqqgqARYsWsXlzbm74YcOG8eijj/Luu+9yxBFH8NRTT/Haa6/Ru3dv7rnnHjp27Mjf/vY3/vM//5P6xqp36tSJ6urq5rzadscWNEmSWqOad2FCLqSVleWW99+fM++6iy533skVV1zBHnvswWc/+1k++9nP0qlT7n/7nTp1onfv3hxxxBEA9O7dmwMPPBCAo48+mh/+8IeMHj2az3zmM/We+swzz+TUU0/llFNO4ZJLLmna62ynfIpTkqTWLCXoUKtDrLra1y9ljE9xSpLUnqSU696sraa7U62aAU2SpNaoJpyVlcGUKbmWsylTth2TplbLMWiSJLVGEVBUlAtlNU9x1oxJKyqym7OVcwyaJEmtWd150OqZF00tyzFokiS1N3XDmOGsTTCgSZIkZYwBTZIkKWMMaJIkSRljQJMkScoYA5okSVLGGNAkSZIyxoAmSZKUMQY0SZKkjDGgSZIkZYwBTZIkKWMMaJIkSRljQJMkScoYA5okSVLGGNAkSZIypqCAFhF7RcS8iFiW/7lnA+XuiYgNEXFXne2zIuKfEbEo/xlcSH0kSZLagkJb0KYB81NKBwLz8+v1+Q/gvAb2XZpSGpz/LCqwPpIkSa1eoQFtLHBzfvlm4LT6CqWU5gNvFnguSZKkdqHQgLZPSmlVfvkVYJ9d+I5rI+LJiCiNiK4NFYqIyRFREREVa9eu3aXKSpIktQbbDWgRcV9ELKnnM7Z2uZRSAtJOnn86cAgwFNgLuKyhgimlG1NKxSml4l69eu3kaSRJklqPTtsrkFIa3dC+iFgdEfumlFZFxL7Amp05ea3Wt40RMRP49s4cL0mS1BYV2sU5F5iQX54AzNmZg/OhjogIcuPXlhRYH0mSpFav0ID2I+CEiFgGjM6vExHFEXFTTaGI+BtwB3B8RFRFxEn5XbdGxGJgMdATuKbA+kiSJLV62+3i/DAppdeA4+vZXgFMrLV+TAPHjyrk/JIkSW2RbxKQJEnKGAOaJElSxhjQJEmSMsaAJkmSlDEGNEmSpIwxoEmSJGWMAU2SJCljDGiSJEkZY0CTJO2UGTNm7PKxs2bN4o033mjE2khtkwFNkrRTDGhS0zOgSZJIKfHVr36VESNGMHz4cB577DFGjhxJVVUVANdccw2zZs3itttuY+XKlYwcOZJrr72W8vJyjjvuOE4//XQGDx7MHXfcAcD555/Pgw8+CMDs2bMpKSnh/vvvZ9GiRYwbN45vfOMbLXatUmtQ0Ls4JUmtWEoQAcCcOXPY9N57PPjgg7zwwgucffbZ7L777h845Itf/CJXXnkl5eXlAJSXl7N27VrmzZvH22+/TXFxMf/6r/9a7+lGjRrF4MGDmT17Nn369Gmyy5LaAlvQJKk9KimBqVNzIQ14dulShq9YASUl9O/fn/Xr1xP58Aa5FraGHHHEEXTq1Inu3bvzsY99jLVr1+7wsZLqZ0CTpPYmJdiwAcrKtoa0gx96iIfnz4cNG3jh+ecpKipir7322trFuXDhwq2Hd+rUierq6q3rixYtYvPmzbz55pusXr2aXr16NXhsly5d2Lx5c/Ncp9SK2cUpSe1NBJSW5pbLyqCsjDHA3QMHMqKigi1f+hI/+9nP2LhxIxMnTuSggw6ia9euWw8/88wzOfXUUznllFM4/PDD+fjHP864ceP45z//yTXXXEOHDh2YOHEi55xzDrfddhs9e/akqKgIgDPOOIMLL7yQ4cOHc/XVVzf/tUutRLTGpufi4uJUUVHR0tWQpNYtJehQqyOlunrrmLQdVV5ezuzZs7npppsauXJS2xERC1NKxTtzjF2cktQepZTr3qyt1pg0SS3LgCZJ7U1NOCsrgylTci1nU6ZsMyZtR40cOdLWM6kJOAZNktqbCCgqyoWy0tJtx6QVFe10N6ekxucYNElqr2rNg1bvuqRG4Rg0SdKOqxvGDGdSZhjQJEmSMsaAJkmSlDEGNEmSpIwpKKBFxF4RMS8iluV/7llPmcER8UhEPBURT0bEWbX2fSIiHo2I5RHxu4joUkh9JEmS2oJCW9CmAfNTSgcC8/Prdb0NfDmlNBA4GfhpRBTl910HlKaUBgDrgQsLrI8kSVKrV2hAGwvcnF++GTitboGU0nMppWX55ZeBNUCviAhgFPD7DztekiSpvSk0oO2TUlqVX34F2OfDCkfEMKAL8DywN7AhpbQ5v7sK2K/A+kiSJLV6232TQETcB/SuZ9fltVdSSikiGpz1NiL2BW4BJqSUqmMn59uJiMnAZIC+ffvu1LGSJEmtyXYDWkppdEP7ImJ1ROybUlqVD2BrGijXHbgbuDyl9Pf85teAoojolG9F6wOs/JB63AjcCLk3CWyv3pIkSa1VoV2cc4EJ+eUJwJy6BfJPZv4R+E1KqWa8GSn3jqkHgDM/7HhJkqT2ptCA9iPghIhYBozOrxMRxRFxU77MeOBY4PyIWJT/DM7vuwz4ZkQsJzcm7VcF1keSJKnV82XpkiRJTciXpUtqkyorKxk9usHhsJn9bknaVQY0SW1SdXX1NutbtmxpoZpI0s7b7lOckpQF69at46yzzuL555/nvPPO4/DDD+eqq65i8+bN7LXXXvzud7+jW7duDBgwgPHjx/PII49w6aWXUlZWRvfu3fnkJz/JKaecwpVXXklEcMghh3DDDTdsc47S0lJ++9vfsvvuu3PaaacxZcqUFrpaSe2dAU1SNqUEteZLXLFiBQsWLKBbt24MHTqUOXPm8MADDwBw2WWXcfvtt/PlL3+ZzZs384UvfIEf/OAHlJeX8/LLL3PXXXfRqVMnhgwZQnl5OT169GDq1KncfffdDBo0aOs5br31Vh544AH22GOPD7TASVJzMqBJyp6SEtiwAUpLcyEtJQ7p0oU9rr8eSkoYNGgQr7zyCpMmTWLjxo2sXr2a7t27A9CxY0eOOuqorV9VXFxM586dWbt2LZWVlYwdOxaAt956i4MPPnibgPbTn/6USy65hE2bNnHRRRcxYsSI5rxqSdrKgCYpW1LKhbOystx6aSlcfTVLX36Zt9asodumTSxZsoSSkhK+//3vc/TRR/Od73yHmifSI4Labyrp2LEjAD179qR///7cddddfPSjHwVg06ZNrFz5/vzYQ4YMYcSIEVRVVTF27FgWLlzYPNcsSXUY0CRlS0QulEEupOWDWr+PfYxJ69ez7OijmTBhAr179+bCCy/k4IMPpkePHltb0Br+2uAnP/kJY8aMIaVEhw4dKC0t3ea48847j1dffZV3332Xiy++uMkuUZK2x3nQJGVTStCh1oPm1dXbjEmTpNbCedAktQ0pwdSp226bOjW3XZLaAQOapGypCWdlZTBlSq7lbMqU3LohTVI74Rg0SdkSAUVFuVBW8xRnzZi0oiK7OSW1C45Bk5RNdeZB+8C6JLUSjkGT1HbUDWOGM0ntiAFNkiQpYwxokiRJGWNAkyRJyhgDmiRJUsYY0CRJkjLGgCZJkpQxBjRJkqSMMaBJkiRljAFNkiQpYwxokiRJGWNAkyRJyhgDmiRJUsYUFNAiYq+ImBcRy/I/96ynzOCIeCQinoqIJyPirFr7ZkXEPyNiUf4zuJD6SJIktQWFtqBNA+anlA4E5ufX63ob+HJKaSBwMvDTiCiqtf/SlNLg/GdRgfWRJElq9QoNaGOBm/PLNwOn1S2QUnoupbQsv/wysAboVeB5JUmS2qxCA9o+KaVV+eVXgH0+rHBEDAO6AM/X2nxtvuuzNCK6FlgfSZKkVq/T9gpExH1A73p2XV57JaWUIiJ9yPfsC9wCTEgpVec3TycX7LoANwKXAVc1cPxkYDJA3759t1dtSZKkVmu7AS2lNLqhfRGxOiL2TSmtygewNQ2U6w7cDVyeUvp7re+uaX3bGBEzgW9/SD1uJBfiKC4ubjAISpIktXaFdnHOBSbklycAc+oWiIguwB+B36SUfl9n3775n0Fu/NqSAusjSZLU6hUa0H4EnBARy4DR+XUiojgibsqXGQ8cC5xfz3Qat0bEYmAx0BO4psD6SJIktXqRUuvrLSwuLk4VFRUtXQ1JkqTtioiFKaXinTnGNwlIkiRljAFNkiQpYwxokiRJGWNAkyRJyhgDmiRJUsYY0CRJkjLGgCZJkpQxBjRJkqSMMaBJkiRljAFNkiQpYwxokiRJGWNAkyRJyhgDmiRJUsYY0CRJkjLGgCZJkpQxBjRJkqSMMaB9iMrKSkaPHr3Tx11zzTXMmjWr8SskSZLaBQOaJElSxnRq6QpkTkoQsXV13bp1nHXWWTz//POcd9559OjRg//5n/8BoKqqihkzZnDMMcfw17/+lSlTptCnTx+ArT8lSZJ2li1otZWUwNSpuZAGkBIrli7lpv79eeSRR5g5cyZr1qxh06ZN3Hnnnfzxj39k6tSpAHzzm99kzpw5zJ07l40bN7bcNUiSpFbPFrQaKcGGDVBWllsvLYWrr+aQd95hj3fegU6dGDRoECklhg4dCkC/fv14/fXXAXjjjTfo27cvAMOGDWuJK5AkSW2ELWg1InKhbMqUXEjr0AFmzmTpbrvx1tVXs3nLFpYsWUJEsHDhQgBeeuklunfvDsAee+xBVVUVAI8//niLXYYkSWr9bEGrrSak1bSiAf0GDmTS5MksW7aMCRMmsOeee7L77rtz6qmn8vLLL1NaWgrA9ddfzxe+8AU+/vGPs8cee7TUFUiSpDbAgFZbSrkxaHn9gMc/85lcaMs/ODBr1iwGDx7MFVdcsc2hI0eO5B//+EczVlaSJLVVdnHWqAlnZWW5bs7q6ve7O2s/OCBJktTECm5Bi4i9gN+Ra3CqBManlNbXKXMA8EdygbAz8LOU0n/l930amAXsBvwZmJJSC6ShCCgqyoWymhazfPclRUVbW9DOP//8Zq+aJElqX6LQLBQR/wdYl1L6UURMA/ZMKV1Wp0yX/Lk2RsRHgSXA8JTSyxHxGHAJ8Ci5gDYjpfR/P+ycxcXFqaKioqB6N6jOPGgfWJckSdoJEbEwpVS8M8c0RhfnWODm/PLNwGl1C6SU3ksp1UwO1rXmvBGxL9A9pfT3fKvZb+o7vlnVDWOGM0mS1MwaI6Dtk1JalV9+BdinvkIRsX9EPAmsAK5LKb0M7AdU1SpWld8mSZLUbu3QGLSIuA/oXc+uy2uvpJRSRNTbZ5pSWgEcHhEfB/4UEb/fmYpGxGRgMrB1QlhJkqS2aIcCWkppdEP7ImJ1ROybUlqV77Jcs53vejkilgDHAA8BtV9a2QdY2cBxNwI3Qm4M2o7UW5IkqTVqjC7OucCE/PIEYE7dAhHRJyJ2yy/vCYwAns13jb4REUdFRABfru94SZKk9qQxAtqPgBMiYhkwOr9ORBRHxE35MocCj0bEE8AC4McppcX5fV8DbgKWA88DH/oEpyRJUltX8DQbLaFJp9mQJElqRC01zYYkSZIaUatsQYuItcCLLV2PFtITeLWlK6FG5T1tm7yvbY/3tG1qjvt6QEqp184c0CoDWnsWERU720yqbPOetk3e17bHe9o2ZfW+2sUpSZKUMQY0SZKkjDGgtT43tnQF1Oi8p22T97Xt8Z62TZm8r45BkyRJyhhb0CRJkjLGgJYREXFyRDwbEcsjYlo9+w+IiPkR8WRElEdEn1r7+kbEXyLimYh4OiL6NWvl1aBdva8RcVxELKr1eTciTmv2C9AHFPh39f9ExFP5v6sz8q+4UwYUeF+vi4gl+c9ZzVtzNSQifh0Ra/Lv/65vf+T/Hi7P39chtfZNiIhl+c+E+o5vciklPy38ATqSe81Vf6AL8ARwWJ0ydwAT8sujgFtq7SsHTsgvfxTYvaWvyU/h97VWmb2Add7Xlv8Uck+B4cBD+e/oCDwCjGzpa/JT8H09FZgHdAI+AjwOdG/pa/KTAI4FhgBLGtj/OXKvlwzgKODR/Pa9gBfyP/fML+/Z3PW3BS0bhgHLU0ovpJTeA34LjK1T5jDg/vzyAzX7I+IwoFNKaR5ASumtlNLbzVNtbccu39c6zgT+r/c1Ewq5pwnoRi4AdAU6A6ubvMbaEYXc18OAv6aUNqeU/hd4Eji5Geqs7Ugp/ZXcP24bMhb4Tcr5O1AUEfsCJwHzUkrrUkrryQXwZr+nBrRs2A9YUWu9Kr+ttieAM/LLpwN7RMTewEHAhoj4Q0T8IyL+IyI6NnmNtSMKua+1nQ38/01SQ+2sXb6nKaVHyP2PfVX+c29K6Zkmrq92TCF/V58ATo6I3SOiJ3AcsH8T11eNo6H7viN/HpqcAa31+Dbw2Yj4B/BZYCWwhVyz+jH5/UPJNdGf30J11M5r6L4CkP/X3KeAe1umetoF9d7TiBgAHAr0Ifcf+1ERcUzLVVM7qd77mlL6C/Bn4GFy/5B6hFp/h6VdZUDLhpVs+y+uPvltW6WUXk4pnZFSOgK4PL9tA7lkvyjfNL8Z+BO5Pne1vELua43xwB9TSpuauK7aMYXc09OBv+eHIbxFbuzL0c1Sa21PQX9XU0rXppQGp5ROIDee6blmqbUK1dB93+6fh+ZgQMuGx4EDI+ITEdGFXJfW3NoFIqJnRNTcr+nAr2sdWxQRNS9hHQU83Qx11vYVcl9rnIPdm1lSyD19iVwLTKeI6EyuFcYuzmzY5fsaER1rhiVExOHA4cBfmq3mKsRc4Mv5pzmPAl5PKa0i12NxYkTsGRF7AifSAr0YBrQMyLd8fZ3cH4BngNtTSk9FxFURMSZfbCTwbEQ8B+wDXJs/dgu5pvf5EbGY3L/eftnMl6B6FHJfAfLTpewPLGjOeqthBd7T35N7UnAxuXFLT6SU7mzO+qt+Bd7XzsDfIuJpcjPSfyn/fWphEVHT5XxwRFRFxIURcVFEXJQv8mdyT2guJ/f/za8BpJTWAVeTC+6PA1fltzVv/fOPlEqSJCkjbEGTJEnKGAOaJElSxhjQJEmSMsaAJkmSlDEGNEmSpIwxoEmSJGWMAU2SJCljDGiSJEkZ8/8Aljp9DgxmEd8AAAAASUVORK5CYII=\n",
       "datasetInfos": [],
       "metadata": {},
       "removedWidgets": [],
       "type": "image"
      }
     },
     "output_type": "display_data"
    }
   ],
   "source": [
    "# compute co-occurrence matrix with fixed window of 4 over the corpus, then using TruncatedSVD to compute 2 dimensional embeddings of each word\n",
    "reuters_corpus = read_corpus()\n",
    "M_co_occurrence, word2ind_co_occurrence = compute_co_occurrence_matrix(reuters_corpus)\n",
    "M_reduced_co_occurrence = reduce_to_k_dim(M_co_occurrence, k=2)\n",
    "\n",
    "# Rescale (normalize) the rows to make them each of unit-length\n",
    "M_lengths = np.linalg.norm(M_reduced_co_occurrence, axis=1)\n",
    "M_normalized = M_reduced_co_occurrence / M_lengths[:, np.newaxis] # broadcasting\n",
    "\n",
    "words = ['barrels', 'bpd', 'ecuador', 'energy', 'industry', 'kuwait', 'oil', 'output', 'petroleum', 'iraq']\n",
    "\n",
    "plot_embeddings(M_normalized, word2ind_co_occurrence, words)"
   ]
  },
  {
   "cell_type": "markdown",
   "metadata": {
    "application/vnd.databricks.v1+cell": {
     "cellMetadata": {},
     "inputWidgets": {},
     "nuid": "ce63e371-32ea-4f62-a5e9-3aa92098224a",
     "showTitle": false,
     "title": ""
    }
   },
   "source": [
    "# Part2, Prediction-based Word Vectors"
   ]
  },
  {
   "cell_type": "code",
   "execution_count": 0,
   "metadata": {
    "application/vnd.databricks.v1+cell": {
     "cellMetadata": {
      "byteLimit": 2048000,
      "rowLimit": 10000
     },
     "inputWidgets": {},
     "nuid": "08db69f5-c41d-41b9-b77d-f53c30b811a0",
     "showTitle": false,
     "title": ""
    }
   },
   "outputs": [],
   "source": [
    "# such as word2vec and GloVe\n",
    "# now let's try GloVe \n",
    "def load_embedding_model():\n",
    "    \"\"\" Load GloVe Vectors\n",
    "        Return:\n",
    "            wv_from_bin: All 400000 embeddings, each lengh 200\n",
    "    \"\"\"\n",
    "    import gensim.downloader as api\n",
    "    wv_from_bin = api.load(\"glove-wiki-gigaword-200\")\n",
    "    print(\"Loaded vocab size %i\" % len(wv_from_bin.key_to_index.keys()))\n",
    "    return wv_from_bin"
   ]
  },
  {
   "cell_type": "code",
   "execution_count": 0,
   "metadata": {
    "application/vnd.databricks.v1+cell": {
     "cellMetadata": {
      "byteLimit": 2048000,
      "rowLimit": 10000
     },
     "inputWidgets": {},
     "nuid": "be0ece50-c4f7-45c0-bbaf-50b91387c4fe",
     "showTitle": false,
     "title": ""
    }
   },
   "outputs": [
    {
     "output_type": "stream",
     "name": "stdout",
     "output_type": "stream",
     "text": [
      "Loaded vocab size 400000\n"
     ]
    }
   ],
   "source": [
    "wv_from_bin = load_embedding_model()"
   ]
  },
  {
   "cell_type": "code",
   "execution_count": 0,
   "metadata": {
    "application/vnd.databricks.v1+cell": {
     "cellMetadata": {
      "byteLimit": 2048000,
      "rowLimit": 10000
     },
     "inputWidgets": {},
     "nuid": "88d05312-2835-4068-84b8-4f7516ec477d",
     "showTitle": false,
     "title": ""
    }
   },
   "outputs": [],
   "source": [
    "# now, put 10000 Glove vectors into a matrix M and run reduce_to_k_dim, reducing the vectors from 200d to 2d\n",
    "def get_matrix_of_vectors(wv_from_bin, required_words=['barrels', 'bpd', 'ecuador', 'energy', 'industry', 'kuwait', 'oil', 'output', 'petroleum', 'iraq']):\n",
    "    \"\"\" Put the GloVe vectors into a matrix M.\n",
    "        Param:\n",
    "            wv_from_bin: KeyedVectors object; the 400000 GloVe vectors loaded from file\n",
    "        Return:\n",
    "            M: numpy matrix shape (num words, 200) containing the vectors\n",
    "            word2ind: dictionary mapping each word to its row number in M\n",
    "    \"\"\"\n",
    "    import random\n",
    "    words = list(wv_from_bin.key_to_index.keys())\n",
    "    print(\"Shuffling words ...\")\n",
    "    random.seed(224)\n",
    "    random.shuffle(words)\n",
    "    words = words[:10000]\n",
    "    print(\"Putting %i words into word2ind and matrix M...\" % len(words))\n",
    "    word2ind = {}\n",
    "    M = []\n",
    "    curInd = 0\n",
    "    for w in words:\n",
    "        try:\n",
    "            M.append(wv_from_bin.word_vec(w))\n",
    "            word2ind[w] = curInd\n",
    "            curInd += 1\n",
    "        except KeyError:\n",
    "            continue\n",
    "    for w in required_words:\n",
    "        if w in words:\n",
    "            continue\n",
    "        try:\n",
    "            M.append(wv_from_bin.word_vec(w))\n",
    "            word2ind[w] = curInd\n",
    "            curInd += 1\n",
    "        except KeyError:\n",
    "            continue\n",
    "    M = np.stack(M)\n",
    "    print(\"Done.\")\n",
    "    return M, word2ind"
   ]
  },
  {
   "cell_type": "code",
   "execution_count": 0,
   "metadata": {
    "application/vnd.databricks.v1+cell": {
     "cellMetadata": {
      "byteLimit": 2048000,
      "rowLimit": 10000
     },
     "inputWidgets": {},
     "nuid": "4457108f-9ae0-473b-a15f-5b4f245c229e",
     "showTitle": false,
     "title": ""
    }
   },
   "outputs": [
    {
     "output_type": "stream",
     "name": "stdout",
     "output_type": "stream",
     "text": [
      "Shuffling words ...\nPutting 10000 words into word2ind and matrix M...\nDone.\nRunning Truncated SVD over 10010 words...\nDone.\n"
     ]
    },
    {
     "output_type": "stream",
     "name": "stderr",
     "output_type": "stream",
     "text": [
      "<command-4086197954919428>:22: DeprecationWarning: Call to deprecated `word_vec` (Use get_vector instead).\n  M.append(wv_from_bin.word_vec(w))\n<command-4086197954919428>:31: DeprecationWarning: Call to deprecated `word_vec` (Use get_vector instead).\n  M.append(wv_from_bin.word_vec(w))\n"
     ]
    }
   ],
   "source": [
    "# -----------------------------------------------------------------\n",
    "# Run Cell to Reduce 200-Dimensional Word Embeddings to k Dimensions\n",
    "# Note: This should be quick to run\n",
    "# -----------------------------------------------------------------\n",
    "M, word2ind = get_matrix_of_vectors(wv_from_bin)\n",
    "M_reduced = reduce_to_k_dim(M, k=2)\n",
    "\n",
    "# Rescale (normalize) the rows to make them each of unit-length\n",
    "M_lengths = np.linalg.norm(M_reduced, axis=1)\n",
    "M_reduced_normalized = M_reduced / M_lengths[:, np.newaxis] # broadcasting"
   ]
  },
  {
   "cell_type": "code",
   "execution_count": 0,
   "metadata": {
    "application/vnd.databricks.v1+cell": {
     "cellMetadata": {
      "byteLimit": 2048000,
      "rowLimit": 10000
     },
     "inputWidgets": {},
     "nuid": "9ffe8f25-3c88-4770-996c-2182677e53fa",
     "showTitle": false,
     "title": ""
    }
   },
   "outputs": [
    {
     "output_type": "display_data",
     "data": {
      "image/png": "[encoded data removed]"
     },
     "metadata": {
      "application/vnd.databricks.v1+output": {
       "addedWidgets": {},
       "arguments": {},
       "data": "data:image/png;base64,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\n",
       "datasetInfos": [],
       "metadata": {},
       "removedWidgets": [],
       "type": "image"
      }
     },
     "output_type": "display_data"
    }
   ],
   "source": [
    "words = ['barrels', 'bpd', 'ecuador', 'energy', 'industry', 'kuwait', 'oil', 'output', 'petroleum', 'iraq']\n",
    "plot_embeddings(M_reduced_normalized, word2ind, words)"
   ]
  },
  {
   "cell_type": "markdown",
   "metadata": {
    "application/vnd.databricks.v1+cell": {
     "cellMetadata": {},
     "inputWidgets": {},
     "nuid": "6deb2568-9430-4fb0-b8ac-d9a9073a79fa",
     "showTitle": false,
     "title": ""
    }
   },
   "source": [
    "# Words with Multiple Meanings, Cosine Similarity"
   ]
  },
  {
   "cell_type": "code",
   "execution_count": 0,
   "metadata": {
    "application/vnd.databricks.v1+cell": {
     "cellMetadata": {},
     "inputWidgets": {},
     "nuid": "1b935112-35c9-4b2d-8f73-1b8676d79e5a",
     "showTitle": false,
     "title": ""
    }
   },
   "outputs": [],
   "source": [
    "\"\"\"\n",
    "to quantify the similarity between individual words, according to these vectors. One such metric is cosine-similarity. We will be using this to find words that are \"close\" and \"far\" from one another.\n",
    "\n",
    "We can think of n-dimensional vectors as points in n-dimensional space. If we take this perspective L1 and L2 Distances help quantify the amount of space \"we must travel\" to get between these two points. Another approach is to examine the angle between two vectors.\n",
    "\"\"\""
   ]
  },
  {
   "cell_type": "code",
   "execution_count": 0,
   "metadata": {
    "application/vnd.databricks.v1+cell": {
     "cellMetadata": {
      "byteLimit": 2048000,
      "rowLimit": 10000
     },
     "inputWidgets": {},
     "nuid": "b5c4ab6e-7557-4a4b-a40b-af0a80ff464c",
     "showTitle": false,
     "title": ""
    }
   },
   "outputs": [
    {
     "output_type": "stream",
     "name": "stdout",
     "output_type": "stream",
     "text": [
      "Out[113]: [('iraqi', 0.8302668929100037),\n ('baghdad', 0.7587838172912598),\n ('iraqis', 0.7463918924331665),\n ('saddam', 0.7361562252044678),\n ('afghanistan', 0.7351369261741638),\n ('u.s.-led', 0.681342601776123),\n ('kuwait', 0.6784886121749878),\n ('hussein', 0.6759830117225647),\n ('us', 0.6694380044937134),\n ('iran', 0.645396888256073)]"
     ]
    }
   ],
   "source": [
    "wv_from_bin.most_similar('iraq')# this using cosine similarity to get top10 similar word with this word"
   ]
  },
  {
   "cell_type": "markdown",
   "metadata": {
    "application/vnd.databricks.v1+cell": {
     "cellMetadata": {},
     "inputWidgets": {},
     "nuid": "372eddcf-f301-4342-9b3a-6892643c7ce3",
     "showTitle": false,
     "title": ""
    }
   },
   "source": [
    "# Word Distance, Cosine Distance"
   ]
  },
  {
   "cell_type": "code",
   "execution_count": 0,
   "metadata": {
    "application/vnd.databricks.v1+cell": {
     "cellMetadata": {},
     "inputWidgets": {},
     "nuid": "202faf8d-5832-4f8c-823d-06161190a33f",
     "showTitle": false,
     "title": ""
    }
   },
   "outputs": [],
   "source": [
    "# cosine distance is 1 - cosine similarity"
   ]
  },
  {
   "cell_type": "code",
   "execution_count": 0,
   "metadata": {
    "application/vnd.databricks.v1+cell": {
     "cellMetadata": {},
     "inputWidgets": {},
     "nuid": "f220933e-a4c5-4dce-a30d-eb7534d17bba",
     "showTitle": false,
     "title": ""
    }
   },
   "outputs": [],
   "source": [
    "# we could use wv_from_bin.distance(w1,w2)"
   ]
  },
  {
   "cell_type": "code",
   "execution_count": 0,
   "metadata": {
    "application/vnd.databricks.v1+cell": {
     "cellMetadata": {
      "byteLimit": 2048000,
      "rowLimit": 10000
     },
     "inputWidgets": {},
     "nuid": "194ae4a1-d60b-4768-8ac6-76c2f77177d7",
     "showTitle": false,
     "title": ""
    }
   },
   "outputs": [
    {
     "output_type": "stream",
     "name": "stdout",
     "output_type": "stream",
     "text": [
      "Out[115]: True"
     ]
    }
   ],
   "source": [
    "\n",
    "w1 = 'us'\n",
    "w2 = 'sad'\n",
    "w3 = 'cheerful'\n",
    "a=wv_from_bin.distance(w1,w2)\n",
    "b=wv_from_bin.distance(w1,w3)\n",
    "\n",
    "b>a # so, b's distance between 'us' and 'cheerful' is bigger than 'sad' and 'cheerful'"
   ]
  },
  {
   "cell_type": "markdown",
   "metadata": {
    "application/vnd.databricks.v1+cell": {
     "cellMetadata": {},
     "inputWidgets": {},
     "nuid": "1cd8af73-ef6e-4f37-9b36-82db7e958cd3",
     "showTitle": false,
     "title": ""
    }
   },
   "source": [
    "# Analogies"
   ]
  },
  {
   "cell_type": "code",
   "execution_count": 0,
   "metadata": {
    "application/vnd.databricks.v1+cell": {
     "cellMetadata": {
      "byteLimit": 2048000,
      "rowLimit": 10000
     },
     "inputWidgets": {},
     "nuid": "0e4a6d20-a382-4f09-b192-4fcdc00c0143",
     "showTitle": false,
     "title": ""
    }
   },
   "outputs": [
    {
     "output_type": "stream",
     "name": "stdout",
     "output_type": "stream",
     "text": [
      "[('queen', 0.6978678107261658),\n ('princess', 0.6081745028495789),\n ('monarch', 0.5889754891395569),\n ('throne', 0.5775108933448792),\n ('prince', 0.5750998258590698),\n ('elizabeth', 0.5463595986366272),\n ('daughter', 0.5399126410484314),\n ('kingdom', 0.5318052768707275),\n ('mother', 0.5168544054031372),\n ('crown', 0.5164473056793213)]\n"
     ]
    }
   ],
   "source": [
    "# man:king :: woman:x\n",
    "pprint.pprint(wv_from_bin.most_similar(positive=['woman', 'king'], negative=['man'])) # the cosine similarity of k to m is almost same as x to w,\n",
    "# k is 'woman', m is 'king', and x is 'man'"
   ]
  },
  {
   "cell_type": "code",
   "execution_count": 0,
   "metadata": {
    "application/vnd.databricks.v1+cell": {
     "cellMetadata": {
      "byteLimit": 2048000,
      "rowLimit": 10000
     },
     "inputWidgets": {},
     "nuid": "57281c60-08bb-45a5-ab71-535c023068b0",
     "showTitle": false,
     "title": ""
    }
   },
   "outputs": [
    {
     "output_type": "stream",
     "name": "stdout",
     "output_type": "stream",
     "text": [
      "[('actress', 0.857262372970581),\n ('actresses', 0.6734700798988342),\n ('actors', 0.6297088265419006),\n ('starring', 0.6084522008895874),\n ('starred', 0.5989463925361633),\n ('screenwriter', 0.595988929271698),\n ('dancer', 0.5881682634353638),\n ('comedian', 0.5791140794754028),\n ('singer', 0.5661861896514893),\n ('married', 0.5574131011962891)]\n[('france', 0.7870438694953918),\n ('french', 0.6070881485939026),\n ('prohertrib', 0.6016789674758911),\n ('belgium', 0.5547007918357849),\n ('luxembourg', 0.5541552305221558),\n ('germany', 0.5328680276870728),\n ('europe', 0.5266215801239014),\n ('switzerland', 0.523548424243927),\n ('spain', 0.5062301754951477),\n ('european', 0.4787704646587372)]\n"
     ]
    }
   ],
   "source": [
    "pprint.pprint(wv_from_bin.most_similar(positive=['woman','actor'], negative=['man']))\n",
    "pprint.pprint(wv_from_bin.most_similar(positive=['paris', 'italy'], negative=['rome']))"
   ]
  },
  {
   "cell_type": "markdown",
   "metadata": {
    "application/vnd.databricks.v1+cell": {
     "cellMetadata": {},
     "inputWidgets": {},
     "nuid": "339936df-70fb-4471-a5bf-9ec86a4e12bd",
     "showTitle": false,
     "title": ""
    }
   },
   "source": [
    "# Incorrect Analogies based on embeddings"
   ]
  },
  {
   "cell_type": "code",
   "execution_count": 0,
   "metadata": {
    "application/vnd.databricks.v1+cell": {
     "cellMetadata": {
      "byteLimit": 2048000,
      "rowLimit": 10000
     },
     "inputWidgets": {},
     "nuid": "2d747db0-008a-4dd2-8aa6-90acd42e8aeb",
     "showTitle": false,
     "title": ""
    }
   },
   "outputs": [
    {
     "output_type": "stream",
     "name": "stdout",
     "output_type": "stream",
     "text": [
      "[('45,000-square', 0.4922032654285431),\n ('15,000-square', 0.4649604558944702),\n ('10,000-square', 0.4544755816459656),\n ('6,000-square', 0.44975775480270386),\n ('3,500-square', 0.444133460521698),\n ('700-square', 0.44257497787475586),\n ('50,000-square', 0.4356396794319153),\n ('3,000-square', 0.43486514687538147),\n ('30,000-square', 0.4330596923828125),\n ('footed', 0.43236875534057617)]\n[('pakistan', 0.663392961025238),\n ('lanka', 0.6324368715286255),\n ('australia', 0.6204169392585754),\n ('bangladesh', 0.5887335538864136),\n ('sri', 0.5656459331512451),\n ('zimbabwe', 0.5137112140655518),\n ('indies', 0.5070440769195557),\n ('delhi', 0.49937036633491516),\n ('africa', 0.49442628026008606),\n ('zealand', 0.4904975891113281)]\n[('nbc', 0.3861715793609619),\n ('betsy', 0.38571250438690186),\n ('channing', 0.38541948795318604),\n ('abc', 0.3780362904071808),\n ('jamie', 0.373534619808197),\n ('carol', 0.36515089869499207),\n ('bonnie', 0.3609510660171509),\n ('turner', 0.3577595055103302),\n ('jennings', 0.3513510525226593),\n ('kelley', 0.3491186201572418)]\n"
     ]
    }
   ],
   "source": [
    "pprint.pprint(wv_from_bin.most_similar(positive=[\"foot\", \"glove\"], negative=[\"hand\"]))\n",
    "pprint.pprint(wv_from_bin.most_similar(positive=[\"england\", \"india\"], negative=[\"english\"]))\n",
    "pprint.pprint(wv_from_bin.most_similar(positive=[\"america\", \"peacock\"], negative=[\"india\"]))"
   ]
  },
  {
   "cell_type": "markdown",
   "metadata": {
    "application/vnd.databricks.v1+cell": {
     "cellMetadata": {},
     "inputWidgets": {},
     "nuid": "27569ffc-7a4f-4277-bef6-05c1c61f5d6f",
     "showTitle": false,
     "title": ""
    }
   },
   "source": [
    "# Bias Analyses in Word Vecs"
   ]
  },
  {
   "cell_type": "code",
   "execution_count": 0,
   "metadata": {
    "application/vnd.databricks.v1+cell": {
     "cellMetadata": {
      "byteLimit": 2048000,
      "rowLimit": 10000
     },
     "inputWidgets": {},
     "nuid": "62e3594d-ac60-4fe0-b320-9142660cbafc",
     "showTitle": false,
     "title": ""
    }
   },
   "outputs": [
    {
     "output_type": "stream",
     "name": "stdout",
     "output_type": "stream",
     "text": [
      "[('employee', 0.6375863552093506),\n ('workers', 0.6068920493125916),\n ('nurse', 0.5837947130203247),\n ('pregnant', 0.5363885164260864),\n ('mother', 0.5321308970451355),\n ('employer', 0.5127025842666626),\n ('teacher', 0.5099576711654663),\n ('child', 0.5096741318702698),\n ('homemaker', 0.5019454956054688),\n ('nurses', 0.4970572590827942)]\n\n[('workers', 0.611325740814209),\n ('employee', 0.5983108878135681),\n ('working', 0.5615329742431641),\n ('laborer', 0.5442320108413696),\n ('unemployed', 0.536851704120636),\n ('job', 0.5278826355934143),\n ('work', 0.5223963856697083),\n ('mechanic', 0.5088937282562256),\n ('worked', 0.5054520964622498),\n ('factory', 0.4940454363822937)]\n"
     ]
    }
   ],
   "source": [
    "\n",
    "# It's important to be cognizant of the biases (gender, race, sexual orientation etc.) implicit in our word embeddings. Bias can be dangerous because it can reinforce stereotypes through applications that employ these models.\n",
    "\n",
    "\n",
    "# Here `positive` indicates the list of words to be similar to and `negative` indicates the list of words to be\n",
    "# most dissimilar from.\n",
    "pprint.pprint(wv_from_bin.most_similar(positive=['woman', 'worker'], negative=['man']))\n",
    "print()\n",
    "pprint.pprint(wv_from_bin.most_similar(positive=['man', 'worker'], negative=['woman']))"
   ]
  },
  {
   "cell_type": "code",
   "execution_count": 0,
   "metadata": {
    "application/vnd.databricks.v1+cell": {
     "cellMetadata": {},
     "inputWidgets": {},
     "nuid": "3c8ab0bb-5313-4bf9-8b99-aa62628389c2",
     "showTitle": false,
     "title": ""
    }
   },
   "outputs": [],
   "source": [
    "# Nurse, teacher, homemaker are among the top 10 terms most similar to \"woman\" and \"worker\" but most disimilar to \"man\".\n",
    "# Laborer, mechanic and factory are examples of terms most similar to \"man\" and \"worker\" but most disimilar to \"woman\"."
   ]
  },
  {
   "cell_type": "markdown",
   "metadata": {
    "application/vnd.databricks.v1+cell": {
     "cellMetadata": {},
     "inputWidgets": {},
     "nuid": "48f0fdee-4158-419e-87ad-80c1b5675cfe",
     "showTitle": false,
     "title": ""
    }
   },
   "source": [
    "# Independent Analysis of Bias"
   ]
  },
  {
   "cell_type": "code",
   "execution_count": 0,
   "metadata": {
    "application/vnd.databricks.v1+cell": {
     "cellMetadata": {
      "byteLimit": 2048000,
      "rowLimit": 10000
     },
     "inputWidgets": {},
     "nuid": "88c0fdc2-fb9c-4c63-a108-b9e9ea7bd5e6",
     "showTitle": false,
     "title": ""
    }
   },
   "outputs": [
    {
     "output_type": "stream",
     "name": "stdout",
     "output_type": "stream",
     "text": [
      "[('professions', 0.5957457423210144),\n ('practitioner', 0.49884122610092163),\n ('teaching', 0.48292139172554016),\n ('nursing', 0.48211804032325745),\n ('vocation', 0.4788965880870819),\n ('teacher', 0.47160351276397705),\n ('practicing', 0.46937814354896545),\n ('educator', 0.46524327993392944),\n ('physicians', 0.4628995358943939),\n ('professionals', 0.4601394236087799)]\n[('reputation', 0.5250176787376404),\n ('professions', 0.5178037881851196),\n ('skill', 0.49046966433525085),\n ('skills', 0.49005505442619324),\n ('ethic', 0.4897659420967102),\n ('business', 0.4875852167606354),\n ('respected', 0.485920250415802),\n ('practice', 0.482104629278183),\n ('regarded', 0.4778572618961334),\n ('life', 0.4760662019252777)]\n"
     ]
    }
   ],
   "source": [
    "# use the most_similar function to find another case where some bias is exhibited by the vectors\n",
    "pprint.pprint(wv_from_bin.most_similar(positive=['woman', 'profession'], negative=['man']))\n",
    "pprint.pprint(wv_from_bin.most_similar(positive=['man', 'profession'], negative=['woman']))\n",
    "\n",
    "\"\"\"\n",
    "The professions that are most similar to \"man\" but most dissimilar to \"woman\" draws up a range of careers such as physicians, educator/teacher etc. and also features keywords such as practitioner and professionals.\n",
    "On the flipside, the embeddings that are most similar to \"woman\" and profession but most dissimilar to \"man\" are reputation, skills, ethic, business, etc.\n",
    "This example thus exhibits a clear bias in gender-specific career choices, since careers like physicians, educator/teacher have more similarity to \"man\" than \"woman\".\n",
    "\"\"\""
   ]
  },
  {
   "cell_type": "code",
   "execution_count": 0,
   "metadata": {
    "application/vnd.databricks.v1+cell": {
     "cellMetadata": {},
     "inputWidgets": {},
     "nuid": "87db5087-f6c3-49c2-b4f4-be71fe984c66",
     "showTitle": false,
     "title": ""
    }
   },
   "outputs": [],
   "source": [
    "# to test the source of bias, we can compute a vector g = ewoman - eman, where ewoman is the word vector of woman and eman is the word vector corresponding to the word man, this g could roughly encode the concept of gender, them by comparing the distance between g and a list of professions, or other types of words, we can uncover unhealthy gender stereotypes\n",
    "\n",
    "# Further, using an equalization algorithm proposed by Boliukbasi et al. (2016), we can debias word vectors to some extent by modifying them to reduce gender stereotypes (but not eliminate it altogether)."
   ]
  }
 ],
 "metadata": {
  "application/vnd.databricks.v1+notebook": {
   "dashboards": [],
   "language": "python",
   "notebookMetadata": {
    "pythonIndentUnit": 2
   },
   "notebookName": "1.2 Co-occurrrence matrices SVD and GloVe",
   "widgets": {}
  }
 },
 "nbformat": 4,
 "nbformat_minor": 0
}
